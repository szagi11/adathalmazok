{
    "metadata": {
        "kernelspec": {
            "name": "SQL",
            "display_name": "SQL",
            "language": "sql"
        },
        "language_info": {
            "name": "sql",
            "version": ""
        }
    },
    "nbformat_minor": 2,
    "nbformat": 4,
    "cells": [
        {
            "cell_type": "markdown",
            "source": [
                "Adatprofilozás\n",
                "\n",
                "Az adatprofilozás egy olyan folyamat, amely során az adatokat alaposan megvizsgáljuk, hogy megértsük azok szerkezetét, tartalmát és minőségét. Segít azonosítani az adatproblémákat, mint például a hiányzó értékeket, érvénytelen adatokat, vagy a következetlenségeket.\n",
                "\n",
                "Választott tábla: Termékek\n",
                "\n",
                "A webshop adatbázisban a \"Termékek\" tábla érdekes lehet az adatprofilozáshoz, mert sokféle információt tartalmaz a termékekről."
            ],
            "metadata": {
                "azdata_cell_guid": "9b2b13c5-f973-4290-8d34-af571282ecac"
            },
            "attachments": {}
        },
        {
            "cell_type": "markdown",
            "source": [
                "NULL értékek száma és százalékos aránya a \"Leírás\" oszlopban"
            ],
            "metadata": {
                "azdata_cell_guid": "bccf767c-1122-410b-ba45-000e90d87d83"
            },
            "attachments": {}
        },
        {
            "cell_type": "code",
            "source": [
                "SELECT\r\n",
                "    COUNT(*) AS OsszesSor,\r\n",
                "    COUNT(CASE WHEN Leiras IS NULL THEN 1 END) AS NullErtekekSzama,\r\n",
                "    (COUNT(CASE WHEN Leiras IS NULL THEN 1 END) * 100.0 / COUNT(*)) AS NullErtekekSzazalek\r\n",
                "FROM Termek"
            ],
            "metadata": {
                "azdata_cell_guid": "f9032a17-7249-4dff-82e1-c49e3160560d",
                "language": "sql"
            },
            "outputs": [
                {
                    "output_type": "display_data",
                    "data": {
                        "text/html": "Warning: Null value is eliminated by an aggregate or other SET operation."
                    },
                    "metadata": {}
                },
                {
                    "output_type": "display_data",
                    "data": {
                        "text/html": "(1 row affected)"
                    },
                    "metadata": {}
                },
                {
                    "output_type": "display_data",
                    "data": {
                        "text/html": "Total execution time: 00:00:00.144"
                    },
                    "metadata": {}
                },
                {
                    "output_type": "execute_result",
                    "metadata": {},
                    "execution_count": 6,
                    "data": {
                        "application/vnd.dataresource+json": {
                            "schema": {
                                "fields": [
                                    {
                                        "name": "OsszesSor"
                                    },
                                    {
                                        "name": "NullErtekekSzama"
                                    },
                                    {
                                        "name": "NullErtekekSzazalek"
                                    }
                                ]
                            },
                            "data": [
                                {
                                    "OsszesSor": "551",
                                    "NullErtekekSzama": "527",
                                    "NullErtekekSzazalek": "95.644283121597"
                                }
                            ]
                        },
                        "text/html": [
                            "<table>",
                            "<tr><th>OsszesSor</th><th>NullErtekekSzama</th><th>NullErtekekSzazalek</th></tr>",
                            "<tr><td>551</td><td>527</td><td>95.644283121597</td></tr>",
                            "</table>"
                        ]
                    }
                }
            ],
            "execution_count": 6
        },
        {
            "cell_type": "markdown",
            "source": [
                "![](data:image/png;base64,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)"
            ],
            "metadata": {
                "language": "sql",
                "azdata_cell_guid": "a94a56c8-5626-48ab-8de1-6898eeb273b2"
            },
            "attachments": {}
        },
        {
            "cell_type": "markdown",
            "source": [
                "Legkisebb és legnagyobb érték a \"Listaár\" oszlopban"
            ],
            "metadata": {
                "language": "sql",
                "azdata_cell_guid": "2253779e-d7a6-4f02-b016-3f2746fbd8ca"
            },
            "attachments": {}
        },
        {
            "cell_type": "code",
            "source": [
                "SELECT\r\n",
                "    MIN(Listaar) AS LegkisebbListaar,\r\n",
                "    MAX(Listaar) AS LegnagyobbListaar\r\n",
                "FROM Termek"
            ],
            "metadata": {
                "language": "sql",
                "azdata_cell_guid": "73879e60-b875-4840-b3d5-3a46c8eb6eb2"
            },
            "outputs": [
                {
                    "output_type": "display_data",
                    "data": {
                        "text/html": "(1 row affected)"
                    },
                    "metadata": {}
                },
                {
                    "output_type": "display_data",
                    "data": {
                        "text/html": "Total execution time: 00:00:00.060"
                    },
                    "metadata": {}
                },
                {
                    "output_type": "execute_result",
                    "metadata": {},
                    "execution_count": 7,
                    "data": {
                        "application/vnd.dataresource+json": {
                            "schema": {
                                "fields": [
                                    {
                                        "name": "LegkisebbListaar"
                                    },
                                    {
                                        "name": "LegnagyobbListaar"
                                    }
                                ]
                            },
                            "data": [
                                {
                                    "LegkisebbListaar": "0",
                                    "LegnagyobbListaar": "46000"
                                }
                            ]
                        },
                        "text/html": [
                            "<table>",
                            "<tr><th>LegkisebbListaar</th><th>LegnagyobbListaar</th></tr>",
                            "<tr><td>0</td><td>46000</td></tr>",
                            "</table>"
                        ]
                    }
                }
            ],
            "execution_count": 7
        },
        {
            "cell_type": "markdown",
            "source": [
                "Értékek eloszlása a \"Kat\\_ID\" oszlopban"
            ],
            "metadata": {
                "azdata_cell_guid": "216132b7-188e-4d6b-b47e-7651b507d11b"
            },
            "attachments": {}
        },
        {
            "cell_type": "code",
            "source": [
                "SELECT\r\n",
                "    Kat_ID,\r\n",
                "    COUNT(*) AS TermekekSzama\r\n",
                "FROM Termek\r\n",
                "GROUP BY Kat_ID\r\n",
                "ORDER BY TermekekSzama DESC;"
            ],
            "metadata": {
                "azdata_cell_guid": "03c65407-b9f2-4ea3-8bbf-d3d360ff7d2f",
                "language": "sql"
            },
            "outputs": [
                {
                    "output_type": "display_data",
                    "data": {
                        "text/html": "(143 rows affected)"
                    },
                    "metadata": {}
                },
                {
                    "output_type": "display_data",
                    "data": {
                        "text/html": "Total execution time: 00:00:00.090"
                    },
                    "metadata": {}
                },
                {
                    "output_type": "execute_result",
                    "metadata": {},
                    "execution_count": 8,
                    "data": {
                        "application/vnd.dataresource+json": {
                            "schema": {
                                "fields": [
                                    {
                                        "name": "Kat_ID"
                                    },
                                    {
                                        "name": "TermekekSzama"
                                    }
                                ]
                            },
                            "data": [
                                {
                                    "Kat_ID": "52",
                                    "TermekekSzama": "26"
                                },
                                {
                                    "Kat_ID": "78",
                                    "TermekekSzama": "24"
                                },
                                {
                                    "Kat_ID": "6",
                                    "TermekekSzama": "20"
                                },
                                {
                                    "Kat_ID": "19",
                                    "TermekekSzama": "19"
                                },
                                {
                                    "Kat_ID": "145",
                                    "TermekekSzama": "18"
                                },
                                {
                                    "Kat_ID": "85",
                                    "TermekekSzama": "16"
                                },
                                {
                                    "Kat_ID": "4",
                                    "TermekekSzama": "15"
                                },
                                {
                                    "Kat_ID": "41",
                                    "TermekekSzama": "13"
                                },
                                {
                                    "Kat_ID": "45",
                                    "TermekekSzama": "11"
                                },
                                {
                                    "Kat_ID": "97",
                                    "TermekekSzama": "10"
                                },
                                {
                                    "Kat_ID": "124",
                                    "TermekekSzama": "10"
                                },
                                {
                                    "Kat_ID": "100",
                                    "TermekekSzama": "9"
                                },
                                {
                                    "Kat_ID": "96",
                                    "TermekekSzama": "9"
                                },
                                {
                                    "Kat_ID": "118",
                                    "TermekekSzama": "9"
                                },
                                {
                                    "Kat_ID": "91",
                                    "TermekekSzama": "7"
                                },
                                {
                                    "Kat_ID": "93",
                                    "TermekekSzama": "7"
                                },
                                {
                                    "Kat_ID": "122",
                                    "TermekekSzama": "7"
                                },
                                {
                                    "Kat_ID": "146",
                                    "TermekekSzama": "7"
                                },
                                {
                                    "Kat_ID": "46",
                                    "TermekekSzama": "7"
                                },
                                {
                                    "Kat_ID": "66",
                                    "TermekekSzama": "7"
                                },
                                {
                                    "Kat_ID": "35",
                                    "TermekekSzama": "7"
                                },
                                {
                                    "Kat_ID": "24",
                                    "TermekekSzama": "7"
                                },
                                {
                                    "Kat_ID": "30",
                                    "TermekekSzama": "7"
                                },
                                {
                                    "Kat_ID": "16",
                                    "TermekekSzama": "7"
                                },
                                {
                                    "Kat_ID": "54",
                                    "TermekekSzama": "6"
                                },
                                {
                                    "Kat_ID": "149",
                                    "TermekekSzama": "6"
                                },
                                {
                                    "Kat_ID": "152",
                                    "TermekekSzama": "6"
                                },
                                {
                                    "Kat_ID": "133",
                                    "TermekekSzama": "6"
                                },
                                {
                                    "Kat_ID": "83",
                                    "TermekekSzama": "6"
                                },
                                {
                                    "Kat_ID": "76",
                                    "TermekekSzama": "5"
                                },
                                {
                                    "Kat_ID": "106",
                                    "TermekekSzama": "5"
                                },
                                {
                                    "Kat_ID": "138",
                                    "TermekekSzama": "5"
                                },
                                {
                                    "Kat_ID": "60",
                                    "TermekekSzama": "5"
                                },
                                {
                                    "Kat_ID": "21",
                                    "TermekekSzama": "5"
                                },
                                {
                                    "Kat_ID": "28",
                                    "TermekekSzama": "5"
                                },
                                {
                                    "Kat_ID": "36",
                                    "TermekekSzama": "5"
                                },
                                {
                                    "Kat_ID": "25",
                                    "TermekekSzama": "4"
                                },
                                {
                                    "Kat_ID": "14",
                                    "TermekekSzama": "4"
                                },
                                {
                                    "Kat_ID": "64",
                                    "TermekekSzama": "4"
                                },
                                {
                                    "Kat_ID": "79",
                                    "TermekekSzama": "4"
                                },
                                {
                                    "Kat_ID": "56",
                                    "TermekekSzama": "4"
                                },
                                {
                                    "Kat_ID": "59",
                                    "TermekekSzama": "4"
                                },
                                {
                                    "Kat_ID": "47",
                                    "TermekekSzama": "4"
                                },
                                {
                                    "Kat_ID": "125",
                                    "TermekekSzama": "4"
                                },
                                {
                                    "Kat_ID": "154",
                                    "TermekekSzama": "4"
                                },
                                {
                                    "Kat_ID": "151",
                                    "TermekekSzama": "4"
                                },
                                {
                                    "Kat_ID": "98",
                                    "TermekekSzama": "4"
                                },
                                {
                                    "Kat_ID": "89",
                                    "TermekekSzama": "3"
                                },
                                {
                                    "Kat_ID": "119",
                                    "TermekekSzama": "3"
                                },
                                {
                                    "Kat_ID": "111",
                                    "TermekekSzama": "3"
                                },
                                {
                                    "Kat_ID": "143",
                                    "TermekekSzama": "3"
                                },
                                {
                                    "Kat_ID": "137",
                                    "TermekekSzama": "3"
                                },
                                {
                                    "Kat_ID": "43",
                                    "TermekekSzama": "3"
                                },
                                {
                                    "Kat_ID": "27",
                                    "TermekekSzama": "3"
                                },
                                {
                                    "Kat_ID": "51",
                                    "TermekekSzama": "3"
                                },
                                {
                                    "Kat_ID": "58",
                                    "TermekekSzama": "3"
                                },
                                {
                                    "Kat_ID": "70",
                                    "TermekekSzama": "3"
                                },
                                {
                                    "Kat_ID": "5",
                                    "TermekekSzama": "3"
                                },
                                {
                                    "Kat_ID": "7",
                                    "TermekekSzama": "3"
                                },
                                {
                                    "Kat_ID": "8",
                                    "TermekekSzama": "3"
                                },
                                {
                                    "Kat_ID": "20",
                                    "TermekekSzama": "3"
                                },
                                {
                                    "Kat_ID": "32",
                                    "TermekekSzama": "3"
                                },
                                {
                                    "Kat_ID": "39",
                                    "TermekekSzama": "2"
                                },
                                {
                                    "Kat_ID": "22",
                                    "TermekekSzama": "2"
                                },
                                {
                                    "Kat_ID": "13",
                                    "TermekekSzama": "2"
                                },
                                {
                                    "Kat_ID": "18",
                                    "TermekekSzama": "2"
                                },
                                {
                                    "Kat_ID": "9",
                                    "TermekekSzama": "2"
                                },
                                {
                                    "Kat_ID": "71",
                                    "TermekekSzama": "2"
                                },
                                {
                                    "Kat_ID": "72",
                                    "TermekekSzama": "2"
                                },
                                {
                                    "Kat_ID": "73",
                                    "TermekekSzama": "2"
                                },
                                {
                                    "Kat_ID": "65",
                                    "TermekekSzama": "2"
                                },
                                {
                                    "Kat_ID": "67",
                                    "TermekekSzama": "2"
                                },
                                {
                                    "Kat_ID": "68",
                                    "TermekekSzama": "2"
                                },
                                {
                                    "Kat_ID": "62",
                                    "TermekekSzama": "2"
                                },
                                {
                                    "Kat_ID": "75",
                                    "TermekekSzama": "2"
                                },
                                {
                                    "Kat_ID": "57",
                                    "TermekekSzama": "2"
                                },
                                {
                                    "Kat_ID": "55",
                                    "TermekekSzama": "2"
                                },
                                {
                                    "Kat_ID": "48",
                                    "TermekekSzama": "2"
                                },
                                {
                                    "Kat_ID": "49",
                                    "TermekekSzama": "2"
                                },
                                {
                                    "Kat_ID": "136",
                                    "TermekekSzama": "2"
                                },
                                {
                                    "Kat_ID": "134",
                                    "TermekekSzama": "2"
                                },
                                {
                                    "Kat_ID": "141",
                                    "TermekekSzama": "2"
                                },
                                {
                                    "Kat_ID": "123",
                                    "TermekekSzama": "2"
                                },
                                {
                                    "Kat_ID": "127",
                                    "TermekekSzama": "2"
                                },
                                {
                                    "Kat_ID": "128",
                                    "TermekekSzama": "2"
                                },
                                {
                                    "Kat_ID": "129",
                                    "TermekekSzama": "2"
                                },
                                {
                                    "Kat_ID": "144",
                                    "TermekekSzama": "2"
                                },
                                {
                                    "Kat_ID": "150",
                                    "TermekekSzama": "2"
                                },
                                {
                                    "Kat_ID": "112",
                                    "TermekekSzama": "2"
                                },
                                {
                                    "Kat_ID": "121",
                                    "TermekekSzama": "2"
                                },
                                {
                                    "Kat_ID": "116",
                                    "TermekekSzama": "2"
                                },
                                {
                                    "Kat_ID": "117",
                                    "TermekekSzama": "2"
                                },
                                {
                                    "Kat_ID": "110",
                                    "TermekekSzama": "2"
                                },
                                {
                                    "Kat_ID": "104",
                                    "TermekekSzama": "2"
                                },
                                {
                                    "Kat_ID": "90",
                                    "TermekekSzama": "2"
                                },
                                {
                                    "Kat_ID": "88",
                                    "TermekekSzama": "2"
                                },
                                {
                                    "Kat_ID": "94",
                                    "TermekekSzama": "2"
                                },
                                {
                                    "Kat_ID": "95",
                                    "TermekekSzama": "2"
                                },
                                {
                                    "Kat_ID": "92",
                                    "TermekekSzama": "2"
                                },
                                {
                                    "Kat_ID": "99",
                                    "TermekekSzama": "1"
                                },
                                {
                                    "Kat_ID": "101",
                                    "TermekekSzama": "1"
                                },
                                {
                                    "Kat_ID": "103",
                                    "TermekekSzama": "1"
                                },
                                {
                                    "Kat_ID": "84",
                                    "TermekekSzama": "1"
                                },
                                {
                                    "Kat_ID": "86",
                                    "TermekekSzama": "1"
                                },
                                {
                                    "Kat_ID": "105",
                                    "TermekekSzama": "1"
                                },
                                {
                                    "Kat_ID": "107",
                                    "TermekekSzama": "1"
                                },
                                {
                                    "Kat_ID": "108",
                                    "TermekekSzama": "1"
                                },
                                {
                                    "Kat_ID": "109",
                                    "TermekekSzama": "1"
                                },
                                {
                                    "Kat_ID": "114",
                                    "TermekekSzama": "1"
                                },
                                {
                                    "Kat_ID": "115",
                                    "TermekekSzama": "1"
                                },
                                {
                                    "Kat_ID": "147",
                                    "TermekekSzama": "1"
                                },
                                {
                                    "Kat_ID": "148",
                                    "TermekekSzama": "1"
                                },
                                {
                                    "Kat_ID": "155",
                                    "TermekekSzama": "1"
                                },
                                {
                                    "Kat_ID": "153",
                                    "TermekekSzama": "1"
                                },
                                {
                                    "Kat_ID": "130",
                                    "TermekekSzama": "1"
                                },
                                {
                                    "Kat_ID": "131",
                                    "TermekekSzama": "1"
                                },
                                {
                                    "Kat_ID": "132",
                                    "TermekekSzama": "1"
                                },
                                {
                                    "Kat_ID": "126",
                                    "TermekekSzama": "1"
                                },
                                {
                                    "Kat_ID": "142",
                                    "TermekekSzama": "1"
                                },
                                {
                                    "Kat_ID": "139",
                                    "TermekekSzama": "1"
                                },
                                {
                                    "Kat_ID": "140",
                                    "TermekekSzama": "1"
                                },
                                {
                                    "Kat_ID": "135",
                                    "TermekekSzama": "1"
                                },
                                {
                                    "Kat_ID": "50",
                                    "TermekekSzama": "1"
                                },
                                {
                                    "Kat_ID": "44",
                                    "TermekekSzama": "1"
                                },
                                {
                                    "Kat_ID": "53",
                                    "TermekekSzama": "1"
                                },
                                {
                                    "Kat_ID": "80",
                                    "TermekekSzama": "1"
                                },
                                {
                                    "Kat_ID": "82",
                                    "TermekekSzama": "1"
                                },
                                {
                                    "Kat_ID": "61",
                                    "TermekekSzama": "1"
                                },
                                {
                                    "Kat_ID": "74",
                                    "TermekekSzama": "1"
                                },
                                {
                                    "Kat_ID": "10",
                                    "TermekekSzama": "1"
                                },
                                {
                                    "Kat_ID": "11",
                                    "TermekekSzama": "1"
                                },
                                {
                                    "Kat_ID": "12",
                                    "TermekekSzama": "1"
                                },
                                {
                                    "Kat_ID": "15",
                                    "TermekekSzama": "1"
                                },
                                {
                                    "Kat_ID": "17",
                                    "TermekekSzama": "1"
                                },
                                {
                                    "Kat_ID": "40",
                                    "TermekekSzama": "1"
                                },
                                {
                                    "Kat_ID": "42",
                                    "TermekekSzama": "1"
                                },
                                {
                                    "Kat_ID": "37",
                                    "TermekekSzama": "1"
                                },
                                {
                                    "Kat_ID": "38",
                                    "TermekekSzama": "1"
                                },
                                {
                                    "Kat_ID": "33",
                                    "TermekekSzama": "1"
                                },
                                {
                                    "Kat_ID": "34",
                                    "TermekekSzama": "1"
                                },
                                {
                                    "Kat_ID": "31",
                                    "TermekekSzama": "1"
                                },
                                {
                                    "Kat_ID": "26",
                                    "TermekekSzama": "1"
                                },
                                {
                                    "Kat_ID": "29",
                                    "TermekekSzama": "1"
                                }
                            ]
                        },
                        "text/html": [
                            "<table>",
                            "<tr><th>Kat_ID</th><th>TermekekSzama</th></tr>",
                            "<tr><td>52</td><td>26</td></tr>",
                            "<tr><td>78</td><td>24</td></tr>",
                            "<tr><td>6</td><td>20</td></tr>",
                            "<tr><td>19</td><td>19</td></tr>",
                            "<tr><td>145</td><td>18</td></tr>",
                            "<tr><td>85</td><td>16</td></tr>",
                            "<tr><td>4</td><td>15</td></tr>",
                            "<tr><td>41</td><td>13</td></tr>",
                            "<tr><td>45</td><td>11</td></tr>",
                            "<tr><td>97</td><td>10</td></tr>",
                            "<tr><td>124</td><td>10</td></tr>",
                            "<tr><td>100</td><td>9</td></tr>",
                            "<tr><td>96</td><td>9</td></tr>",
                            "<tr><td>118</td><td>9</td></tr>",
                            "<tr><td>91</td><td>7</td></tr>",
                            "<tr><td>93</td><td>7</td></tr>",
                            "<tr><td>122</td><td>7</td></tr>",
                            "<tr><td>146</td><td>7</td></tr>",
                            "<tr><td>46</td><td>7</td></tr>",
                            "<tr><td>66</td><td>7</td></tr>",
                            "<tr><td>35</td><td>7</td></tr>",
                            "<tr><td>24</td><td>7</td></tr>",
                            "<tr><td>30</td><td>7</td></tr>",
                            "<tr><td>16</td><td>7</td></tr>",
                            "<tr><td>54</td><td>6</td></tr>",
                            "<tr><td>149</td><td>6</td></tr>",
                            "<tr><td>152</td><td>6</td></tr>",
                            "<tr><td>133</td><td>6</td></tr>",
                            "<tr><td>83</td><td>6</td></tr>",
                            "<tr><td>76</td><td>5</td></tr>",
                            "<tr><td>106</td><td>5</td></tr>",
                            "<tr><td>138</td><td>5</td></tr>",
                            "<tr><td>60</td><td>5</td></tr>",
                            "<tr><td>21</td><td>5</td></tr>",
                            "<tr><td>28</td><td>5</td></tr>",
                            "<tr><td>36</td><td>5</td></tr>",
                            "<tr><td>25</td><td>4</td></tr>",
                            "<tr><td>14</td><td>4</td></tr>",
                            "<tr><td>64</td><td>4</td></tr>",
                            "<tr><td>79</td><td>4</td></tr>",
                            "<tr><td>56</td><td>4</td></tr>",
                            "<tr><td>59</td><td>4</td></tr>",
                            "<tr><td>47</td><td>4</td></tr>",
                            "<tr><td>125</td><td>4</td></tr>",
                            "<tr><td>154</td><td>4</td></tr>",
                            "<tr><td>151</td><td>4</td></tr>",
                            "<tr><td>98</td><td>4</td></tr>",
                            "<tr><td>89</td><td>3</td></tr>",
                            "<tr><td>119</td><td>3</td></tr>",
                            "<tr><td>111</td><td>3</td></tr>",
                            "<tr><td>143</td><td>3</td></tr>",
                            "<tr><td>137</td><td>3</td></tr>",
                            "<tr><td>43</td><td>3</td></tr>",
                            "<tr><td>27</td><td>3</td></tr>",
                            "<tr><td>51</td><td>3</td></tr>",
                            "<tr><td>58</td><td>3</td></tr>",
                            "<tr><td>70</td><td>3</td></tr>",
                            "<tr><td>5</td><td>3</td></tr>",
                            "<tr><td>7</td><td>3</td></tr>",
                            "<tr><td>8</td><td>3</td></tr>",
                            "<tr><td>20</td><td>3</td></tr>",
                            "<tr><td>32</td><td>3</td></tr>",
                            "<tr><td>39</td><td>2</td></tr>",
                            "<tr><td>22</td><td>2</td></tr>",
                            "<tr><td>13</td><td>2</td></tr>",
                            "<tr><td>18</td><td>2</td></tr>",
                            "<tr><td>9</td><td>2</td></tr>",
                            "<tr><td>71</td><td>2</td></tr>",
                            "<tr><td>72</td><td>2</td></tr>",
                            "<tr><td>73</td><td>2</td></tr>",
                            "<tr><td>65</td><td>2</td></tr>",
                            "<tr><td>67</td><td>2</td></tr>",
                            "<tr><td>68</td><td>2</td></tr>",
                            "<tr><td>62</td><td>2</td></tr>",
                            "<tr><td>75</td><td>2</td></tr>",
                            "<tr><td>57</td><td>2</td></tr>",
                            "<tr><td>55</td><td>2</td></tr>",
                            "<tr><td>48</td><td>2</td></tr>",
                            "<tr><td>49</td><td>2</td></tr>",
                            "<tr><td>136</td><td>2</td></tr>",
                            "<tr><td>134</td><td>2</td></tr>",
                            "<tr><td>141</td><td>2</td></tr>",
                            "<tr><td>123</td><td>2</td></tr>",
                            "<tr><td>127</td><td>2</td></tr>",
                            "<tr><td>128</td><td>2</td></tr>",
                            "<tr><td>129</td><td>2</td></tr>",
                            "<tr><td>144</td><td>2</td></tr>",
                            "<tr><td>150</td><td>2</td></tr>",
                            "<tr><td>112</td><td>2</td></tr>",
                            "<tr><td>121</td><td>2</td></tr>",
                            "<tr><td>116</td><td>2</td></tr>",
                            "<tr><td>117</td><td>2</td></tr>",
                            "<tr><td>110</td><td>2</td></tr>",
                            "<tr><td>104</td><td>2</td></tr>",
                            "<tr><td>90</td><td>2</td></tr>",
                            "<tr><td>88</td><td>2</td></tr>",
                            "<tr><td>94</td><td>2</td></tr>",
                            "<tr><td>95</td><td>2</td></tr>",
                            "<tr><td>92</td><td>2</td></tr>",
                            "<tr><td>99</td><td>1</td></tr>",
                            "<tr><td>101</td><td>1</td></tr>",
                            "<tr><td>103</td><td>1</td></tr>",
                            "<tr><td>84</td><td>1</td></tr>",
                            "<tr><td>86</td><td>1</td></tr>",
                            "<tr><td>105</td><td>1</td></tr>",
                            "<tr><td>107</td><td>1</td></tr>",
                            "<tr><td>108</td><td>1</td></tr>",
                            "<tr><td>109</td><td>1</td></tr>",
                            "<tr><td>114</td><td>1</td></tr>",
                            "<tr><td>115</td><td>1</td></tr>",
                            "<tr><td>147</td><td>1</td></tr>",
                            "<tr><td>148</td><td>1</td></tr>",
                            "<tr><td>155</td><td>1</td></tr>",
                            "<tr><td>153</td><td>1</td></tr>",
                            "<tr><td>130</td><td>1</td></tr>",
                            "<tr><td>131</td><td>1</td></tr>",
                            "<tr><td>132</td><td>1</td></tr>",
                            "<tr><td>126</td><td>1</td></tr>",
                            "<tr><td>142</td><td>1</td></tr>",
                            "<tr><td>139</td><td>1</td></tr>",
                            "<tr><td>140</td><td>1</td></tr>",
                            "<tr><td>135</td><td>1</td></tr>",
                            "<tr><td>50</td><td>1</td></tr>",
                            "<tr><td>44</td><td>1</td></tr>",
                            "<tr><td>53</td><td>1</td></tr>",
                            "<tr><td>80</td><td>1</td></tr>",
                            "<tr><td>82</td><td>1</td></tr>",
                            "<tr><td>61</td><td>1</td></tr>",
                            "<tr><td>74</td><td>1</td></tr>",
                            "<tr><td>10</td><td>1</td></tr>",
                            "<tr><td>11</td><td>1</td></tr>",
                            "<tr><td>12</td><td>1</td></tr>",
                            "<tr><td>15</td><td>1</td></tr>",
                            "<tr><td>17</td><td>1</td></tr>",
                            "<tr><td>40</td><td>1</td></tr>",
                            "<tr><td>42</td><td>1</td></tr>",
                            "<tr><td>37</td><td>1</td></tr>",
                            "<tr><td>38</td><td>1</td></tr>",
                            "<tr><td>33</td><td>1</td></tr>",
                            "<tr><td>34</td><td>1</td></tr>",
                            "<tr><td>31</td><td>1</td></tr>",
                            "<tr><td>26</td><td>1</td></tr>",
                            "<tr><td>29</td><td>1</td></tr>",
                            "</table>"
                        ]
                    }
                }
            ],
            "execution_count": 8
        },
        {
            "cell_type": "markdown",
            "source": [
                "![](data:image/png;base64,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)"
            ],
            "metadata": {
                "language": "sql",
                "azdata_cell_guid": "aff5dffd-b917-4d8f-9b38-e57e0c4aee53"
            },
            "attachments": {}
        }
    ]
}