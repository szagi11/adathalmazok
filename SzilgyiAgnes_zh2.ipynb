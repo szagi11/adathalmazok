{
    "metadata": {
        "kernelspec": {
            "name": "SQL",
            "display_name": "SQL",
            "language": "sql"
        },
        "language_info": {
            "name": "sql",
            "version": ""
        }
    },
    "nbformat_minor": 2,
    "nbformat": 4,
    "cells": [
        {
            "cell_type": "code",
            "source": [
                "SELECT \r\n",
                "  FOGLALAS_PK,\r\n",
                "  SZOBA_FK,\r\n",
                "  DATEDIFF(DAY, METTOL, MEDDIG) AS 'Időtartam',\r\n",
                "  ISNULL(\r\n",
                "    LAG(DATEDIFF(DAY, METTOL, MEDDIG)) OVER (\r\n",
                "      PARTITION BY SZOBA_FK\r\n",
                "      ORDER BY METTOL), 0) AS 'Előző iőtartam'\r\n",
                "FROM FOGLALAS\r\n",
                "ORDER BY SZOBA_FK, METTOL"
            ],
            "metadata": {
                "azdata_cell_guid": "3fb49bb1-70b2-476f-afc1-c066469d8155",
                "language": "sql"
            },
            "outputs": [
                {
                    "output_type": "display_data",
                    "data": {
                        "text/html": "(1027 rows affected)"
                    },
                    "metadata": {}
                },
                {
                    "output_type": "display_data",
                    "data": {
                        "text/html": "Total execution time: 00:00:00.025"
                    },
                    "metadata": {}
                },
                {
                    "output_type": "execute_result",
                    "execution_count": 2,
                    "data": {
                        "application/vnd.dataresource+json": {
                            "schema": {
                                "fields": [
                                    {
                                        "name": "FOGLALAS_PK"
                                    },
                                    {
                                        "name": "SZOBA_FK"
                                    },
                                    {
                                        "name": "Időtartam"
                                    },
                                    {
                                        "name": "Előző iőtartam"
                                    }
                                ]
                            },
                            "data": [
                                {
                                    "FOGLALAS_PK": "620",
                                    "SZOBA_FK": "1",
                                    "Időtartam": "5",
                                    "Előző iőtartam": "0"
                                },
                                {
                                    "FOGLALAS_PK": "949",
                                    "SZOBA_FK": "1",
                                    "Időtartam": "1",
                                    "Előző iőtartam": "5"
                                },
                                {
                                    "FOGLALAS_PK": "738",
                                    "SZOBA_FK": "1",
                                    "Időtartam": "7",
                                    "Előző iőtartam": "1"
                                },
                                {
                                    "FOGLALAS_PK": "803",
                                    "SZOBA_FK": "1",
                                    "Időtartam": "4",
                                    "Előző iőtartam": "7"
                                },
                                {
                                    "FOGLALAS_PK": "1137",
                                    "SZOBA_FK": "1",
                                    "Időtartam": "2",
                                    "Előző iőtartam": "4"
                                },
                                {
                                    "FOGLALAS_PK": "1152",
                                    "SZOBA_FK": "1",
                                    "Időtartam": "1",
                                    "Előző iőtartam": "2"
                                },
                                {
                                    "FOGLALAS_PK": "1274",
                                    "SZOBA_FK": "1",
                                    "Időtartam": "1",
                                    "Előző iőtartam": "1"
                                },
                                {
                                    "FOGLALAS_PK": "1334",
                                    "SZOBA_FK": "1",
                                    "Időtartam": "4",
                                    "Előző iőtartam": "1"
                                },
                                {
                                    "FOGLALAS_PK": "828",
                                    "SZOBA_FK": "2",
                                    "Időtartam": "3",
                                    "Előző iőtartam": "0"
                                },
                                {
                                    "FOGLALAS_PK": "1051",
                                    "SZOBA_FK": "2",
                                    "Időtartam": "1",
                                    "Előző iőtartam": "3"
                                },
                                {
                                    "FOGLALAS_PK": "1069",
                                    "SZOBA_FK": "2",
                                    "Időtartam": "7",
                                    "Előző iőtartam": "1"
                                },
                                {
                                    "FOGLALAS_PK": "1311",
                                    "SZOBA_FK": "2",
                                    "Időtartam": "7",
                                    "Előző iőtartam": "7"
                                },
                                {
                                    "FOGLALAS_PK": "629",
                                    "SZOBA_FK": "3",
                                    "Időtartam": "4",
                                    "Előző iőtartam": "0"
                                },
                                {
                                    "FOGLALAS_PK": "666",
                                    "SZOBA_FK": "3",
                                    "Időtartam": "6",
                                    "Előző iőtartam": "4"
                                },
                                {
                                    "FOGLALAS_PK": "788",
                                    "SZOBA_FK": "3",
                                    "Időtartam": "6",
                                    "Előző iőtartam": "6"
                                },
                                {
                                    "FOGLALAS_PK": "1038",
                                    "SZOBA_FK": "3",
                                    "Időtartam": "3",
                                    "Előző iőtartam": "6"
                                },
                                {
                                    "FOGLALAS_PK": "1110",
                                    "SZOBA_FK": "3",
                                    "Időtartam": "7",
                                    "Előző iőtartam": "3"
                                },
                                {
                                    "FOGLALAS_PK": "1151",
                                    "SZOBA_FK": "3",
                                    "Időtartam": "1",
                                    "Előző iőtartam": "7"
                                },
                                {
                                    "FOGLALAS_PK": "1434",
                                    "SZOBA_FK": "3",
                                    "Időtartam": "5",
                                    "Előző iőtartam": "1"
                                },
                                {
                                    "FOGLALAS_PK": "1544",
                                    "SZOBA_FK": "3",
                                    "Időtartam": "5",
                                    "Előző iőtartam": "5"
                                },
                                {
                                    "FOGLALAS_PK": "651",
                                    "SZOBA_FK": "4",
                                    "Időtartam": "7",
                                    "Előző iőtartam": "0"
                                },
                                {
                                    "FOGLALAS_PK": "946",
                                    "SZOBA_FK": "4",
                                    "Időtartam": "5",
                                    "Előző iőtartam": "7"
                                },
                                {
                                    "FOGLALAS_PK": "1001",
                                    "SZOBA_FK": "4",
                                    "Időtartam": "7",
                                    "Előző iőtartam": "5"
                                },
                                {
                                    "FOGLALAS_PK": "1127",
                                    "SZOBA_FK": "4",
                                    "Időtartam": "3",
                                    "Előző iőtartam": "7"
                                },
                                {
                                    "FOGLALAS_PK": "1132",
                                    "SZOBA_FK": "4",
                                    "Időtartam": "6",
                                    "Előző iőtartam": "3"
                                },
                                {
                                    "FOGLALAS_PK": "1492",
                                    "SZOBA_FK": "4",
                                    "Időtartam": "6",
                                    "Előző iőtartam": "6"
                                },
                                {
                                    "FOGLALAS_PK": "564",
                                    "SZOBA_FK": "5",
                                    "Időtartam": "2",
                                    "Előző iőtartam": "0"
                                },
                                {
                                    "FOGLALAS_PK": "965",
                                    "SZOBA_FK": "5",
                                    "Időtartam": "7",
                                    "Előző iőtartam": "2"
                                },
                                {
                                    "FOGLALAS_PK": "1073",
                                    "SZOBA_FK": "5",
                                    "Időtartam": "5",
                                    "Előző iőtartam": "7"
                                },
                                {
                                    "FOGLALAS_PK": "1257",
                                    "SZOBA_FK": "5",
                                    "Időtartam": "3",
                                    "Előző iőtartam": "5"
                                },
                                {
                                    "FOGLALAS_PK": "560",
                                    "SZOBA_FK": "6",
                                    "Időtartam": "6",
                                    "Előző iőtartam": "0"
                                },
                                {
                                    "FOGLALAS_PK": "873",
                                    "SZOBA_FK": "6",
                                    "Időtartam": "3",
                                    "Előző iőtartam": "6"
                                },
                                {
                                    "FOGLALAS_PK": "990",
                                    "SZOBA_FK": "6",
                                    "Időtartam": "4",
                                    "Előző iőtartam": "3"
                                },
                                {
                                    "FOGLALAS_PK": "772",
                                    "SZOBA_FK": "6",
                                    "Időtartam": "6",
                                    "Előző iőtartam": "4"
                                },
                                {
                                    "FOGLALAS_PK": "850",
                                    "SZOBA_FK": "6",
                                    "Időtartam": "2",
                                    "Előző iőtartam": "6"
                                },
                                {
                                    "FOGLALAS_PK": "1099",
                                    "SZOBA_FK": "6",
                                    "Időtartam": "4",
                                    "Előző iőtartam": "2"
                                },
                                {
                                    "FOGLALAS_PK": "562",
                                    "SZOBA_FK": "7",
                                    "Időtartam": "4",
                                    "Előző iőtartam": "0"
                                },
                                {
                                    "FOGLALAS_PK": "759",
                                    "SZOBA_FK": "7",
                                    "Időtartam": "7",
                                    "Előző iőtartam": "4"
                                },
                                {
                                    "FOGLALAS_PK": "1131",
                                    "SZOBA_FK": "7",
                                    "Időtartam": "1",
                                    "Előző iőtartam": "7"
                                },
                                {
                                    "FOGLALAS_PK": "1175",
                                    "SZOBA_FK": "7",
                                    "Időtartam": "4",
                                    "Előző iőtartam": "1"
                                },
                                {
                                    "FOGLALAS_PK": "1182",
                                    "SZOBA_FK": "7",
                                    "Időtartam": "4",
                                    "Előző iőtartam": "4"
                                },
                                {
                                    "FOGLALAS_PK": "1252",
                                    "SZOBA_FK": "7",
                                    "Időtartam": "2",
                                    "Előző iőtartam": "4"
                                },
                                {
                                    "FOGLALAS_PK": "882",
                                    "SZOBA_FK": "8",
                                    "Időtartam": "1",
                                    "Előző iőtartam": "0"
                                },
                                {
                                    "FOGLALAS_PK": "947",
                                    "SZOBA_FK": "8",
                                    "Időtartam": "3",
                                    "Előző iőtartam": "1"
                                },
                                {
                                    "FOGLALAS_PK": "694",
                                    "SZOBA_FK": "8",
                                    "Időtartam": "4",
                                    "Előző iőtartam": "3"
                                },
                                {
                                    "FOGLALAS_PK": "818",
                                    "SZOBA_FK": "8",
                                    "Időtartam": "4",
                                    "Előző iőtartam": "4"
                                },
                                {
                                    "FOGLALAS_PK": "832",
                                    "SZOBA_FK": "8",
                                    "Időtartam": "4",
                                    "Előző iőtartam": "4"
                                },
                                {
                                    "FOGLALAS_PK": "609",
                                    "SZOBA_FK": "9",
                                    "Időtartam": "2",
                                    "Előző iőtartam": "0"
                                },
                                {
                                    "FOGLALAS_PK": "1157",
                                    "SZOBA_FK": "9",
                                    "Időtartam": "6",
                                    "Előző iőtartam": "2"
                                },
                                {
                                    "FOGLALAS_PK": "1220",
                                    "SZOBA_FK": "9",
                                    "Időtartam": "3",
                                    "Előző iőtartam": "6"
                                },
                                {
                                    "FOGLALAS_PK": "1260",
                                    "SZOBA_FK": "9",
                                    "Időtartam": "6",
                                    "Előző iőtartam": "3"
                                },
                                {
                                    "FOGLALAS_PK": "1423",
                                    "SZOBA_FK": "9",
                                    "Időtartam": "3",
                                    "Előző iőtartam": "6"
                                },
                                {
                                    "FOGLALAS_PK": "1537",
                                    "SZOBA_FK": "9",
                                    "Időtartam": "3",
                                    "Előző iőtartam": "3"
                                },
                                {
                                    "FOGLALAS_PK": "569",
                                    "SZOBA_FK": "10",
                                    "Időtartam": "3",
                                    "Előző iőtartam": "0"
                                },
                                {
                                    "FOGLALAS_PK": "790",
                                    "SZOBA_FK": "10",
                                    "Időtartam": "5",
                                    "Előző iőtartam": "3"
                                },
                                {
                                    "FOGLALAS_PK": "795",
                                    "SZOBA_FK": "10",
                                    "Időtartam": "4",
                                    "Előző iőtartam": "5"
                                },
                                {
                                    "FOGLALAS_PK": "1319",
                                    "SZOBA_FK": "10",
                                    "Időtartam": "6",
                                    "Előző iőtartam": "4"
                                },
                                {
                                    "FOGLALAS_PK": "918",
                                    "SZOBA_FK": "11",
                                    "Időtartam": "6",
                                    "Előző iőtartam": "0"
                                },
                                {
                                    "FOGLALAS_PK": "1123",
                                    "SZOBA_FK": "11",
                                    "Időtartam": "5",
                                    "Előző iőtartam": "6"
                                },
                                {
                                    "FOGLALAS_PK": "1236",
                                    "SZOBA_FK": "11",
                                    "Időtartam": "1",
                                    "Előző iőtartam": "5"
                                },
                                {
                                    "FOGLALAS_PK": "1523",
                                    "SZOBA_FK": "11",
                                    "Időtartam": "1",
                                    "Előző iőtartam": "1"
                                },
                                {
                                    "FOGLALAS_PK": "876",
                                    "SZOBA_FK": "12",
                                    "Időtartam": "7",
                                    "Előző iőtartam": "0"
                                },
                                {
                                    "FOGLALAS_PK": "951",
                                    "SZOBA_FK": "12",
                                    "Időtartam": "3",
                                    "Előző iőtartam": "7"
                                },
                                {
                                    "FOGLALAS_PK": "970",
                                    "SZOBA_FK": "12",
                                    "Időtartam": "2",
                                    "Előző iőtartam": "3"
                                },
                                {
                                    "FOGLALAS_PK": "1020",
                                    "SZOBA_FK": "12",
                                    "Időtartam": "5",
                                    "Előző iőtartam": "2"
                                },
                                {
                                    "FOGLALAS_PK": "697",
                                    "SZOBA_FK": "12",
                                    "Időtartam": "2",
                                    "Előző iőtartam": "5"
                                },
                                {
                                    "FOGLALAS_PK": "775",
                                    "SZOBA_FK": "12",
                                    "Időtartam": "4",
                                    "Előző iőtartam": "2"
                                },
                                {
                                    "FOGLALAS_PK": "1140",
                                    "SZOBA_FK": "12",
                                    "Időtartam": "3",
                                    "Előző iőtartam": "4"
                                },
                                {
                                    "FOGLALAS_PK": "1164",
                                    "SZOBA_FK": "12",
                                    "Időtartam": "5",
                                    "Előző iőtartam": "3"
                                },
                                {
                                    "FOGLALAS_PK": "1430",
                                    "SZOBA_FK": "12",
                                    "Időtartam": "2",
                                    "Előző iőtartam": "5"
                                },
                                {
                                    "FOGLALAS_PK": "763",
                                    "SZOBA_FK": "13",
                                    "Időtartam": "4",
                                    "Előző iőtartam": "0"
                                },
                                {
                                    "FOGLALAS_PK": "1044",
                                    "SZOBA_FK": "13",
                                    "Időtartam": "6",
                                    "Előző iőtartam": "4"
                                },
                                {
                                    "FOGLALAS_PK": "1347",
                                    "SZOBA_FK": "13",
                                    "Időtartam": "3",
                                    "Előző iőtartam": "6"
                                },
                                {
                                    "FOGLALAS_PK": "1469",
                                    "SZOBA_FK": "13",
                                    "Időtartam": "2",
                                    "Előző iőtartam": "3"
                                },
                                {
                                    "FOGLALAS_PK": "663",
                                    "SZOBA_FK": "14",
                                    "Időtartam": "1",
                                    "Előző iőtartam": "0"
                                },
                                {
                                    "FOGLALAS_PK": "813",
                                    "SZOBA_FK": "14",
                                    "Időtartam": "3",
                                    "Előző iőtartam": "1"
                                },
                                {
                                    "FOGLALAS_PK": "1542",
                                    "SZOBA_FK": "14",
                                    "Időtartam": "4",
                                    "Előző iőtartam": "3"
                                },
                                {
                                    "FOGLALAS_PK": "1028",
                                    "SZOBA_FK": "15",
                                    "Időtartam": "2",
                                    "Előző iőtartam": "0"
                                },
                                {
                                    "FOGLALAS_PK": "791",
                                    "SZOBA_FK": "15",
                                    "Időtartam": "5",
                                    "Előző iőtartam": "2"
                                },
                                {
                                    "FOGLALAS_PK": "1129",
                                    "SZOBA_FK": "15",
                                    "Időtartam": "4",
                                    "Előző iőtartam": "5"
                                },
                                {
                                    "FOGLALAS_PK": "1244",
                                    "SZOBA_FK": "15",
                                    "Időtartam": "1",
                                    "Előző iőtartam": "4"
                                },
                                {
                                    "FOGLALAS_PK": "1418",
                                    "SZOBA_FK": "15",
                                    "Időtartam": "4",
                                    "Előző iőtartam": "1"
                                },
                                {
                                    "FOGLALAS_PK": "1442",
                                    "SZOBA_FK": "15",
                                    "Időtartam": "3",
                                    "Előző iőtartam": "4"
                                },
                                {
                                    "FOGLALAS_PK": "856",
                                    "SZOBA_FK": "16",
                                    "Időtartam": "6",
                                    "Előző iőtartam": "0"
                                },
                                {
                                    "FOGLALAS_PK": "896",
                                    "SZOBA_FK": "16",
                                    "Időtartam": "1",
                                    "Előző iőtartam": "6"
                                },
                                {
                                    "FOGLALAS_PK": "973",
                                    "SZOBA_FK": "16",
                                    "Időtartam": "1",
                                    "Előző iőtartam": "1"
                                },
                                {
                                    "FOGLALAS_PK": "687",
                                    "SZOBA_FK": "16",
                                    "Időtartam": "3",
                                    "Előző iőtartam": "1"
                                },
                                {
                                    "FOGLALAS_PK": "1498",
                                    "SZOBA_FK": "16",
                                    "Időtartam": "7",
                                    "Előző iőtartam": "3"
                                },
                                {
                                    "FOGLALAS_PK": "602",
                                    "SZOBA_FK": "17",
                                    "Időtartam": "6",
                                    "Előző iőtartam": "0"
                                },
                                {
                                    "FOGLALAS_PK": "916",
                                    "SZOBA_FK": "17",
                                    "Időtartam": "2",
                                    "Előző iőtartam": "6"
                                },
                                {
                                    "FOGLALAS_PK": "713",
                                    "SZOBA_FK": "17",
                                    "Időtartam": "6",
                                    "Előző iőtartam": "2"
                                },
                                {
                                    "FOGLALAS_PK": "744",
                                    "SZOBA_FK": "17",
                                    "Időtartam": "1",
                                    "Előző iőtartam": "6"
                                },
                                {
                                    "FOGLALAS_PK": "1316",
                                    "SZOBA_FK": "17",
                                    "Időtartam": "5",
                                    "Előző iőtartam": "1"
                                },
                                {
                                    "FOGLALAS_PK": "1549",
                                    "SZOBA_FK": "17",
                                    "Időtartam": "3",
                                    "Előző iőtartam": "5"
                                },
                                {
                                    "FOGLALAS_PK": "626",
                                    "SZOBA_FK": "18",
                                    "Időtartam": "3",
                                    "Előző iőtartam": "0"
                                },
                                {
                                    "FOGLALAS_PK": "767",
                                    "SZOBA_FK": "18",
                                    "Időtartam": "3",
                                    "Előző iőtartam": "3"
                                },
                                {
                                    "FOGLALAS_PK": "1035",
                                    "SZOBA_FK": "18",
                                    "Időtartam": "6",
                                    "Előző iőtartam": "3"
                                },
                                {
                                    "FOGLALAS_PK": "1173",
                                    "SZOBA_FK": "18",
                                    "Időtartam": "6",
                                    "Előző iőtartam": "6"
                                },
                                {
                                    "FOGLALAS_PK": "1198",
                                    "SZOBA_FK": "18",
                                    "Időtartam": "4",
                                    "Előző iőtartam": "6"
                                },
                                {
                                    "FOGLALAS_PK": "1505",
                                    "SZOBA_FK": "18",
                                    "Időtartam": "6",
                                    "Előző iőtartam": "4"
                                },
                                {
                                    "FOGLALAS_PK": "948",
                                    "SZOBA_FK": "19",
                                    "Időtartam": "2",
                                    "Előző iőtartam": "0"
                                },
                                {
                                    "FOGLALAS_PK": "696",
                                    "SZOBA_FK": "19",
                                    "Időtartam": "1",
                                    "Előző iőtartam": "2"
                                },
                                {
                                    "FOGLALAS_PK": "778",
                                    "SZOBA_FK": "19",
                                    "Időtartam": "1",
                                    "Előző iőtartam": "1"
                                },
                                {
                                    "FOGLALAS_PK": "1139",
                                    "SZOBA_FK": "19",
                                    "Időtartam": "7",
                                    "Előző iőtartam": "1"
                                },
                                {
                                    "FOGLALAS_PK": "1237",
                                    "SZOBA_FK": "19",
                                    "Időtartam": "1",
                                    "Előző iőtartam": "7"
                                },
                                {
                                    "FOGLALAS_PK": "1533",
                                    "SZOBA_FK": "19",
                                    "Időtartam": "1",
                                    "Előző iőtartam": "1"
                                },
                                {
                                    "FOGLALAS_PK": "755",
                                    "SZOBA_FK": "20",
                                    "Időtartam": "6",
                                    "Előző iőtartam": "0"
                                },
                                {
                                    "FOGLALAS_PK": "820",
                                    "SZOBA_FK": "20",
                                    "Időtartam": "1",
                                    "Előző iőtartam": "6"
                                },
                                {
                                    "FOGLALAS_PK": "1070",
                                    "SZOBA_FK": "20",
                                    "Időtartam": "1",
                                    "Előző iőtartam": "1"
                                },
                                {
                                    "FOGLALAS_PK": "1114",
                                    "SZOBA_FK": "20",
                                    "Időtartam": "5",
                                    "Előző iőtartam": "1"
                                },
                                {
                                    "FOGLALAS_PK": "1106",
                                    "SZOBA_FK": "20",
                                    "Időtartam": "2",
                                    "Előző iőtartam": "5"
                                },
                                {
                                    "FOGLALAS_PK": "566",
                                    "SZOBA_FK": "21",
                                    "Időtartam": "6",
                                    "Előző iőtartam": "0"
                                },
                                {
                                    "FOGLALAS_PK": "660",
                                    "SZOBA_FK": "21",
                                    "Időtartam": "5",
                                    "Előző iőtartam": "6"
                                },
                                {
                                    "FOGLALAS_PK": "805",
                                    "SZOBA_FK": "21",
                                    "Időtartam": "1",
                                    "Előző iőtartam": "5"
                                },
                                {
                                    "FOGLALAS_PK": "1212",
                                    "SZOBA_FK": "21",
                                    "Időtartam": "6",
                                    "Előző iőtartam": "1"
                                },
                                {
                                    "FOGLALAS_PK": "906",
                                    "SZOBA_FK": "22",
                                    "Időtartam": "1",
                                    "Előző iőtartam": "0"
                                },
                                {
                                    "FOGLALAS_PK": "1005",
                                    "SZOBA_FK": "22",
                                    "Időtartam": "3",
                                    "Előző iőtartam": "1"
                                },
                                {
                                    "FOGLALAS_PK": "1130",
                                    "SZOBA_FK": "22",
                                    "Időtartam": "1",
                                    "Előző iőtartam": "3"
                                },
                                {
                                    "FOGLALAS_PK": "1195",
                                    "SZOBA_FK": "22",
                                    "Időtartam": "6",
                                    "Előző iőtartam": "1"
                                },
                                {
                                    "FOGLALAS_PK": "1206",
                                    "SZOBA_FK": "22",
                                    "Időtartam": "7",
                                    "Előző iőtartam": "6"
                                },
                                {
                                    "FOGLALAS_PK": "1287",
                                    "SZOBA_FK": "22",
                                    "Időtartam": "3",
                                    "Előző iőtartam": "7"
                                },
                                {
                                    "FOGLALAS_PK": "934",
                                    "SZOBA_FK": "23",
                                    "Időtartam": "1",
                                    "Előző iőtartam": "0"
                                },
                                {
                                    "FOGLALAS_PK": "945",
                                    "SZOBA_FK": "23",
                                    "Időtartam": "7",
                                    "Előző iőtartam": "1"
                                },
                                {
                                    "FOGLALAS_PK": "848",
                                    "SZOBA_FK": "23",
                                    "Időtartam": "1",
                                    "Előző iőtartam": "7"
                                },
                                {
                                    "FOGLALAS_PK": "852",
                                    "SZOBA_FK": "24",
                                    "Időtartam": "2",
                                    "Előző iőtartam": "0"
                                },
                                {
                                    "FOGLALAS_PK": "1167",
                                    "SZOBA_FK": "24",
                                    "Időtartam": "1",
                                    "Előző iőtartam": "2"
                                },
                                {
                                    "FOGLALAS_PK": "1415",
                                    "SZOBA_FK": "24",
                                    "Időtartam": "3",
                                    "Előző iőtartam": "1"
                                },
                                {
                                    "FOGLALAS_PK": "1052",
                                    "SZOBA_FK": "25",
                                    "Időtartam": "3",
                                    "Előző iőtartam": "0"
                                },
                                {
                                    "FOGLALAS_PK": "1362",
                                    "SZOBA_FK": "25",
                                    "Időtartam": "2",
                                    "Előző iőtartam": "3"
                                },
                                {
                                    "FOGLALAS_PK": "1158",
                                    "SZOBA_FK": "26",
                                    "Időtartam": "2",
                                    "Előző iőtartam": "0"
                                },
                                {
                                    "FOGLALAS_PK": "1388",
                                    "SZOBA_FK": "26",
                                    "Időtartam": "3",
                                    "Előző iőtartam": "2"
                                },
                                {
                                    "FOGLALAS_PK": "758",
                                    "SZOBA_FK": "27",
                                    "Időtartam": "3",
                                    "Előző iőtartam": "0"
                                },
                                {
                                    "FOGLALAS_PK": "807",
                                    "SZOBA_FK": "27",
                                    "Időtartam": "2",
                                    "Előző iőtartam": "3"
                                },
                                {
                                    "FOGLALAS_PK": "1031",
                                    "SZOBA_FK": "27",
                                    "Időtartam": "2",
                                    "Előző iőtartam": "2"
                                },
                                {
                                    "FOGLALAS_PK": "1082",
                                    "SZOBA_FK": "27",
                                    "Időtartam": "5",
                                    "Előző iőtartam": "2"
                                },
                                {
                                    "FOGLALAS_PK": "1275",
                                    "SZOBA_FK": "27",
                                    "Időtartam": "6",
                                    "Előző iőtartam": "5"
                                },
                                {
                                    "FOGLALAS_PK": "1377",
                                    "SZOBA_FK": "27",
                                    "Időtartam": "1",
                                    "Előző iőtartam": "6"
                                },
                                {
                                    "FOGLALAS_PK": "1476",
                                    "SZOBA_FK": "27",
                                    "Időtartam": "1",
                                    "Előző iőtartam": "1"
                                },
                                {
                                    "FOGLALAS_PK": "872",
                                    "SZOBA_FK": "28",
                                    "Időtartam": "5",
                                    "Előző iőtartam": "0"
                                },
                                {
                                    "FOGLALAS_PK": "886",
                                    "SZOBA_FK": "28",
                                    "Időtartam": "4",
                                    "Előző iőtartam": "5"
                                },
                                {
                                    "FOGLALAS_PK": "901",
                                    "SZOBA_FK": "28",
                                    "Időtartam": "4",
                                    "Előző iőtartam": "4"
                                },
                                {
                                    "FOGLALAS_PK": "725",
                                    "SZOBA_FK": "28",
                                    "Időtartam": "5",
                                    "Előző iőtartam": "4"
                                },
                                {
                                    "FOGLALAS_PK": "1150",
                                    "SZOBA_FK": "28",
                                    "Időtartam": "6",
                                    "Előző iőtartam": "5"
                                },
                                {
                                    "FOGLALAS_PK": "1459",
                                    "SZOBA_FK": "28",
                                    "Időtartam": "2",
                                    "Előző iőtartam": "6"
                                },
                                {
                                    "FOGLALAS_PK": "611",
                                    "SZOBA_FK": "29",
                                    "Időtartam": "5",
                                    "Előző iőtartam": "0"
                                },
                                {
                                    "FOGLALAS_PK": "894",
                                    "SZOBA_FK": "29",
                                    "Időtartam": "1",
                                    "Előző iőtartam": "5"
                                },
                                {
                                    "FOGLALAS_PK": "1076",
                                    "SZOBA_FK": "29",
                                    "Időtartam": "7",
                                    "Előző iőtartam": "1"
                                },
                                {
                                    "FOGLALAS_PK": "1185",
                                    "SZOBA_FK": "29",
                                    "Időtartam": "5",
                                    "Előző iőtartam": "7"
                                },
                                {
                                    "FOGLALAS_PK": "1235",
                                    "SZOBA_FK": "29",
                                    "Időtartam": "7",
                                    "Előző iőtartam": "5"
                                },
                                {
                                    "FOGLALAS_PK": "1568",
                                    "SZOBA_FK": "29",
                                    "Időtartam": "7",
                                    "Előző iőtartam": "7"
                                },
                                {
                                    "FOGLALAS_PK": "604",
                                    "SZOBA_FK": "30",
                                    "Időtartam": "2",
                                    "Előző iőtartam": "0"
                                },
                                {
                                    "FOGLALAS_PK": "1023",
                                    "SZOBA_FK": "30",
                                    "Időtartam": "7",
                                    "Előző iőtartam": "2"
                                },
                                {
                                    "FOGLALAS_PK": "1136",
                                    "SZOBA_FK": "30",
                                    "Időtartam": "5",
                                    "Előző iőtartam": "7"
                                },
                                {
                                    "FOGLALAS_PK": "598",
                                    "SZOBA_FK": "31",
                                    "Időtartam": "2",
                                    "Előző iőtartam": "0"
                                },
                                {
                                    "FOGLALAS_PK": "606",
                                    "SZOBA_FK": "31",
                                    "Időtartam": "1",
                                    "Előző iőtartam": "2"
                                },
                                {
                                    "FOGLALAS_PK": "728",
                                    "SZOBA_FK": "31",
                                    "Időtartam": "4",
                                    "Előző iőtartam": "1"
                                },
                                {
                                    "FOGLALAS_PK": "920",
                                    "SZOBA_FK": "32",
                                    "Időtartam": "4",
                                    "Előző iőtartam": "0"
                                },
                                {
                                    "FOGLALAS_PK": "624",
                                    "SZOBA_FK": "33",
                                    "Időtartam": "6",
                                    "Előző iőtartam": "0"
                                },
                                {
                                    "FOGLALAS_PK": "1012",
                                    "SZOBA_FK": "33",
                                    "Időtartam": "7",
                                    "Előző iőtartam": "6"
                                },
                                {
                                    "FOGLALAS_PK": "1053",
                                    "SZOBA_FK": "33",
                                    "Időtartam": "1",
                                    "Előző iőtartam": "7"
                                },
                                {
                                    "FOGLALAS_PK": "1321",
                                    "SZOBA_FK": "33",
                                    "Időtartam": "4",
                                    "Előző iőtartam": "1"
                                },
                                {
                                    "FOGLALAS_PK": "1344",
                                    "SZOBA_FK": "33",
                                    "Időtartam": "5",
                                    "Előző iőtartam": "4"
                                },
                                {
                                    "FOGLALAS_PK": "1381",
                                    "SZOBA_FK": "33",
                                    "Időtartam": "6",
                                    "Előző iőtartam": "5"
                                },
                                {
                                    "FOGLALAS_PK": "870",
                                    "SZOBA_FK": "34",
                                    "Időtartam": "6",
                                    "Előző iőtartam": "0"
                                },
                                {
                                    "FOGLALAS_PK": "904",
                                    "SZOBA_FK": "34",
                                    "Időtartam": "2",
                                    "Előző iőtartam": "6"
                                },
                                {
                                    "FOGLALAS_PK": "777",
                                    "SZOBA_FK": "34",
                                    "Időtartam": "3",
                                    "Előző iőtartam": "2"
                                },
                                {
                                    "FOGLALAS_PK": "821",
                                    "SZOBA_FK": "34",
                                    "Időtartam": "1",
                                    "Előző iőtartam": "3"
                                },
                                {
                                    "FOGLALAS_PK": "971",
                                    "SZOBA_FK": "35",
                                    "Időtartam": "3",
                                    "Előző iőtartam": "0"
                                },
                                {
                                    "FOGLALAS_PK": "979",
                                    "SZOBA_FK": "35",
                                    "Időtartam": "7",
                                    "Előző iőtartam": "3"
                                },
                                {
                                    "FOGLALAS_PK": "686",
                                    "SZOBA_FK": "35",
                                    "Időtartam": "6",
                                    "Előző iőtartam": "7"
                                },
                                {
                                    "FOGLALAS_PK": "707",
                                    "SZOBA_FK": "35",
                                    "Időtartam": "2",
                                    "Előző iőtartam": "6"
                                },
                                {
                                    "FOGLALAS_PK": "829",
                                    "SZOBA_FK": "35",
                                    "Időtartam": "2",
                                    "Előző iőtartam": "2"
                                },
                                {
                                    "FOGLALAS_PK": "1480",
                                    "SZOBA_FK": "35",
                                    "Időtartam": "37",
                                    "Előző iőtartam": "2"
                                },
                                {
                                    "FOGLALAS_PK": "1411",
                                    "SZOBA_FK": "35",
                                    "Időtartam": "1",
                                    "Előző iőtartam": "37"
                                },
                                {
                                    "FOGLALAS_PK": "1436",
                                    "SZOBA_FK": "35",
                                    "Időtartam": "1",
                                    "Előző iőtartam": "1"
                                },
                                {
                                    "FOGLALAS_PK": "1529",
                                    "SZOBA_FK": "35",
                                    "Időtartam": "4",
                                    "Előző iőtartam": "1"
                                },
                                {
                                    "FOGLALAS_PK": "895",
                                    "SZOBA_FK": "36",
                                    "Időtartam": "5",
                                    "Előző iőtartam": "0"
                                },
                                {
                                    "FOGLALAS_PK": "919",
                                    "SZOBA_FK": "36",
                                    "Időtartam": "1",
                                    "Előző iőtartam": "5"
                                },
                                {
                                    "FOGLALAS_PK": "985",
                                    "SZOBA_FK": "36",
                                    "Időtartam": "6",
                                    "Előző iőtartam": "1"
                                },
                                {
                                    "FOGLALAS_PK": "1003",
                                    "SZOBA_FK": "36",
                                    "Időtartam": "4",
                                    "Előző iőtartam": "6"
                                },
                                {
                                    "FOGLALAS_PK": "748",
                                    "SZOBA_FK": "36",
                                    "Időtartam": "2",
                                    "Előző iőtartam": "4"
                                },
                                {
                                    "FOGLALAS_PK": "750",
                                    "SZOBA_FK": "36",
                                    "Időtartam": "6",
                                    "Előző iőtartam": "2"
                                },
                                {
                                    "FOGLALAS_PK": "688",
                                    "SZOBA_FK": "37",
                                    "Időtartam": "2",
                                    "Előző iőtartam": "0"
                                },
                                {
                                    "FOGLALAS_PK": "705",
                                    "SZOBA_FK": "37",
                                    "Időtartam": "4",
                                    "Előző iőtartam": "2"
                                },
                                {
                                    "FOGLALAS_PK": "1335",
                                    "SZOBA_FK": "37",
                                    "Időtartam": "7",
                                    "Előző iőtartam": "4"
                                },
                                {
                                    "FOGLALAS_PK": "627",
                                    "SZOBA_FK": "38",
                                    "Időtartam": "6",
                                    "Előző iőtartam": "0"
                                },
                                {
                                    "FOGLALAS_PK": "1033",
                                    "SZOBA_FK": "38",
                                    "Időtartam": "2",
                                    "Előző iőtartam": "6"
                                },
                                {
                                    "FOGLALAS_PK": "1060",
                                    "SZOBA_FK": "38",
                                    "Időtartam": "2",
                                    "Előző iőtartam": "2"
                                },
                                {
                                    "FOGLALAS_PK": "1078",
                                    "SZOBA_FK": "38",
                                    "Időtartam": "7",
                                    "Előző iőtartam": "2"
                                },
                                {
                                    "FOGLALAS_PK": "1351",
                                    "SZOBA_FK": "38",
                                    "Időtartam": "4",
                                    "Előző iőtartam": "7"
                                },
                                {
                                    "FOGLALAS_PK": "1416",
                                    "SZOBA_FK": "38",
                                    "Időtartam": "5",
                                    "Előző iőtartam": "4"
                                },
                                {
                                    "FOGLALAS_PK": "1478",
                                    "SZOBA_FK": "38",
                                    "Időtartam": "4",
                                    "Előző iőtartam": "5"
                                },
                                {
                                    "FOGLALAS_PK": "1556",
                                    "SZOBA_FK": "38",
                                    "Időtartam": "6",
                                    "Előző iőtartam": "4"
                                },
                                {
                                    "FOGLALAS_PK": "601",
                                    "SZOBA_FK": "39",
                                    "Időtartam": "6",
                                    "Előző iőtartam": "0"
                                },
                                {
                                    "FOGLALAS_PK": "899",
                                    "SZOBA_FK": "39",
                                    "Időtartam": "6",
                                    "Előző iőtartam": "6"
                                },
                                {
                                    "FOGLALAS_PK": "1214",
                                    "SZOBA_FK": "39",
                                    "Időtartam": "5",
                                    "Előző iőtartam": "6"
                                },
                                {
                                    "FOGLALAS_PK": "1380",
                                    "SZOBA_FK": "39",
                                    "Időtartam": "5",
                                    "Előző iőtartam": "5"
                                },
                                {
                                    "FOGLALAS_PK": "1435",
                                    "SZOBA_FK": "39",
                                    "Időtartam": "7",
                                    "Előző iőtartam": "5"
                                },
                                {
                                    "FOGLALAS_PK": "1454",
                                    "SZOBA_FK": "39",
                                    "Időtartam": "1",
                                    "Előző iőtartam": "7"
                                },
                                {
                                    "FOGLALAS_PK": "1538",
                                    "SZOBA_FK": "39",
                                    "Időtartam": "2",
                                    "Előző iőtartam": "1"
                                },
                                {
                                    "FOGLALAS_PK": "924",
                                    "SZOBA_FK": "40",
                                    "Időtartam": "5",
                                    "Előző iőtartam": "0"
                                },
                                {
                                    "FOGLALAS_PK": "932",
                                    "SZOBA_FK": "40",
                                    "Időtartam": "6",
                                    "Előző iőtartam": "5"
                                },
                                {
                                    "FOGLALAS_PK": "1018",
                                    "SZOBA_FK": "40",
                                    "Időtartam": "5",
                                    "Előző iőtartam": "6"
                                },
                                {
                                    "FOGLALAS_PK": "1118",
                                    "SZOBA_FK": "40",
                                    "Időtartam": "5",
                                    "Előző iőtartam": "5"
                                },
                                {
                                    "FOGLALAS_PK": "960",
                                    "SZOBA_FK": "41",
                                    "Időtartam": "6",
                                    "Előző iőtartam": "0"
                                },
                                {
                                    "FOGLALAS_PK": "1144",
                                    "SZOBA_FK": "41",
                                    "Időtartam": "1",
                                    "Előző iőtartam": "6"
                                },
                                {
                                    "FOGLALAS_PK": "561",
                                    "SZOBA_FK": "42",
                                    "Időtartam": "4",
                                    "Előző iőtartam": "0"
                                },
                                {
                                    "FOGLALAS_PK": "590",
                                    "SZOBA_FK": "42",
                                    "Időtartam": "5",
                                    "Előző iőtartam": "4"
                                },
                                {
                                    "FOGLALAS_PK": "851",
                                    "SZOBA_FK": "42",
                                    "Időtartam": "7",
                                    "Előző iőtartam": "5"
                                },
                                {
                                    "FOGLALAS_PK": "770",
                                    "SZOBA_FK": "42",
                                    "Időtartam": "3",
                                    "Előző iőtartam": "7"
                                },
                                {
                                    "FOGLALAS_PK": "1309",
                                    "SZOBA_FK": "42",
                                    "Időtartam": "2",
                                    "Előző iőtartam": "3"
                                },
                                {
                                    "FOGLALAS_PK": "1444",
                                    "SZOBA_FK": "42",
                                    "Időtartam": "6",
                                    "Előző iőtartam": "2"
                                },
                                {
                                    "FOGLALAS_PK": "1019",
                                    "SZOBA_FK": "43",
                                    "Időtartam": "4",
                                    "Előző iőtartam": "0"
                                },
                                {
                                    "FOGLALAS_PK": "670",
                                    "SZOBA_FK": "43",
                                    "Időtartam": "4",
                                    "Előző iőtartam": "4"
                                },
                                {
                                    "FOGLALAS_PK": "1088",
                                    "SZOBA_FK": "43",
                                    "Időtartam": "2",
                                    "Előző iőtartam": "4"
                                },
                                {
                                    "FOGLALAS_PK": "1207",
                                    "SZOBA_FK": "43",
                                    "Időtartam": "1",
                                    "Előző iőtartam": "2"
                                },
                                {
                                    "FOGLALAS_PK": "1227",
                                    "SZOBA_FK": "43",
                                    "Időtartam": "5",
                                    "Előző iőtartam": "1"
                                },
                                {
                                    "FOGLALAS_PK": "1270",
                                    "SZOBA_FK": "43",
                                    "Időtartam": "4",
                                    "Előző iőtartam": "5"
                                },
                                {
                                    "FOGLALAS_PK": "1524",
                                    "SZOBA_FK": "43",
                                    "Időtartam": "1",
                                    "Előző iőtartam": "4"
                                },
                                {
                                    "FOGLALAS_PK": "1553",
                                    "SZOBA_FK": "43",
                                    "Időtartam": "5",
                                    "Előző iőtartam": "1"
                                },
                                {
                                    "FOGLALAS_PK": "589",
                                    "SZOBA_FK": "44",
                                    "Időtartam": "2",
                                    "Előző iőtartam": "0"
                                },
                                {
                                    "FOGLALAS_PK": "658",
                                    "SZOBA_FK": "44",
                                    "Időtartam": "6",
                                    "Előző iőtartam": "2"
                                },
                                {
                                    "FOGLALAS_PK": "823",
                                    "SZOBA_FK": "44",
                                    "Időtartam": "2",
                                    "Előző iőtartam": "6"
                                },
                                {
                                    "FOGLALAS_PK": "1295",
                                    "SZOBA_FK": "44",
                                    "Időtartam": "2",
                                    "Előző iőtartam": "2"
                                },
                                {
                                    "FOGLALAS_PK": "1425",
                                    "SZOBA_FK": "44",
                                    "Időtartam": "2",
                                    "Előző iőtartam": "2"
                                },
                                {
                                    "FOGLALAS_PK": "1552",
                                    "SZOBA_FK": "44",
                                    "Időtartam": "2",
                                    "Előző iőtartam": "2"
                                },
                                {
                                    "FOGLALAS_PK": "802",
                                    "SZOBA_FK": "45",
                                    "Időtartam": "7",
                                    "Előző iőtartam": "0"
                                },
                                {
                                    "FOGLALAS_PK": "800",
                                    "SZOBA_FK": "45",
                                    "Időtartam": "5",
                                    "Előző iőtartam": "7"
                                },
                                {
                                    "FOGLALAS_PK": "846",
                                    "SZOBA_FK": "45",
                                    "Időtartam": "3",
                                    "Előző iőtartam": "5"
                                },
                                {
                                    "FOGLALAS_PK": "1135",
                                    "SZOBA_FK": "45",
                                    "Időtartam": "3",
                                    "Előző iőtartam": "3"
                                },
                                {
                                    "FOGLALAS_PK": "1303",
                                    "SZOBA_FK": "45",
                                    "Időtartam": "2",
                                    "Előző iőtartam": "3"
                                },
                                {
                                    "FOGLALAS_PK": "752",
                                    "SZOBA_FK": "46",
                                    "Időtartam": "5",
                                    "Előző iőtartam": "0"
                                },
                                {
                                    "FOGLALAS_PK": "1187",
                                    "SZOBA_FK": "46",
                                    "Időtartam": "7",
                                    "Előző iőtartam": "5"
                                },
                                {
                                    "FOGLALAS_PK": "1291",
                                    "SZOBA_FK": "46",
                                    "Időtartam": "3",
                                    "Előző iőtartam": "7"
                                },
                                {
                                    "FOGLALAS_PK": "1515",
                                    "SZOBA_FK": "46",
                                    "Időtartam": "4",
                                    "Előző iőtartam": "3"
                                },
                                {
                                    "FOGLALAS_PK": "955",
                                    "SZOBA_FK": "47",
                                    "Időtartam": "1",
                                    "Előző iőtartam": "0"
                                },
                                {
                                    "FOGLALAS_PK": "1056",
                                    "SZOBA_FK": "47",
                                    "Időtartam": "7",
                                    "Előző iőtartam": "1"
                                },
                                {
                                    "FOGLALAS_PK": "603",
                                    "SZOBA_FK": "48",
                                    "Időtartam": "3",
                                    "Előző iőtartam": "0"
                                },
                                {
                                    "FOGLALAS_PK": "628",
                                    "SZOBA_FK": "48",
                                    "Időtartam": "2",
                                    "Előző iőtartam": "3"
                                },
                                {
                                    "FOGLALAS_PK": "914",
                                    "SZOBA_FK": "48",
                                    "Időtartam": "5",
                                    "Előző iőtartam": "2"
                                },
                                {
                                    "FOGLALAS_PK": "986",
                                    "SZOBA_FK": "48",
                                    "Időtartam": "5",
                                    "Előző iőtartam": "5"
                                },
                                {
                                    "FOGLALAS_PK": "824",
                                    "SZOBA_FK": "48",
                                    "Időtartam": "2",
                                    "Előző iőtartam": "5"
                                },
                                {
                                    "FOGLALAS_PK": "1243",
                                    "SZOBA_FK": "48",
                                    "Időtartam": "6",
                                    "Előző iőtartam": "2"
                                },
                                {
                                    "FOGLALAS_PK": "1546",
                                    "SZOBA_FK": "48",
                                    "Időtartam": "3",
                                    "Előző iőtartam": "6"
                                },
                                {
                                    "FOGLALAS_PK": "1547",
                                    "SZOBA_FK": "48",
                                    "Időtartam": "1",
                                    "Előző iőtartam": "3"
                                },
                                {
                                    "FOGLALAS_PK": "1581",
                                    "SZOBA_FK": "48",
                                    "Időtartam": "5",
                                    "Előző iőtartam": "1"
                                },
                                {
                                    "FOGLALAS_PK": "888",
                                    "SZOBA_FK": "49",
                                    "Időtartam": "7",
                                    "Előző iőtartam": "0"
                                },
                                {
                                    "FOGLALAS_PK": "793",
                                    "SZOBA_FK": "49",
                                    "Időtartam": "6",
                                    "Előző iőtartam": "7"
                                },
                                {
                                    "FOGLALAS_PK": "826",
                                    "SZOBA_FK": "49",
                                    "Időtartam": "4",
                                    "Előző iőtartam": "6"
                                },
                                {
                                    "FOGLALAS_PK": "1066",
                                    "SZOBA_FK": "49",
                                    "Időtartam": "7",
                                    "Előző iőtartam": "4"
                                },
                                {
                                    "FOGLALAS_PK": "1200",
                                    "SZOBA_FK": "49",
                                    "Időtartam": "7",
                                    "Előző iőtartam": "7"
                                },
                                {
                                    "FOGLALAS_PK": "1221",
                                    "SZOBA_FK": "49",
                                    "Időtartam": "2",
                                    "Előző iőtartam": "7"
                                },
                                {
                                    "FOGLALAS_PK": "1536",
                                    "SZOBA_FK": "49",
                                    "Időtartam": "6",
                                    "Előző iőtartam": "2"
                                },
                                {
                                    "FOGLALAS_PK": "787",
                                    "SZOBA_FK": "50",
                                    "Időtartam": "3",
                                    "Előző iőtartam": "0"
                                },
                                {
                                    "FOGLALAS_PK": "1063",
                                    "SZOBA_FK": "50",
                                    "Időtartam": "2",
                                    "Előző iőtartam": "3"
                                },
                                {
                                    "FOGLALAS_PK": "1224",
                                    "SZOBA_FK": "50",
                                    "Időtartam": "1",
                                    "Előző iőtartam": "2"
                                },
                                {
                                    "FOGLALAS_PK": "1272",
                                    "SZOBA_FK": "50",
                                    "Időtartam": "1",
                                    "Előző iőtartam": "1"
                                },
                                {
                                    "FOGLALAS_PK": "865",
                                    "SZOBA_FK": "51",
                                    "Időtartam": "7",
                                    "Előző iőtartam": "0"
                                },
                                {
                                    "FOGLALAS_PK": "811",
                                    "SZOBA_FK": "51",
                                    "Időtartam": "2",
                                    "Előző iőtartam": "7"
                                },
                                {
                                    "FOGLALAS_PK": "1165",
                                    "SZOBA_FK": "51",
                                    "Időtartam": "5",
                                    "Előző iőtartam": "2"
                                },
                                {
                                    "FOGLALAS_PK": "1477",
                                    "SZOBA_FK": "51",
                                    "Időtartam": "6",
                                    "Előző iőtartam": "5"
                                },
                                {
                                    "FOGLALAS_PK": "1550",
                                    "SZOBA_FK": "51",
                                    "Időtartam": "1",
                                    "Előző iőtartam": "6"
                                },
                                {
                                    "FOGLALAS_PK": "822",
                                    "SZOBA_FK": "52",
                                    "Időtartam": "7",
                                    "Előző iőtartam": "0"
                                },
                                {
                                    "FOGLALAS_PK": "1202",
                                    "SZOBA_FK": "52",
                                    "Időtartam": "2",
                                    "Előző iőtartam": "7"
                                },
                                {
                                    "FOGLALAS_PK": "1258",
                                    "SZOBA_FK": "52",
                                    "Időtartam": "5",
                                    "Előző iőtartam": "2"
                                },
                                {
                                    "FOGLALAS_PK": "1431",
                                    "SZOBA_FK": "52",
                                    "Időtartam": "5",
                                    "Előző iőtartam": "5"
                                },
                                {
                                    "FOGLALAS_PK": "1534",
                                    "SZOBA_FK": "52",
                                    "Időtartam": "5",
                                    "Előző iőtartam": "5"
                                },
                                {
                                    "FOGLALAS_PK": "855",
                                    "SZOBA_FK": "53",
                                    "Időtartam": "1",
                                    "Előző iőtartam": "0"
                                },
                                {
                                    "FOGLALAS_PK": "987",
                                    "SZOBA_FK": "53",
                                    "Időtartam": "4",
                                    "Előző iőtartam": "1"
                                },
                                {
                                    "FOGLALAS_PK": "622",
                                    "SZOBA_FK": "54",
                                    "Időtartam": "7",
                                    "Előző iőtartam": "0"
                                },
                                {
                                    "FOGLALAS_PK": "642",
                                    "SZOBA_FK": "54",
                                    "Időtartam": "5",
                                    "Előző iőtartam": "7"
                                },
                                {
                                    "FOGLALAS_PK": "889",
                                    "SZOBA_FK": "54",
                                    "Időtartam": "2",
                                    "Előző iőtartam": "5"
                                },
                                {
                                    "FOGLALAS_PK": "668",
                                    "SZOBA_FK": "54",
                                    "Időtartam": "1",
                                    "Előző iőtartam": "2"
                                },
                                {
                                    "FOGLALAS_PK": "1096",
                                    "SZOBA_FK": "54",
                                    "Időtartam": "4",
                                    "Előző iőtartam": "1"
                                },
                                {
                                    "FOGLALAS_PK": "1328",
                                    "SZOBA_FK": "54",
                                    "Időtartam": "4",
                                    "Előző iőtartam": "4"
                                },
                                {
                                    "FOGLALAS_PK": "734",
                                    "SZOBA_FK": "55",
                                    "Időtartam": "6",
                                    "Előző iőtartam": "0"
                                },
                                {
                                    "FOGLALAS_PK": "1086",
                                    "SZOBA_FK": "55",
                                    "Időtartam": "5",
                                    "Előző iőtartam": "6"
                                },
                                {
                                    "FOGLALAS_PK": "1163",
                                    "SZOBA_FK": "55",
                                    "Időtartam": "2",
                                    "Előző iőtartam": "5"
                                },
                                {
                                    "FOGLALAS_PK": "1232",
                                    "SZOBA_FK": "55",
                                    "Időtartam": "7",
                                    "Előző iőtartam": "2"
                                },
                                {
                                    "FOGLALAS_PK": "1327",
                                    "SZOBA_FK": "55",
                                    "Időtartam": "6",
                                    "Előző iőtartam": "7"
                                },
                                {
                                    "FOGLALAS_PK": "1386",
                                    "SZOBA_FK": "55",
                                    "Időtartam": "2",
                                    "Előző iőtartam": "6"
                                },
                                {
                                    "FOGLALAS_PK": "1512",
                                    "SZOBA_FK": "55",
                                    "Időtartam": "1",
                                    "Előző iőtartam": "2"
                                },
                                {
                                    "FOGLALAS_PK": "1520",
                                    "SZOBA_FK": "55",
                                    "Időtartam": "1",
                                    "Előző iőtartam": "1"
                                },
                                {
                                    "FOGLALAS_PK": "935",
                                    "SZOBA_FK": "56",
                                    "Időtartam": "4",
                                    "Előző iőtartam": "0"
                                },
                                {
                                    "FOGLALAS_PK": "838",
                                    "SZOBA_FK": "56",
                                    "Időtartam": "2",
                                    "Előző iőtartam": "4"
                                },
                                {
                                    "FOGLALAS_PK": "1348",
                                    "SZOBA_FK": "57",
                                    "Időtartam": "1",
                                    "Előző iőtartam": "0"
                                },
                                {
                                    "FOGLALAS_PK": "1389",
                                    "SZOBA_FK": "57",
                                    "Időtartam": "1",
                                    "Előző iőtartam": "1"
                                },
                                {
                                    "FOGLALAS_PK": "1466",
                                    "SZOBA_FK": "57",
                                    "Időtartam": "7",
                                    "Előző iőtartam": "1"
                                },
                                {
                                    "FOGLALAS_PK": "1504",
                                    "SZOBA_FK": "57",
                                    "Időtartam": "4",
                                    "Előző iőtartam": "7"
                                },
                                {
                                    "FOGLALAS_PK": "883",
                                    "SZOBA_FK": "58",
                                    "Időtartam": "5",
                                    "Előző iőtartam": "0"
                                },
                                {
                                    "FOGLALAS_PK": "719",
                                    "SZOBA_FK": "58",
                                    "Időtartam": "3",
                                    "Előző iőtartam": "5"
                                },
                                {
                                    "FOGLALAS_PK": "773",
                                    "SZOBA_FK": "58",
                                    "Időtartam": "2",
                                    "Előző iőtartam": "3"
                                },
                                {
                                    "FOGLALAS_PK": "1113",
                                    "SZOBA_FK": "58",
                                    "Időtartam": "3",
                                    "Előző iőtartam": "2"
                                },
                                {
                                    "FOGLALAS_PK": "1186",
                                    "SZOBA_FK": "58",
                                    "Időtartam": "6",
                                    "Előző iőtartam": "3"
                                },
                                {
                                    "FOGLALAS_PK": "1208",
                                    "SZOBA_FK": "58",
                                    "Időtartam": "6",
                                    "Előző iőtartam": "6"
                                },
                                {
                                    "FOGLALAS_PK": "1255",
                                    "SZOBA_FK": "58",
                                    "Időtartam": "7",
                                    "Előző iőtartam": "6"
                                },
                                {
                                    "FOGLALAS_PK": "1261",
                                    "SZOBA_FK": "58",
                                    "Időtartam": "6",
                                    "Előző iőtartam": "7"
                                },
                                {
                                    "FOGLALAS_PK": "1285",
                                    "SZOBA_FK": "58",
                                    "Időtartam": "7",
                                    "Előző iőtartam": "6"
                                },
                                {
                                    "FOGLALAS_PK": "1293",
                                    "SZOBA_FK": "58",
                                    "Időtartam": "3",
                                    "Előző iőtartam": "7"
                                },
                                {
                                    "FOGLALAS_PK": "1307",
                                    "SZOBA_FK": "58",
                                    "Időtartam": "6",
                                    "Előző iőtartam": "3"
                                },
                                {
                                    "FOGLALAS_PK": "1322",
                                    "SZOBA_FK": "58",
                                    "Időtartam": "3",
                                    "Előző iőtartam": "6"
                                },
                                {
                                    "FOGLALAS_PK": "1451",
                                    "SZOBA_FK": "58",
                                    "Időtartam": "6",
                                    "Előző iőtartam": "3"
                                },
                                {
                                    "FOGLALAS_PK": "1080",
                                    "SZOBA_FK": "59",
                                    "Időtartam": "1",
                                    "Előző iőtartam": "0"
                                },
                                {
                                    "FOGLALAS_PK": "1084",
                                    "SZOBA_FK": "59",
                                    "Időtartam": "2",
                                    "Előző iőtartam": "1"
                                },
                                {
                                    "FOGLALAS_PK": "1170",
                                    "SZOBA_FK": "59",
                                    "Időtartam": "5",
                                    "Előző iőtartam": "2"
                                },
                                {
                                    "FOGLALAS_PK": "1191",
                                    "SZOBA_FK": "59",
                                    "Időtartam": "6",
                                    "Előző iőtartam": "5"
                                },
                                {
                                    "FOGLALAS_PK": "1239",
                                    "SZOBA_FK": "59",
                                    "Időtartam": "2",
                                    "Előző iőtartam": "6"
                                },
                                {
                                    "FOGLALAS_PK": "1288",
                                    "SZOBA_FK": "59",
                                    "Időtartam": "3",
                                    "Előző iőtartam": "2"
                                },
                                {
                                    "FOGLALAS_PK": "1573",
                                    "SZOBA_FK": "59",
                                    "Időtartam": "1",
                                    "Előző iőtartam": "3"
                                },
                                {
                                    "FOGLALAS_PK": "676",
                                    "SZOBA_FK": "60",
                                    "Időtartam": "2",
                                    "Előző iőtartam": "0"
                                },
                                {
                                    "FOGLALAS_PK": "701",
                                    "SZOBA_FK": "61",
                                    "Időtartam": "2",
                                    "Előző iőtartam": "0"
                                },
                                {
                                    "FOGLALAS_PK": "756",
                                    "SZOBA_FK": "61",
                                    "Időtartam": "6",
                                    "Előző iőtartam": "2"
                                },
                                {
                                    "FOGLALAS_PK": "1148",
                                    "SZOBA_FK": "61",
                                    "Időtartam": "3",
                                    "Előző iőtartam": "6"
                                },
                                {
                                    "FOGLALAS_PK": "1218",
                                    "SZOBA_FK": "61",
                                    "Időtartam": "2",
                                    "Előző iőtartam": "3"
                                },
                                {
                                    "FOGLALAS_PK": "1496",
                                    "SZOBA_FK": "61",
                                    "Időtartam": "7",
                                    "Előző iőtartam": "2"
                                },
                                {
                                    "FOGLALAS_PK": "936",
                                    "SZOBA_FK": "62",
                                    "Időtartam": "3",
                                    "Előző iőtartam": "0"
                                },
                                {
                                    "FOGLALAS_PK": "938",
                                    "SZOBA_FK": "62",
                                    "Időtartam": "1",
                                    "Előző iőtartam": "3"
                                },
                                {
                                    "FOGLALAS_PK": "702",
                                    "SZOBA_FK": "62",
                                    "Időtartam": "5",
                                    "Előző iőtartam": "1"
                                },
                                {
                                    "FOGLALAS_PK": "1081",
                                    "SZOBA_FK": "62",
                                    "Időtartam": "7",
                                    "Előző iőtartam": "5"
                                },
                                {
                                    "FOGLALAS_PK": "1426",
                                    "SZOBA_FK": "62",
                                    "Időtartam": "4",
                                    "Előző iőtartam": "7"
                                },
                                {
                                    "FOGLALAS_PK": "625",
                                    "SZOBA_FK": "63",
                                    "Időtartam": "3",
                                    "Előző iőtartam": "0"
                                },
                                {
                                    "FOGLALAS_PK": "891",
                                    "SZOBA_FK": "63",
                                    "Időtartam": "6",
                                    "Előző iőtartam": "3"
                                },
                                {
                                    "FOGLALAS_PK": "769",
                                    "SZOBA_FK": "63",
                                    "Időtartam": "5",
                                    "Előző iőtartam": "6"
                                },
                                {
                                    "FOGLALAS_PK": "845",
                                    "SZOBA_FK": "63",
                                    "Időtartam": "1",
                                    "Előző iőtartam": "5"
                                },
                                {
                                    "FOGLALAS_PK": "875",
                                    "SZOBA_FK": "64",
                                    "Időtartam": "2",
                                    "Előző iőtartam": "0"
                                },
                                {
                                    "FOGLALAS_PK": "1122",
                                    "SZOBA_FK": "64",
                                    "Időtartam": "4",
                                    "Előző iőtartam": "2"
                                },
                                {
                                    "FOGLALAS_PK": "1233",
                                    "SZOBA_FK": "64",
                                    "Időtartam": "7",
                                    "Előző iőtartam": "4"
                                },
                                {
                                    "FOGLALAS_PK": "1446",
                                    "SZOBA_FK": "64",
                                    "Időtartam": "6",
                                    "Előző iőtartam": "7"
                                },
                                {
                                    "FOGLALAS_PK": "1465",
                                    "SZOBA_FK": "64",
                                    "Időtartam": "4",
                                    "Előző iőtartam": "6"
                                },
                                {
                                    "FOGLALAS_PK": "1582",
                                    "SZOBA_FK": "64",
                                    "Időtartam": "1",
                                    "Előző iőtartam": "4"
                                },
                                {
                                    "FOGLALAS_PK": "650",
                                    "SZOBA_FK": "65",
                                    "Időtartam": "6",
                                    "Előző iőtartam": "0"
                                },
                                {
                                    "FOGLALAS_PK": "950",
                                    "SZOBA_FK": "66",
                                    "Időtartam": "3",
                                    "Előző iőtartam": "0"
                                },
                                {
                                    "FOGLALAS_PK": "736",
                                    "SZOBA_FK": "66",
                                    "Időtartam": "3",
                                    "Előző iőtartam": "3"
                                },
                                {
                                    "FOGLALAS_PK": "1234",
                                    "SZOBA_FK": "66",
                                    "Időtartam": "3",
                                    "Előző iőtartam": "3"
                                },
                                {
                                    "FOGLALAS_PK": "1264",
                                    "SZOBA_FK": "66",
                                    "Időtartam": "4",
                                    "Előző iőtartam": "3"
                                },
                                {
                                    "FOGLALAS_PK": "638",
                                    "SZOBA_FK": "67",
                                    "Időtartam": "5",
                                    "Előző iőtartam": "0"
                                },
                                {
                                    "FOGLALAS_PK": "645",
                                    "SZOBA_FK": "67",
                                    "Időtartam": "6",
                                    "Előző iőtartam": "5"
                                },
                                {
                                    "FOGLALAS_PK": "874",
                                    "SZOBA_FK": "67",
                                    "Időtartam": "6",
                                    "Előző iőtartam": "6"
                                },
                                {
                                    "FOGLALAS_PK": "1382",
                                    "SZOBA_FK": "67",
                                    "Időtartam": "1",
                                    "Előző iőtartam": "6"
                                },
                                {
                                    "FOGLALAS_PK": "1580",
                                    "SZOBA_FK": "67",
                                    "Időtartam": "5",
                                    "Előző iőtartam": "1"
                                },
                                {
                                    "FOGLALAS_PK": "1584",
                                    "SZOBA_FK": "67",
                                    "Időtartam": "1",
                                    "Előző iőtartam": "5"
                                },
                                {
                                    "FOGLALAS_PK": "563",
                                    "SZOBA_FK": "68",
                                    "Időtartam": "5",
                                    "Előző iőtartam": "0"
                                },
                                {
                                    "FOGLALAS_PK": "1027",
                                    "SZOBA_FK": "68",
                                    "Időtartam": "7",
                                    "Előző iőtartam": "5"
                                },
                                {
                                    "FOGLALAS_PK": "1324",
                                    "SZOBA_FK": "68",
                                    "Időtartam": "4",
                                    "Előző iőtartam": "7"
                                },
                                {
                                    "FOGLALAS_PK": "885",
                                    "SZOBA_FK": "69",
                                    "Időtartam": "1",
                                    "Előző iőtartam": "0"
                                },
                                {
                                    "FOGLALAS_PK": "1055",
                                    "SZOBA_FK": "69",
                                    "Időtartam": "5",
                                    "Előző iőtartam": "1"
                                },
                                {
                                    "FOGLALAS_PK": "1225",
                                    "SZOBA_FK": "69",
                                    "Időtartam": "5",
                                    "Előző iőtartam": "5"
                                },
                                {
                                    "FOGLALAS_PK": "1246",
                                    "SZOBA_FK": "69",
                                    "Időtartam": "7",
                                    "Előző iőtartam": "5"
                                },
                                {
                                    "FOGLALAS_PK": "585",
                                    "SZOBA_FK": "70",
                                    "Időtartam": "5",
                                    "Előző iőtartam": "0"
                                },
                                {
                                    "FOGLALAS_PK": "860",
                                    "SZOBA_FK": "70",
                                    "Időtartam": "2",
                                    "Előző iőtartam": "5"
                                },
                                {
                                    "FOGLALAS_PK": "1006",
                                    "SZOBA_FK": "70",
                                    "Időtartam": "3",
                                    "Előző iőtartam": "2"
                                },
                                {
                                    "FOGLALAS_PK": "704",
                                    "SZOBA_FK": "70",
                                    "Időtartam": "3",
                                    "Előző iőtartam": "3"
                                },
                                {
                                    "FOGLALAS_PK": "814",
                                    "SZOBA_FK": "70",
                                    "Időtartam": "3",
                                    "Előző iőtartam": "3"
                                },
                                {
                                    "FOGLALAS_PK": "1092",
                                    "SZOBA_FK": "70",
                                    "Időtartam": "3",
                                    "Előző iőtartam": "3"
                                },
                                {
                                    "FOGLALAS_PK": "1126",
                                    "SZOBA_FK": "70",
                                    "Időtartam": "3",
                                    "Előző iőtartam": "3"
                                },
                                {
                                    "FOGLALAS_PK": "1325",
                                    "SZOBA_FK": "70",
                                    "Időtartam": "7",
                                    "Előző iőtartam": "3"
                                },
                                {
                                    "FOGLALAS_PK": "1333",
                                    "SZOBA_FK": "70",
                                    "Időtartam": "6",
                                    "Előző iőtartam": "7"
                                },
                                {
                                    "FOGLALAS_PK": "1365",
                                    "SZOBA_FK": "70",
                                    "Időtartam": "3",
                                    "Előző iőtartam": "6"
                                },
                                {
                                    "FOGLALAS_PK": "1457",
                                    "SZOBA_FK": "70",
                                    "Időtartam": "7",
                                    "Előző iőtartam": "3"
                                },
                                {
                                    "FOGLALAS_PK": "1009",
                                    "SZOBA_FK": "71",
                                    "Időtartam": "1",
                                    "Előző iőtartam": "0"
                                },
                                {
                                    "FOGLALAS_PK": "681",
                                    "SZOBA_FK": "71",
                                    "Időtartam": "3",
                                    "Előző iőtartam": "1"
                                },
                                {
                                    "FOGLALAS_PK": "712",
                                    "SZOBA_FK": "71",
                                    "Időtartam": "1",
                                    "Előző iőtartam": "3"
                                },
                                {
                                    "FOGLALAS_PK": "902",
                                    "SZOBA_FK": "72",
                                    "Időtartam": "5",
                                    "Előző iőtartam": "0"
                                },
                                {
                                    "FOGLALAS_PK": "961",
                                    "SZOBA_FK": "72",
                                    "Időtartam": "6",
                                    "Előző iőtartam": "5"
                                },
                                {
                                    "FOGLALAS_PK": "1318",
                                    "SZOBA_FK": "72",
                                    "Időtartam": "2",
                                    "Előző iőtartam": "6"
                                },
                                {
                                    "FOGLALAS_PK": "1396",
                                    "SZOBA_FK": "72",
                                    "Időtartam": "3",
                                    "Előző iőtartam": "2"
                                },
                                {
                                    "FOGLALAS_PK": "1000",
                                    "SZOBA_FK": "73",
                                    "Időtartam": "4",
                                    "Előző iőtartam": "0"
                                },
                                {
                                    "FOGLALAS_PK": "714",
                                    "SZOBA_FK": "73",
                                    "Időtartam": "7",
                                    "Előző iőtartam": "4"
                                },
                                {
                                    "FOGLALAS_PK": "1159",
                                    "SZOBA_FK": "73",
                                    "Időtartam": "5",
                                    "Előző iőtartam": "7"
                                },
                                {
                                    "FOGLALAS_PK": "1331",
                                    "SZOBA_FK": "73",
                                    "Időtartam": "4",
                                    "Előző iőtartam": "5"
                                },
                                {
                                    "FOGLALAS_PK": "595",
                                    "SZOBA_FK": "74",
                                    "Időtartam": "7",
                                    "Előző iőtartam": "0"
                                },
                                {
                                    "FOGLALAS_PK": "877",
                                    "SZOBA_FK": "74",
                                    "Időtartam": "4",
                                    "Előző iőtartam": "7"
                                },
                                {
                                    "FOGLALAS_PK": "940",
                                    "SZOBA_FK": "74",
                                    "Időtartam": "5",
                                    "Előző iőtartam": "4"
                                },
                                {
                                    "FOGLALAS_PK": "963",
                                    "SZOBA_FK": "74",
                                    "Időtartam": "1",
                                    "Előző iőtartam": "5"
                                },
                                {
                                    "FOGLALAS_PK": "797",
                                    "SZOBA_FK": "74",
                                    "Időtartam": "5",
                                    "Előző iőtartam": "1"
                                },
                                {
                                    "FOGLALAS_PK": "830",
                                    "SZOBA_FK": "74",
                                    "Időtartam": "1",
                                    "Előző iőtartam": "5"
                                },
                                {
                                    "FOGLALAS_PK": "847",
                                    "SZOBA_FK": "74",
                                    "Időtartam": "3",
                                    "Előző iőtartam": "1"
                                },
                                {
                                    "FOGLALAS_PK": "1093",
                                    "SZOBA_FK": "74",
                                    "Időtartam": "6",
                                    "Előző iőtartam": "3"
                                },
                                {
                                    "FOGLALAS_PK": "1179",
                                    "SZOBA_FK": "74",
                                    "Időtartam": "7",
                                    "Előző iőtartam": "6"
                                },
                                {
                                    "FOGLALAS_PK": "1013",
                                    "SZOBA_FK": "75",
                                    "Időtartam": "5",
                                    "Előző iőtartam": "0"
                                },
                                {
                                    "FOGLALAS_PK": "1412",
                                    "SZOBA_FK": "75",
                                    "Időtartam": "2",
                                    "Előző iőtartam": "5"
                                },
                                {
                                    "FOGLALAS_PK": "1458",
                                    "SZOBA_FK": "75",
                                    "Időtartam": "1",
                                    "Előző iőtartam": "2"
                                },
                                {
                                    "FOGLALAS_PK": "976",
                                    "SZOBA_FK": "76",
                                    "Időtartam": "2",
                                    "Előző iőtartam": "0"
                                },
                                {
                                    "FOGLALAS_PK": "683",
                                    "SZOBA_FK": "76",
                                    "Időtartam": "7",
                                    "Előző iőtartam": "2"
                                },
                                {
                                    "FOGLALAS_PK": "1557",
                                    "SZOBA_FK": "76",
                                    "Időtartam": "3",
                                    "Előző iőtartam": "7"
                                },
                                {
                                    "FOGLALAS_PK": "593",
                                    "SZOBA_FK": "77",
                                    "Időtartam": "3",
                                    "Előző iőtartam": "0"
                                },
                                {
                                    "FOGLALAS_PK": "982",
                                    "SZOBA_FK": "77",
                                    "Időtartam": "3",
                                    "Előző iőtartam": "3"
                                },
                                {
                                    "FOGLALAS_PK": "698",
                                    "SZOBA_FK": "77",
                                    "Időtartam": "4",
                                    "Előző iőtartam": "3"
                                },
                                {
                                    "FOGLALAS_PK": "1104",
                                    "SZOBA_FK": "77",
                                    "Időtartam": "1",
                                    "Előző iőtartam": "4"
                                },
                                {
                                    "FOGLALAS_PK": "1439",
                                    "SZOBA_FK": "77",
                                    "Időtartam": "6",
                                    "Előző iőtartam": "1"
                                },
                                {
                                    "FOGLALAS_PK": "1461",
                                    "SZOBA_FK": "77",
                                    "Időtartam": "4",
                                    "Előző iőtartam": "6"
                                },
                                {
                                    "FOGLALAS_PK": "568",
                                    "SZOBA_FK": "78",
                                    "Időtartam": "1",
                                    "Előző iőtartam": "0"
                                },
                                {
                                    "FOGLALAS_PK": "646",
                                    "SZOBA_FK": "78",
                                    "Időtartam": "3",
                                    "Előző iőtartam": "1"
                                },
                                {
                                    "FOGLALAS_PK": "700",
                                    "SZOBA_FK": "78",
                                    "Időtartam": "5",
                                    "Előző iőtartam": "3"
                                },
                                {
                                    "FOGLALAS_PK": "1268",
                                    "SZOBA_FK": "78",
                                    "Időtartam": "2",
                                    "Előző iőtartam": "5"
                                },
                                {
                                    "FOGLALAS_PK": "1281",
                                    "SZOBA_FK": "78",
                                    "Időtartam": "3",
                                    "Előző iőtartam": "2"
                                },
                                {
                                    "FOGLALAS_PK": "1577",
                                    "SZOBA_FK": "78",
                                    "Időtartam": "7",
                                    "Előző iőtartam": "3"
                                },
                                {
                                    "FOGLALAS_PK": "583",
                                    "SZOBA_FK": "79",
                                    "Időtartam": "6",
                                    "Előző iőtartam": "0"
                                },
                                {
                                    "FOGLALAS_PK": "1054",
                                    "SZOBA_FK": "79",
                                    "Időtartam": "1",
                                    "Előző iőtartam": "6"
                                },
                                {
                                    "FOGLALAS_PK": "1229",
                                    "SZOBA_FK": "79",
                                    "Időtartam": "7",
                                    "Előző iőtartam": "1"
                                },
                                {
                                    "FOGLALAS_PK": "1345",
                                    "SZOBA_FK": "79",
                                    "Időtartam": "3",
                                    "Előző iőtartam": "7"
                                },
                                {
                                    "FOGLALAS_PK": "1447",
                                    "SZOBA_FK": "79",
                                    "Időtartam": "4",
                                    "Előző iőtartam": "3"
                                },
                                {
                                    "FOGLALAS_PK": "887",
                                    "SZOBA_FK": "80",
                                    "Időtartam": "6",
                                    "Előző iőtartam": "0"
                                },
                                {
                                    "FOGLALAS_PK": "929",
                                    "SZOBA_FK": "80",
                                    "Időtartam": "2",
                                    "Előző iőtartam": "6"
                                },
                                {
                                    "FOGLALAS_PK": "983",
                                    "SZOBA_FK": "80",
                                    "Időtartam": "6",
                                    "Előző iőtartam": "2"
                                },
                                {
                                    "FOGLALAS_PK": "667",
                                    "SZOBA_FK": "80",
                                    "Időtartam": "6",
                                    "Előző iőtartam": "6"
                                },
                                {
                                    "FOGLALAS_PK": "1071",
                                    "SZOBA_FK": "80",
                                    "Időtartam": "4",
                                    "Előző iőtartam": "6"
                                },
                                {
                                    "FOGLALAS_PK": "1279",
                                    "SZOBA_FK": "80",
                                    "Időtartam": "5",
                                    "Előző iőtartam": "4"
                                },
                                {
                                    "FOGLALAS_PK": "1367",
                                    "SZOBA_FK": "80",
                                    "Időtartam": "3",
                                    "Előző iőtartam": "5"
                                },
                                {
                                    "FOGLALAS_PK": "1366",
                                    "SZOBA_FK": "81",
                                    "Időtartam": "5",
                                    "Előző iőtartam": "0"
                                },
                                {
                                    "FOGLALAS_PK": "1443",
                                    "SZOBA_FK": "81",
                                    "Időtartam": "7",
                                    "Előző iőtartam": "5"
                                },
                                {
                                    "FOGLALAS_PK": "1464",
                                    "SZOBA_FK": "81",
                                    "Időtartam": "7",
                                    "Előző iőtartam": "7"
                                },
                                {
                                    "FOGLALAS_PK": "1506",
                                    "SZOBA_FK": "81",
                                    "Időtartam": "3",
                                    "Előző iőtartam": "7"
                                },
                                {
                                    "FOGLALAS_PK": "1562",
                                    "SZOBA_FK": "81",
                                    "Időtartam": "3",
                                    "Előző iőtartam": "3"
                                },
                                {
                                    "FOGLALAS_PK": "862",
                                    "SZOBA_FK": "82",
                                    "Időtartam": "4",
                                    "Előző iőtartam": "0"
                                },
                                {
                                    "FOGLALAS_PK": "871",
                                    "SZOBA_FK": "82",
                                    "Időtartam": "5",
                                    "Előző iőtartam": "4"
                                },
                                {
                                    "FOGLALAS_PK": "997",
                                    "SZOBA_FK": "82",
                                    "Időtartam": "6",
                                    "Előző iőtartam": "5"
                                },
                                {
                                    "FOGLALAS_PK": "1277",
                                    "SZOBA_FK": "82",
                                    "Időtartam": "5",
                                    "Előző iőtartam": "6"
                                },
                                {
                                    "FOGLALAS_PK": "1341",
                                    "SZOBA_FK": "82",
                                    "Időtartam": "2",
                                    "Előző iőtartam": "5"
                                },
                                {
                                    "FOGLALAS_PK": "1406",
                                    "SZOBA_FK": "82",
                                    "Időtartam": "1",
                                    "Előző iőtartam": "2"
                                },
                                {
                                    "FOGLALAS_PK": "572",
                                    "SZOBA_FK": "83",
                                    "Időtartam": "7",
                                    "Előző iőtartam": "0"
                                },
                                {
                                    "FOGLALAS_PK": "869",
                                    "SZOBA_FK": "83",
                                    "Időtartam": "6",
                                    "Előző iőtartam": "7"
                                },
                                {
                                    "FOGLALAS_PK": "878",
                                    "SZOBA_FK": "83",
                                    "Időtartam": "6",
                                    "Előző iőtartam": "6"
                                },
                                {
                                    "FOGLALAS_PK": "995",
                                    "SZOBA_FK": "83",
                                    "Időtartam": "5",
                                    "Előző iőtartam": "6"
                                },
                                {
                                    "FOGLALAS_PK": "674",
                                    "SZOBA_FK": "83",
                                    "Időtartam": "4",
                                    "Előző iőtartam": "5"
                                },
                                {
                                    "FOGLALAS_PK": "798",
                                    "SZOBA_FK": "83",
                                    "Időtartam": "4",
                                    "Előző iőtartam": "4"
                                },
                                {
                                    "FOGLALAS_PK": "1119",
                                    "SZOBA_FK": "83",
                                    "Időtartam": "6",
                                    "Előző iőtartam": "4"
                                },
                                {
                                    "FOGLALAS_PK": "1379",
                                    "SZOBA_FK": "83",
                                    "Időtartam": "7",
                                    "Előző iőtartam": "6"
                                },
                                {
                                    "FOGLALAS_PK": "954",
                                    "SZOBA_FK": "84",
                                    "Időtartam": "5",
                                    "Előző iőtartam": "0"
                                },
                                {
                                    "FOGLALAS_PK": "819",
                                    "SZOBA_FK": "84",
                                    "Időtartam": "2",
                                    "Előző iőtartam": "5"
                                },
                                {
                                    "FOGLALAS_PK": "1376",
                                    "SZOBA_FK": "84",
                                    "Időtartam": "5",
                                    "Előző iőtartam": "2"
                                },
                                {
                                    "FOGLALAS_PK": "1384",
                                    "SZOBA_FK": "84",
                                    "Időtartam": "7",
                                    "Előző iőtartam": "5"
                                },
                                {
                                    "FOGLALAS_PK": "647",
                                    "SZOBA_FK": "85",
                                    "Időtartam": "3",
                                    "Előző iőtartam": "0"
                                },
                                {
                                    "FOGLALAS_PK": "1059",
                                    "SZOBA_FK": "85",
                                    "Időtartam": "3",
                                    "Előző iőtartam": "3"
                                },
                                {
                                    "FOGLALAS_PK": "1320",
                                    "SZOBA_FK": "85",
                                    "Időtartam": "1",
                                    "Előző iőtartam": "3"
                                },
                                {
                                    "FOGLALAS_PK": "1513",
                                    "SZOBA_FK": "85",
                                    "Időtartam": "7",
                                    "Előző iőtartam": "1"
                                },
                                {
                                    "FOGLALAS_PK": "859",
                                    "SZOBA_FK": "86",
                                    "Időtartam": "1",
                                    "Előző iőtartam": "0"
                                },
                                {
                                    "FOGLALAS_PK": "1057",
                                    "SZOBA_FK": "86",
                                    "Időtartam": "5",
                                    "Előző iőtartam": "1"
                                },
                                {
                                    "FOGLALAS_PK": "1079",
                                    "SZOBA_FK": "86",
                                    "Időtartam": "4",
                                    "Előző iőtartam": "5"
                                },
                                {
                                    "FOGLALAS_PK": "1108",
                                    "SZOBA_FK": "86",
                                    "Időtartam": "1",
                                    "Előző iőtartam": "4"
                                },
                                {
                                    "FOGLALAS_PK": "1453",
                                    "SZOBA_FK": "86",
                                    "Időtartam": "1",
                                    "Előző iőtartam": "1"
                                },
                                {
                                    "FOGLALAS_PK": "558",
                                    "SZOBA_FK": "87",
                                    "Időtartam": "4",
                                    "Előző iőtartam": "0"
                                },
                                {
                                    "FOGLALAS_PK": "844",
                                    "SZOBA_FK": "87",
                                    "Időtartam": "1",
                                    "Előző iőtartam": "4"
                                },
                                {
                                    "FOGLALAS_PK": "1103",
                                    "SZOBA_FK": "87",
                                    "Időtartam": "3",
                                    "Előző iőtartam": "1"
                                },
                                {
                                    "FOGLALAS_PK": "1349",
                                    "SZOBA_FK": "87",
                                    "Időtartam": "5",
                                    "Előző iőtartam": "3"
                                },
                                {
                                    "FOGLALAS_PK": "1456",
                                    "SZOBA_FK": "87",
                                    "Időtartam": "5",
                                    "Előző iőtartam": "5"
                                },
                                {
                                    "FOGLALAS_PK": "866",
                                    "SZOBA_FK": "88",
                                    "Időtartam": "2",
                                    "Előző iőtartam": "0"
                                },
                                {
                                    "FOGLALAS_PK": "757",
                                    "SZOBA_FK": "88",
                                    "Időtartam": "7",
                                    "Előző iőtartam": "2"
                                },
                                {
                                    "FOGLALAS_PK": "1196",
                                    "SZOBA_FK": "88",
                                    "Időtartam": "3",
                                    "Előző iőtartam": "7"
                                },
                                {
                                    "FOGLALAS_PK": "1273",
                                    "SZOBA_FK": "88",
                                    "Időtartam": "7",
                                    "Előző iőtartam": "3"
                                },
                                {
                                    "FOGLALAS_PK": "1300",
                                    "SZOBA_FK": "88",
                                    "Időtartam": "3",
                                    "Előző iőtartam": "7"
                                },
                                {
                                    "FOGLALAS_PK": "1359",
                                    "SZOBA_FK": "88",
                                    "Időtartam": "2",
                                    "Előző iőtartam": "3"
                                },
                                {
                                    "FOGLALAS_PK": "1548",
                                    "SZOBA_FK": "88",
                                    "Időtartam": "7",
                                    "Előző iőtartam": "2"
                                },
                                {
                                    "FOGLALAS_PK": "1575",
                                    "SZOBA_FK": "88",
                                    "Időtartam": "6",
                                    "Előző iőtartam": "7"
                                },
                                {
                                    "FOGLALAS_PK": "817",
                                    "SZOBA_FK": "89",
                                    "Időtartam": "3",
                                    "Előző iőtartam": "0"
                                },
                                {
                                    "FOGLALAS_PK": "1037",
                                    "SZOBA_FK": "89",
                                    "Időtartam": "7",
                                    "Előző iőtartam": "3"
                                },
                                {
                                    "FOGLALAS_PK": "1101",
                                    "SZOBA_FK": "89",
                                    "Időtartam": "5",
                                    "Előző iőtartam": "7"
                                },
                                {
                                    "FOGLALAS_PK": "1189",
                                    "SZOBA_FK": "89",
                                    "Időtartam": "6",
                                    "Előző iőtartam": "5"
                                },
                                {
                                    "FOGLALAS_PK": "1253",
                                    "SZOBA_FK": "89",
                                    "Időtartam": "2",
                                    "Előző iőtartam": "6"
                                },
                                {
                                    "FOGLALAS_PK": "1269",
                                    "SZOBA_FK": "89",
                                    "Időtartam": "2",
                                    "Előző iőtartam": "2"
                                },
                                {
                                    "FOGLALAS_PK": "1399",
                                    "SZOBA_FK": "89",
                                    "Időtartam": "2",
                                    "Előző iőtartam": "2"
                                },
                                {
                                    "FOGLALAS_PK": "1521",
                                    "SZOBA_FK": "89",
                                    "Időtartam": "7",
                                    "Előző iőtartam": "2"
                                },
                                {
                                    "FOGLALAS_PK": "729",
                                    "SZOBA_FK": "90",
                                    "Időtartam": "2",
                                    "Előző iőtartam": "0"
                                },
                                {
                                    "FOGLALAS_PK": "1174",
                                    "SZOBA_FK": "90",
                                    "Időtartam": "7",
                                    "Előző iőtartam": "2"
                                },
                                {
                                    "FOGLALAS_PK": "1299",
                                    "SZOBA_FK": "90",
                                    "Időtartam": "6",
                                    "Előző iőtartam": "7"
                                },
                                {
                                    "FOGLALAS_PK": "1405",
                                    "SZOBA_FK": "90",
                                    "Időtartam": "5",
                                    "Előző iőtartam": "6"
                                },
                                {
                                    "FOGLALAS_PK": "636",
                                    "SZOBA_FK": "91",
                                    "Időtartam": "6",
                                    "Előző iőtartam": "0"
                                },
                                {
                                    "FOGLALAS_PK": "732",
                                    "SZOBA_FK": "91",
                                    "Időtartam": "4",
                                    "Előző iőtartam": "6"
                                },
                                {
                                    "FOGLALAS_PK": "1213",
                                    "SZOBA_FK": "91",
                                    "Időtartam": "3",
                                    "Előző iőtartam": "4"
                                },
                                {
                                    "FOGLALAS_PK": "1397",
                                    "SZOBA_FK": "91",
                                    "Időtartam": "4",
                                    "Előző iőtartam": "3"
                                },
                                {
                                    "FOGLALAS_PK": "942",
                                    "SZOBA_FK": "92",
                                    "Időtartam": "6",
                                    "Előző iőtartam": "0"
                                },
                                {
                                    "FOGLALAS_PK": "1016",
                                    "SZOBA_FK": "92",
                                    "Időtartam": "2",
                                    "Előző iőtartam": "6"
                                },
                                {
                                    "FOGLALAS_PK": "809",
                                    "SZOBA_FK": "92",
                                    "Időtartam": "3",
                                    "Előző iőtartam": "2"
                                },
                                {
                                    "FOGLALAS_PK": "841",
                                    "SZOBA_FK": "92",
                                    "Időtartam": "6",
                                    "Előző iőtartam": "3"
                                },
                                {
                                    "FOGLALAS_PK": "1527",
                                    "SZOBA_FK": "92",
                                    "Időtartam": "2",
                                    "Előző iőtartam": "6"
                                },
                                {
                                    "FOGLALAS_PK": "1555",
                                    "SZOBA_FK": "92",
                                    "Időtartam": "4",
                                    "Előző iőtartam": "2"
                                },
                                {
                                    "FOGLALAS_PK": "741",
                                    "SZOBA_FK": "93",
                                    "Időtartam": "7",
                                    "Előző iőtartam": "0"
                                },
                                {
                                    "FOGLALAS_PK": "1169",
                                    "SZOBA_FK": "93",
                                    "Időtartam": "4",
                                    "Előző iőtartam": "7"
                                },
                                {
                                    "FOGLALAS_PK": "1217",
                                    "SZOBA_FK": "93",
                                    "Időtartam": "1",
                                    "Előző iőtartam": "4"
                                },
                                {
                                    "FOGLALAS_PK": "1355",
                                    "SZOBA_FK": "93",
                                    "Időtartam": "2",
                                    "Előző iőtartam": "1"
                                },
                                {
                                    "FOGLALAS_PK": "1391",
                                    "SZOBA_FK": "93",
                                    "Időtartam": "4",
                                    "Előző iőtartam": "2"
                                },
                                {
                                    "FOGLALAS_PK": "616",
                                    "SZOBA_FK": "94",
                                    "Időtartam": "4",
                                    "Előző iőtartam": "0"
                                },
                                {
                                    "FOGLALAS_PK": "975",
                                    "SZOBA_FK": "94",
                                    "Időtartam": "5",
                                    "Előző iőtartam": "4"
                                },
                                {
                                    "FOGLALAS_PK": "665",
                                    "SZOBA_FK": "94",
                                    "Időtartam": "7",
                                    "Előző iőtartam": "5"
                                },
                                {
                                    "FOGLALAS_PK": "727",
                                    "SZOBA_FK": "94",
                                    "Időtartam": "3",
                                    "Előző iőtartam": "7"
                                },
                                {
                                    "FOGLALAS_PK": "1241",
                                    "SZOBA_FK": "94",
                                    "Időtartam": "7",
                                    "Előző iőtartam": "3"
                                },
                                {
                                    "FOGLALAS_PK": "1305",
                                    "SZOBA_FK": "94",
                                    "Időtartam": "2",
                                    "Előző iőtartam": "7"
                                },
                                {
                                    "FOGLALAS_PK": "1312",
                                    "SZOBA_FK": "94",
                                    "Időtartam": "3",
                                    "Előző iőtartam": "2"
                                },
                                {
                                    "FOGLALAS_PK": "1368",
                                    "SZOBA_FK": "94",
                                    "Időtartam": "1",
                                    "Előző iőtartam": "3"
                                },
                                {
                                    "FOGLALAS_PK": "1518",
                                    "SZOBA_FK": "94",
                                    "Időtartam": "2",
                                    "Előző iőtartam": "1"
                                },
                                {
                                    "FOGLALAS_PK": "1564",
                                    "SZOBA_FK": "94",
                                    "Időtartam": "7",
                                    "Előző iőtartam": "2"
                                },
                                {
                                    "FOGLALAS_PK": "656",
                                    "SZOBA_FK": "95",
                                    "Időtartam": "7",
                                    "Előző iőtartam": "0"
                                },
                                {
                                    "FOGLALAS_PK": "1048",
                                    "SZOBA_FK": "95",
                                    "Időtartam": "3",
                                    "Előző iőtartam": "7"
                                },
                                {
                                    "FOGLALAS_PK": "1097",
                                    "SZOBA_FK": "95",
                                    "Időtartam": "4",
                                    "Előző iőtartam": "3"
                                },
                                {
                                    "FOGLALAS_PK": "1543",
                                    "SZOBA_FK": "95",
                                    "Időtartam": "7",
                                    "Előző iőtartam": "4"
                                },
                                {
                                    "FOGLALAS_PK": "607",
                                    "SZOBA_FK": "96",
                                    "Időtartam": "4",
                                    "Előző iőtartam": "0"
                                },
                                {
                                    "FOGLALAS_PK": "623",
                                    "SZOBA_FK": "96",
                                    "Időtartam": "7",
                                    "Előző iőtartam": "4"
                                },
                                {
                                    "FOGLALAS_PK": "671",
                                    "SZOBA_FK": "96",
                                    "Időtartam": "4",
                                    "Előző iőtartam": "7"
                                },
                                {
                                    "FOGLALAS_PK": "780",
                                    "SZOBA_FK": "96",
                                    "Időtartam": "1",
                                    "Előző iőtartam": "4"
                                },
                                {
                                    "FOGLALAS_PK": "1378",
                                    "SZOBA_FK": "96",
                                    "Időtartam": "3",
                                    "Előző iőtartam": "1"
                                },
                                {
                                    "FOGLALAS_PK": "1438",
                                    "SZOBA_FK": "96",
                                    "Időtartam": "2",
                                    "Előző iőtartam": "3"
                                },
                                {
                                    "FOGLALAS_PK": "1569",
                                    "SZOBA_FK": "96",
                                    "Időtartam": "7",
                                    "Előző iőtartam": "2"
                                },
                                {
                                    "FOGLALAS_PK": "635",
                                    "SZOBA_FK": "97",
                                    "Időtartam": "3",
                                    "Előző iőtartam": "0"
                                },
                                {
                                    "FOGLALAS_PK": "726",
                                    "SZOBA_FK": "97",
                                    "Időtartam": "4",
                                    "Előző iőtartam": "3"
                                },
                                {
                                    "FOGLALAS_PK": "718",
                                    "SZOBA_FK": "97",
                                    "Időtartam": "7",
                                    "Előző iőtartam": "4"
                                },
                                {
                                    "FOGLALAS_PK": "836",
                                    "SZOBA_FK": "97",
                                    "Időtartam": "2",
                                    "Előző iőtartam": "7"
                                },
                                {
                                    "FOGLALAS_PK": "1395",
                                    "SZOBA_FK": "97",
                                    "Időtartam": "1",
                                    "Előző iőtartam": "2"
                                },
                                {
                                    "FOGLALAS_PK": "1417",
                                    "SZOBA_FK": "97",
                                    "Időtartam": "7",
                                    "Előző iőtartam": "1"
                                },
                                {
                                    "FOGLALAS_PK": "1528",
                                    "SZOBA_FK": "97",
                                    "Időtartam": "2",
                                    "Előző iőtartam": "7"
                                },
                                {
                                    "FOGLALAS_PK": "631",
                                    "SZOBA_FK": "98",
                                    "Időtartam": "6",
                                    "Előző iőtartam": "0"
                                },
                                {
                                    "FOGLALAS_PK": "884",
                                    "SZOBA_FK": "98",
                                    "Időtartam": "5",
                                    "Előző iőtartam": "6"
                                },
                                {
                                    "FOGLALAS_PK": "1050",
                                    "SZOBA_FK": "98",
                                    "Időtartam": "6",
                                    "Előző iőtartam": "5"
                                },
                                {
                                    "FOGLALAS_PK": "1402",
                                    "SZOBA_FK": "98",
                                    "Időtartam": "2",
                                    "Előző iőtartam": "6"
                                },
                                {
                                    "FOGLALAS_PK": "632",
                                    "SZOBA_FK": "99",
                                    "Időtartam": "1",
                                    "Előző iőtartam": "0"
                                },
                                {
                                    "FOGLALAS_PK": "691",
                                    "SZOBA_FK": "99",
                                    "Időtartam": "5",
                                    "Előző iőtartam": "1"
                                },
                                {
                                    "FOGLALAS_PK": "1072",
                                    "SZOBA_FK": "99",
                                    "Időtartam": "1",
                                    "Előző iőtartam": "5"
                                },
                                {
                                    "FOGLALAS_PK": "1408",
                                    "SZOBA_FK": "99",
                                    "Időtartam": "1",
                                    "Előző iőtartam": "1"
                                },
                                {
                                    "FOGLALAS_PK": "1486",
                                    "SZOBA_FK": "99",
                                    "Időtartam": "5",
                                    "Előző iőtartam": "1"
                                },
                                {
                                    "FOGLALAS_PK": "597",
                                    "SZOBA_FK": "100",
                                    "Időtartam": "1",
                                    "Előző iőtartam": "0"
                                },
                                {
                                    "FOGLALAS_PK": "637",
                                    "SZOBA_FK": "100",
                                    "Időtartam": "5",
                                    "Előző iőtartam": "1"
                                },
                                {
                                    "FOGLALAS_PK": "1315",
                                    "SZOBA_FK": "100",
                                    "Időtartam": "5",
                                    "Előző iőtartam": "5"
                                },
                                {
                                    "FOGLALAS_PK": "1482",
                                    "SZOBA_FK": "100",
                                    "Időtartam": "7",
                                    "Előző iőtartam": "5"
                                },
                                {
                                    "FOGLALAS_PK": "715",
                                    "SZOBA_FK": "101",
                                    "Időtartam": "3",
                                    "Előző iőtartam": "0"
                                },
                                {
                                    "FOGLALAS_PK": "1332",
                                    "SZOBA_FK": "101",
                                    "Időtartam": "6",
                                    "Előző iőtartam": "3"
                                },
                                {
                                    "FOGLALAS_PK": "1516",
                                    "SZOBA_FK": "101",
                                    "Időtartam": "4",
                                    "Előző iőtartam": "6"
                                },
                                {
                                    "FOGLALAS_PK": "689",
                                    "SZOBA_FK": "102",
                                    "Időtartam": "5",
                                    "Előző iőtartam": "0"
                                },
                                {
                                    "FOGLALAS_PK": "1343",
                                    "SZOBA_FK": "102",
                                    "Időtartam": "2",
                                    "Előző iőtartam": "5"
                                },
                                {
                                    "FOGLALAS_PK": "972",
                                    "SZOBA_FK": "103",
                                    "Időtartam": "2",
                                    "Előző iőtartam": "0"
                                },
                                {
                                    "FOGLALAS_PK": "992",
                                    "SZOBA_FK": "103",
                                    "Időtartam": "7",
                                    "Előző iőtartam": "2"
                                },
                                {
                                    "FOGLALAS_PK": "1398",
                                    "SZOBA_FK": "103",
                                    "Időtartam": "1",
                                    "Előző iőtartam": "7"
                                },
                                {
                                    "FOGLALAS_PK": "1485",
                                    "SZOBA_FK": "103",
                                    "Időtartam": "4",
                                    "Előző iőtartam": "1"
                                },
                                {
                                    "FOGLALAS_PK": "837",
                                    "SZOBA_FK": "104",
                                    "Időtartam": "4",
                                    "Előző iőtartam": "0"
                                },
                                {
                                    "FOGLALAS_PK": "1180",
                                    "SZOBA_FK": "104",
                                    "Időtartam": "1",
                                    "Előző iőtartam": "4"
                                },
                                {
                                    "FOGLALAS_PK": "1522",
                                    "SZOBA_FK": "104",
                                    "Időtartam": "2",
                                    "Előző iőtartam": "1"
                                },
                                {
                                    "FOGLALAS_PK": "1532",
                                    "SZOBA_FK": "104",
                                    "Időtartam": "3",
                                    "Előző iőtartam": "2"
                                },
                                {
                                    "FOGLALAS_PK": "618",
                                    "SZOBA_FK": "105",
                                    "Időtartam": "1",
                                    "Előző iőtartam": "0"
                                },
                                {
                                    "FOGLALAS_PK": "1525",
                                    "SZOBA_FK": "105",
                                    "Időtartam": "5",
                                    "Előző iőtartam": "1"
                                },
                                {
                                    "FOGLALAS_PK": "610",
                                    "SZOBA_FK": "106",
                                    "Időtartam": "3",
                                    "Előző iőtartam": "0"
                                },
                                {
                                    "FOGLALAS_PK": "708",
                                    "SZOBA_FK": "106",
                                    "Időtartam": "7",
                                    "Előző iőtartam": "3"
                                },
                                {
                                    "FOGLALAS_PK": "1228",
                                    "SZOBA_FK": "106",
                                    "Időtartam": "7",
                                    "Előző iőtartam": "7"
                                },
                                {
                                    "FOGLALAS_PK": "1271",
                                    "SZOBA_FK": "106",
                                    "Időtartam": "5",
                                    "Előző iőtartam": "7"
                                },
                                {
                                    "FOGLALAS_PK": "1372",
                                    "SZOBA_FK": "106",
                                    "Időtartam": "7",
                                    "Előző iőtartam": "5"
                                },
                                {
                                    "FOGLALAS_PK": "1510",
                                    "SZOBA_FK": "106",
                                    "Időtartam": "6",
                                    "Előző iőtartam": "7"
                                },
                                {
                                    "FOGLALAS_PK": "586",
                                    "SZOBA_FK": "107",
                                    "Időtartam": "6",
                                    "Előző iőtartam": "0"
                                },
                                {
                                    "FOGLALAS_PK": "1250",
                                    "SZOBA_FK": "107",
                                    "Időtartam": "4",
                                    "Előző iőtartam": "6"
                                },
                                {
                                    "FOGLALAS_PK": "1354",
                                    "SZOBA_FK": "107",
                                    "Időtartam": "1",
                                    "Előző iőtartam": "4"
                                },
                                {
                                    "FOGLALAS_PK": "1452",
                                    "SZOBA_FK": "107",
                                    "Időtartam": "6",
                                    "Előző iőtartam": "1"
                                },
                                {
                                    "FOGLALAS_PK": "1494",
                                    "SZOBA_FK": "107",
                                    "Időtartam": "2",
                                    "Előző iőtartam": "6"
                                },
                                {
                                    "FOGLALAS_PK": "1102",
                                    "SZOBA_FK": "108",
                                    "Időtartam": "1",
                                    "Előző iőtartam": "0"
                                },
                                {
                                    "FOGLALAS_PK": "1392",
                                    "SZOBA_FK": "108",
                                    "Időtartam": "6",
                                    "Előző iőtartam": "1"
                                },
                                {
                                    "FOGLALAS_PK": "614",
                                    "SZOBA_FK": "109",
                                    "Időtartam": "4",
                                    "Előző iőtartam": "0"
                                },
                                {
                                    "FOGLALAS_PK": "621",
                                    "SZOBA_FK": "109",
                                    "Időtartam": "7",
                                    "Előző iőtartam": "4"
                                },
                                {
                                    "FOGLALAS_PK": "654",
                                    "SZOBA_FK": "109",
                                    "Időtartam": "5",
                                    "Előző iőtartam": "7"
                                },
                                {
                                    "FOGLALAS_PK": "810",
                                    "SZOBA_FK": "109",
                                    "Időtartam": "2",
                                    "Előző iőtartam": "5"
                                },
                                {
                                    "FOGLALAS_PK": "1083",
                                    "SZOBA_FK": "109",
                                    "Időtartam": "1",
                                    "Előző iőtartam": "2"
                                },
                                {
                                    "FOGLALAS_PK": "1298",
                                    "SZOBA_FK": "109",
                                    "Időtartam": "4",
                                    "Előző iőtartam": "1"
                                },
                                {
                                    "FOGLALAS_PK": "1560",
                                    "SZOBA_FK": "109",
                                    "Időtartam": "1",
                                    "Előző iőtartam": "4"
                                },
                                {
                                    "FOGLALAS_PK": "931",
                                    "SZOBA_FK": "110",
                                    "Időtartam": "5",
                                    "Előző iőtartam": "0"
                                },
                                {
                                    "FOGLALAS_PK": "964",
                                    "SZOBA_FK": "110",
                                    "Időtartam": "6",
                                    "Előző iőtartam": "5"
                                },
                                {
                                    "FOGLALAS_PK": "685",
                                    "SZOBA_FK": "110",
                                    "Időtartam": "1",
                                    "Előző iőtartam": "6"
                                },
                                {
                                    "FOGLALAS_PK": "1041",
                                    "SZOBA_FK": "110",
                                    "Időtartam": "3",
                                    "Előző iőtartam": "1"
                                },
                                {
                                    "FOGLALAS_PK": "1109",
                                    "SZOBA_FK": "110",
                                    "Időtartam": "5",
                                    "Előző iőtartam": "3"
                                },
                                {
                                    "FOGLALAS_PK": "1162",
                                    "SZOBA_FK": "110",
                                    "Időtartam": "2",
                                    "Előző iőtartam": "5"
                                },
                                {
                                    "FOGLALAS_PK": "1424",
                                    "SZOBA_FK": "110",
                                    "Időtartam": "1",
                                    "Előző iőtartam": "2"
                                },
                                {
                                    "FOGLALAS_PK": "1489",
                                    "SZOBA_FK": "110",
                                    "Időtartam": "6",
                                    "Előző iőtartam": "1"
                                },
                                {
                                    "FOGLALAS_PK": "605",
                                    "SZOBA_FK": "111",
                                    "Időtartam": "7",
                                    "Előző iőtartam": "0"
                                },
                                {
                                    "FOGLALAS_PK": "959",
                                    "SZOBA_FK": "111",
                                    "Időtartam": "7",
                                    "Előző iőtartam": "7"
                                },
                                {
                                    "FOGLALAS_PK": "786",
                                    "SZOBA_FK": "111",
                                    "Időtartam": "4",
                                    "Előző iőtartam": "7"
                                },
                                {
                                    "FOGLALAS_PK": "1296",
                                    "SZOBA_FK": "111",
                                    "Időtartam": "3",
                                    "Előző iőtartam": "4"
                                },
                                {
                                    "FOGLALAS_PK": "1353",
                                    "SZOBA_FK": "111",
                                    "Időtartam": "5",
                                    "Előző iőtartam": "3"
                                },
                                {
                                    "FOGLALAS_PK": "921",
                                    "SZOBA_FK": "112",
                                    "Időtartam": "1",
                                    "Előző iőtartam": "0"
                                },
                                {
                                    "FOGLALAS_PK": "776",
                                    "SZOBA_FK": "112",
                                    "Időtartam": "4",
                                    "Előző iőtartam": "1"
                                },
                                {
                                    "FOGLALAS_PK": "801",
                                    "SZOBA_FK": "112",
                                    "Időtartam": "5",
                                    "Előző iőtartam": "4"
                                },
                                {
                                    "FOGLALAS_PK": "1124",
                                    "SZOBA_FK": "112",
                                    "Időtartam": "6",
                                    "Előző iőtartam": "5"
                                },
                                {
                                    "FOGLALAS_PK": "1530",
                                    "SZOBA_FK": "112",
                                    "Időtartam": "6",
                                    "Előző iőtartam": "6"
                                },
                                {
                                    "FOGLALAS_PK": "1029",
                                    "SZOBA_FK": "113",
                                    "Időtartam": "5",
                                    "Előző iőtartam": "0"
                                },
                                {
                                    "FOGLALAS_PK": "1085",
                                    "SZOBA_FK": "113",
                                    "Időtartam": "4",
                                    "Előző iőtartam": "5"
                                },
                                {
                                    "FOGLALAS_PK": "1263",
                                    "SZOBA_FK": "113",
                                    "Időtartam": "1",
                                    "Előző iőtartam": "4"
                                },
                                {
                                    "FOGLALAS_PK": "1495",
                                    "SZOBA_FK": "113",
                                    "Időtartam": "7",
                                    "Előző iőtartam": "1"
                                },
                                {
                                    "FOGLALAS_PK": "1499",
                                    "SZOBA_FK": "113",
                                    "Időtartam": "2",
                                    "Előző iőtartam": "7"
                                },
                                {
                                    "FOGLALAS_PK": "966",
                                    "SZOBA_FK": "114",
                                    "Időtartam": "6",
                                    "Előző iőtartam": "0"
                                },
                                {
                                    "FOGLALAS_PK": "737",
                                    "SZOBA_FK": "114",
                                    "Időtartam": "2",
                                    "Előző iőtartam": "6"
                                },
                                {
                                    "FOGLALAS_PK": "827",
                                    "SZOBA_FK": "114",
                                    "Időtartam": "7",
                                    "Előző iőtartam": "2"
                                },
                                {
                                    "FOGLALAS_PK": "1540",
                                    "SZOBA_FK": "114",
                                    "Időtartam": "3",
                                    "Előző iőtartam": "7"
                                },
                                {
                                    "FOGLALAS_PK": "596",
                                    "SZOBA_FK": "115",
                                    "Időtartam": "7",
                                    "Előző iőtartam": "0"
                                },
                                {
                                    "FOGLALAS_PK": "943",
                                    "SZOBA_FK": "115",
                                    "Időtartam": "7",
                                    "Előző iőtartam": "7"
                                },
                                {
                                    "FOGLALAS_PK": "1121",
                                    "SZOBA_FK": "115",
                                    "Időtartam": "7",
                                    "Előző iőtartam": "7"
                                },
                                {
                                    "FOGLALAS_PK": "1154",
                                    "SZOBA_FK": "115",
                                    "Időtartam": "4",
                                    "Előző iőtartam": "7"
                                },
                                {
                                    "FOGLALAS_PK": "1352",
                                    "SZOBA_FK": "115",
                                    "Időtartam": "3",
                                    "Előző iőtartam": "4"
                                },
                                {
                                    "FOGLALAS_PK": "1554",
                                    "SZOBA_FK": "115",
                                    "Időtartam": "3",
                                    "Előző iőtartam": "3"
                                },
                                {
                                    "FOGLALAS_PK": "1566",
                                    "SZOBA_FK": "115",
                                    "Időtartam": "1",
                                    "Előző iőtartam": "3"
                                },
                                {
                                    "FOGLALAS_PK": "1455",
                                    "SZOBA_FK": "116",
                                    "Időtartam": "2",
                                    "Előző iőtartam": "0"
                                },
                                {
                                    "FOGLALAS_PK": "1501",
                                    "SZOBA_FK": "116",
                                    "Időtartam": "4",
                                    "Előző iőtartam": "2"
                                },
                                {
                                    "FOGLALAS_PK": "612",
                                    "SZOBA_FK": "117",
                                    "Időtartam": "2",
                                    "Előző iőtartam": "0"
                                },
                                {
                                    "FOGLALAS_PK": "617",
                                    "SZOBA_FK": "117",
                                    "Időtartam": "3",
                                    "Előző iőtartam": "2"
                                },
                                {
                                    "FOGLALAS_PK": "953",
                                    "SZOBA_FK": "117",
                                    "Időtartam": "5",
                                    "Előző iőtartam": "3"
                                },
                                {
                                    "FOGLALAS_PK": "962",
                                    "SZOBA_FK": "117",
                                    "Időtartam": "4",
                                    "Előző iőtartam": "5"
                                },
                                {
                                    "FOGLALAS_PK": "1002",
                                    "SZOBA_FK": "117",
                                    "Időtartam": "1",
                                    "Előző iőtartam": "4"
                                },
                                {
                                    "FOGLALAS_PK": "1192",
                                    "SZOBA_FK": "117",
                                    "Időtartam": "2",
                                    "Előző iőtartam": "1"
                                },
                                {
                                    "FOGLALAS_PK": "1247",
                                    "SZOBA_FK": "117",
                                    "Időtartam": "3",
                                    "Előző iőtartam": "2"
                                },
                                {
                                    "FOGLALAS_PK": "1468",
                                    "SZOBA_FK": "117",
                                    "Időtartam": "7",
                                    "Előző iőtartam": "3"
                                },
                                {
                                    "FOGLALAS_PK": "864",
                                    "SZOBA_FK": "118",
                                    "Időtartam": "6",
                                    "Előző iőtartam": "0"
                                },
                                {
                                    "FOGLALAS_PK": "994",
                                    "SZOBA_FK": "118",
                                    "Időtartam": "7",
                                    "Előző iőtartam": "6"
                                },
                                {
                                    "FOGLALAS_PK": "996",
                                    "SZOBA_FK": "118",
                                    "Időtartam": "3",
                                    "Előző iőtartam": "7"
                                },
                                {
                                    "FOGLALAS_PK": "716",
                                    "SZOBA_FK": "118",
                                    "Időtartam": "1",
                                    "Előző iőtartam": "3"
                                },
                                {
                                    "FOGLALAS_PK": "1374",
                                    "SZOBA_FK": "118",
                                    "Időtartam": "5",
                                    "Előző iőtartam": "1"
                                },
                                {
                                    "FOGLALAS_PK": "1472",
                                    "SZOBA_FK": "118",
                                    "Időtartam": "6",
                                    "Előző iőtartam": "5"
                                },
                                {
                                    "FOGLALAS_PK": "1481",
                                    "SZOBA_FK": "118",
                                    "Időtartam": "3",
                                    "Előző iőtartam": "6"
                                },
                                {
                                    "FOGLALAS_PK": "1026",
                                    "SZOBA_FK": "119",
                                    "Időtartam": "3",
                                    "Előző iőtartam": "0"
                                },
                                {
                                    "FOGLALAS_PK": "706",
                                    "SZOBA_FK": "119",
                                    "Időtartam": "2",
                                    "Előző iőtartam": "3"
                                },
                                {
                                    "FOGLALAS_PK": "722",
                                    "SZOBA_FK": "119",
                                    "Időtartam": "1",
                                    "Előző iőtartam": "2"
                                },
                                {
                                    "FOGLALAS_PK": "1413",
                                    "SZOBA_FK": "119",
                                    "Időtartam": "3",
                                    "Előző iőtartam": "1"
                                },
                                {
                                    "FOGLALAS_PK": "1488",
                                    "SZOBA_FK": "119",
                                    "Időtartam": "3",
                                    "Előző iőtartam": "3"
                                },
                                {
                                    "FOGLALAS_PK": "998",
                                    "SZOBA_FK": "120",
                                    "Időtartam": "3",
                                    "Előző iőtartam": "0"
                                },
                                {
                                    "FOGLALAS_PK": "762",
                                    "SZOBA_FK": "120",
                                    "Időtartam": "3",
                                    "Előző iőtartam": "3"
                                },
                                {
                                    "FOGLALAS_PK": "1089",
                                    "SZOBA_FK": "120",
                                    "Időtartam": "6",
                                    "Előző iőtartam": "3"
                                },
                                {
                                    "FOGLALAS_PK": "1339",
                                    "SZOBA_FK": "120",
                                    "Időtartam": "6",
                                    "Előző iőtartam": "6"
                                },
                                {
                                    "FOGLALAS_PK": "1483",
                                    "SZOBA_FK": "120",
                                    "Időtartam": "1",
                                    "Előző iőtartam": "6"
                                },
                                {
                                    "FOGLALAS_PK": "1493",
                                    "SZOBA_FK": "120",
                                    "Időtartam": "7",
                                    "Előző iőtartam": "1"
                                },
                                {
                                    "FOGLALAS_PK": "858",
                                    "SZOBA_FK": "121",
                                    "Időtartam": "5",
                                    "Előző iőtartam": "0"
                                },
                                {
                                    "FOGLALAS_PK": "735",
                                    "SZOBA_FK": "121",
                                    "Időtartam": "6",
                                    "Előző iőtartam": "5"
                                },
                                {
                                    "FOGLALAS_PK": "739",
                                    "SZOBA_FK": "121",
                                    "Időtartam": "6",
                                    "Előző iőtartam": "6"
                                },
                                {
                                    "FOGLALAS_PK": "1049",
                                    "SZOBA_FK": "121",
                                    "Időtartam": "3",
                                    "Előző iőtartam": "6"
                                },
                                {
                                    "FOGLALAS_PK": "1128",
                                    "SZOBA_FK": "121",
                                    "Időtartam": "4",
                                    "Előző iőtartam": "3"
                                },
                                {
                                    "FOGLALAS_PK": "1215",
                                    "SZOBA_FK": "121",
                                    "Időtartam": "4",
                                    "Előző iőtartam": "4"
                                },
                                {
                                    "FOGLALAS_PK": "1373",
                                    "SZOBA_FK": "121",
                                    "Időtartam": "5",
                                    "Előző iőtartam": "4"
                                },
                                {
                                    "FOGLALAS_PK": "1393",
                                    "SZOBA_FK": "121",
                                    "Időtartam": "6",
                                    "Előző iőtartam": "5"
                                },
                                {
                                    "FOGLALAS_PK": "1007",
                                    "SZOBA_FK": "122",
                                    "Időtartam": "2",
                                    "Előző iőtartam": "0"
                                },
                                {
                                    "FOGLALAS_PK": "1036",
                                    "SZOBA_FK": "122",
                                    "Időtartam": "2",
                                    "Előző iőtartam": "2"
                                },
                                {
                                    "FOGLALAS_PK": "1062",
                                    "SZOBA_FK": "122",
                                    "Időtartam": "3",
                                    "Előző iőtartam": "2"
                                },
                                {
                                    "FOGLALAS_PK": "1166",
                                    "SZOBA_FK": "122",
                                    "Időtartam": "4",
                                    "Előző iőtartam": "3"
                                },
                                {
                                    "FOGLALAS_PK": "1209",
                                    "SZOBA_FK": "122",
                                    "Időtartam": "1",
                                    "Előző iőtartam": "4"
                                },
                                {
                                    "FOGLALAS_PK": "1245",
                                    "SZOBA_FK": "122",
                                    "Időtartam": "2",
                                    "Előző iőtartam": "1"
                                },
                                {
                                    "FOGLALAS_PK": "1337",
                                    "SZOBA_FK": "122",
                                    "Időtartam": "2",
                                    "Előző iőtartam": "2"
                                },
                                {
                                    "FOGLALAS_PK": "1385",
                                    "SZOBA_FK": "122",
                                    "Időtartam": "5",
                                    "Előző iőtartam": "2"
                                },
                                {
                                    "FOGLALAS_PK": "1440",
                                    "SZOBA_FK": "122",
                                    "Időtartam": "3",
                                    "Előző iőtartam": "5"
                                },
                                {
                                    "FOGLALAS_PK": "587",
                                    "SZOBA_FK": "123",
                                    "Időtartam": "7",
                                    "Előző iőtartam": "0"
                                },
                                {
                                    "FOGLALAS_PK": "923",
                                    "SZOBA_FK": "123",
                                    "Időtartam": "4",
                                    "Előző iőtartam": "7"
                                },
                                {
                                    "FOGLALAS_PK": "967",
                                    "SZOBA_FK": "123",
                                    "Időtartam": "5",
                                    "Előző iőtartam": "4"
                                },
                                {
                                    "FOGLALAS_PK": "1223",
                                    "SZOBA_FK": "123",
                                    "Időtartam": "1",
                                    "Előző iőtartam": "5"
                                },
                                {
                                    "FOGLALAS_PK": "1282",
                                    "SZOBA_FK": "123",
                                    "Időtartam": "6",
                                    "Előző iőtartam": "1"
                                },
                                {
                                    "FOGLALAS_PK": "861",
                                    "SZOBA_FK": "124",
                                    "Időtartam": "1",
                                    "Előző iőtartam": "0"
                                },
                                {
                                    "FOGLALAS_PK": "1210",
                                    "SZOBA_FK": "124",
                                    "Időtartam": "4",
                                    "Előző iőtartam": "1"
                                },
                                {
                                    "FOGLALAS_PK": "1330",
                                    "SZOBA_FK": "124",
                                    "Időtartam": "7",
                                    "Előző iőtartam": "4"
                                },
                                {
                                    "FOGLALAS_PK": "1403",
                                    "SZOBA_FK": "124",
                                    "Időtartam": "6",
                                    "Előző iőtartam": "7"
                                },
                                {
                                    "FOGLALAS_PK": "1419",
                                    "SZOBA_FK": "124",
                                    "Időtartam": "3",
                                    "Előző iőtartam": "6"
                                },
                                {
                                    "FOGLALAS_PK": "1531",
                                    "SZOBA_FK": "124",
                                    "Időtartam": "6",
                                    "Előző iőtartam": "3"
                                },
                                {
                                    "FOGLALAS_PK": "576",
                                    "SZOBA_FK": "125",
                                    "Időtartam": "1",
                                    "Előző iőtartam": "0"
                                },
                                {
                                    "FOGLALAS_PK": "754",
                                    "SZOBA_FK": "126",
                                    "Időtartam": "4",
                                    "Előző iőtartam": "0"
                                },
                                {
                                    "FOGLALAS_PK": "806",
                                    "SZOBA_FK": "126",
                                    "Időtartam": "6",
                                    "Előző iőtartam": "4"
                                },
                                {
                                    "FOGLALAS_PK": "1134",
                                    "SZOBA_FK": "126",
                                    "Időtartam": "1",
                                    "Előző iőtartam": "6"
                                },
                                {
                                    "FOGLALAS_PK": "1364",
                                    "SZOBA_FK": "126",
                                    "Időtartam": "6",
                                    "Előző iőtartam": "1"
                                },
                                {
                                    "FOGLALAS_PK": "1428",
                                    "SZOBA_FK": "126",
                                    "Időtartam": "7",
                                    "Előző iőtartam": "6"
                                },
                                {
                                    "FOGLALAS_PK": "1500",
                                    "SZOBA_FK": "126",
                                    "Időtartam": "4",
                                    "Előző iőtartam": "7"
                                },
                                {
                                    "FOGLALAS_PK": "643",
                                    "SZOBA_FK": "127",
                                    "Időtartam": "2",
                                    "Előző iőtartam": "0"
                                },
                                {
                                    "FOGLALAS_PK": "853",
                                    "SZOBA_FK": "127",
                                    "Időtartam": "5",
                                    "Előző iőtartam": "2"
                                },
                                {
                                    "FOGLALAS_PK": "879",
                                    "SZOBA_FK": "127",
                                    "Időtartam": "2",
                                    "Előző iőtartam": "5"
                                },
                                {
                                    "FOGLALAS_PK": "1034",
                                    "SZOBA_FK": "127",
                                    "Időtartam": "6",
                                    "Előző iőtartam": "2"
                                },
                                {
                                    "FOGLALAS_PK": "1226",
                                    "SZOBA_FK": "127",
                                    "Időtartam": "5",
                                    "Előző iőtartam": "6"
                                },
                                {
                                    "FOGLALAS_PK": "1286",
                                    "SZOBA_FK": "127",
                                    "Időtartam": "1",
                                    "Előző iőtartam": "5"
                                },
                                {
                                    "FOGLALAS_PK": "1579",
                                    "SZOBA_FK": "127",
                                    "Időtartam": "5",
                                    "Előző iőtartam": "1"
                                },
                                {
                                    "FOGLALAS_PK": "717",
                                    "SZOBA_FK": "128",
                                    "Időtartam": "2",
                                    "Előző iőtartam": "0"
                                },
                                {
                                    "FOGLALAS_PK": "815",
                                    "SZOBA_FK": "128",
                                    "Időtartam": "1",
                                    "Előző iőtartam": "2"
                                },
                                {
                                    "FOGLALAS_PK": "1290",
                                    "SZOBA_FK": "128",
                                    "Időtartam": "1",
                                    "Előző iőtartam": "1"
                                },
                                {
                                    "FOGLALAS_PK": "1574",
                                    "SZOBA_FK": "128",
                                    "Időtartam": "1",
                                    "Előző iőtartam": "1"
                                },
                                {
                                    "FOGLALAS_PK": "1583",
                                    "SZOBA_FK": "128",
                                    "Időtartam": "4",
                                    "Előző iőtartam": "1"
                                },
                                {
                                    "FOGLALAS_PK": "723",
                                    "SZOBA_FK": "129",
                                    "Időtartam": "7",
                                    "Előző iőtartam": "0"
                                },
                                {
                                    "FOGLALAS_PK": "1360",
                                    "SZOBA_FK": "129",
                                    "Időtartam": "6",
                                    "Előző iőtartam": "7"
                                },
                                {
                                    "FOGLALAS_PK": "1445",
                                    "SZOBA_FK": "129",
                                    "Időtartam": "7",
                                    "Előző iőtartam": "6"
                                },
                                {
                                    "FOGLALAS_PK": "1509",
                                    "SZOBA_FK": "129",
                                    "Időtartam": "6",
                                    "Előző iőtartam": "7"
                                },
                                {
                                    "FOGLALAS_PK": "580",
                                    "SZOBA_FK": "130",
                                    "Időtartam": "3",
                                    "Előző iőtartam": "0"
                                },
                                {
                                    "FOGLALAS_PK": "613",
                                    "SZOBA_FK": "130",
                                    "Időtartam": "3",
                                    "Előző iőtartam": "3"
                                },
                                {
                                    "FOGLALAS_PK": "910",
                                    "SZOBA_FK": "130",
                                    "Időtartam": "2",
                                    "Előző iőtartam": "3"
                                },
                                {
                                    "FOGLALAS_PK": "779",
                                    "SZOBA_FK": "130",
                                    "Időtartam": "6",
                                    "Előző iőtartam": "2"
                                },
                                {
                                    "FOGLALAS_PK": "1040",
                                    "SZOBA_FK": "130",
                                    "Időtartam": "1",
                                    "Előző iőtartam": "6"
                                },
                                {
                                    "FOGLALAS_PK": "1475",
                                    "SZOBA_FK": "130",
                                    "Időtartam": "7",
                                    "Előző iőtartam": "1"
                                },
                                {
                                    "FOGLALAS_PK": "559",
                                    "SZOBA_FK": "131",
                                    "Időtartam": "2",
                                    "Előző iőtartam": "0"
                                },
                                {
                                    "FOGLALAS_PK": "655",
                                    "SZOBA_FK": "131",
                                    "Időtartam": "1",
                                    "Előző iőtartam": "2"
                                },
                                {
                                    "FOGLALAS_PK": "881",
                                    "SZOBA_FK": "131",
                                    "Időtartam": "6",
                                    "Előző iőtartam": "1"
                                },
                                {
                                    "FOGLALAS_PK": "760",
                                    "SZOBA_FK": "131",
                                    "Időtartam": "4",
                                    "Előző iőtartam": "6"
                                },
                                {
                                    "FOGLALAS_PK": "1474",
                                    "SZOBA_FK": "131",
                                    "Időtartam": "5",
                                    "Előző iőtartam": "4"
                                },
                                {
                                    "FOGLALAS_PK": "619",
                                    "SZOBA_FK": "132",
                                    "Időtartam": "7",
                                    "Előző iőtartam": "0"
                                },
                                {
                                    "FOGLALAS_PK": "999",
                                    "SZOBA_FK": "132",
                                    "Időtartam": "6",
                                    "Előző iőtartam": "7"
                                },
                                {
                                    "FOGLALAS_PK": "1090",
                                    "SZOBA_FK": "132",
                                    "Időtartam": "7",
                                    "Előző iőtartam": "6"
                                },
                                {
                                    "FOGLALAS_PK": "1111",
                                    "SZOBA_FK": "132",
                                    "Időtartam": "3",
                                    "Előző iőtartam": "7"
                                },
                                {
                                    "FOGLALAS_PK": "1301",
                                    "SZOBA_FK": "132",
                                    "Időtartam": "2",
                                    "Előző iőtartam": "3"
                                },
                                {
                                    "FOGLALAS_PK": "1519",
                                    "SZOBA_FK": "132",
                                    "Időtartam": "2",
                                    "Előző iőtartam": "2"
                                },
                                {
                                    "FOGLALAS_PK": "909",
                                    "SZOBA_FK": "133",
                                    "Időtartam": "4",
                                    "Előző iőtartam": "0"
                                },
                                {
                                    "FOGLALAS_PK": "988",
                                    "SZOBA_FK": "133",
                                    "Időtartam": "3",
                                    "Előző iőtartam": "4"
                                },
                                {
                                    "FOGLALAS_PK": "1149",
                                    "SZOBA_FK": "133",
                                    "Időtartam": "7",
                                    "Előző iőtartam": "3"
                                },
                                {
                                    "FOGLALAS_PK": "1306",
                                    "SZOBA_FK": "133",
                                    "Időtartam": "3",
                                    "Előző iőtartam": "7"
                                },
                                {
                                    "FOGLALAS_PK": "1363",
                                    "SZOBA_FK": "133",
                                    "Időtartam": "5",
                                    "Előző iőtartam": "3"
                                },
                                {
                                    "FOGLALAS_PK": "1409",
                                    "SZOBA_FK": "133",
                                    "Időtartam": "1",
                                    "Előző iőtartam": "5"
                                },
                                {
                                    "FOGLALAS_PK": "1004",
                                    "SZOBA_FK": "134",
                                    "Időtartam": "5",
                                    "Előző iőtartam": "0"
                                },
                                {
                                    "FOGLALAS_PK": "1024",
                                    "SZOBA_FK": "134",
                                    "Időtartam": "1",
                                    "Előző iőtartam": "5"
                                },
                                {
                                    "FOGLALAS_PK": "1045",
                                    "SZOBA_FK": "134",
                                    "Időtartam": "2",
                                    "Előző iőtartam": "1"
                                },
                                {
                                    "FOGLALAS_PK": "1178",
                                    "SZOBA_FK": "134",
                                    "Időtartam": "7",
                                    "Előző iőtartam": "2"
                                },
                                {
                                    "FOGLALAS_PK": "1219",
                                    "SZOBA_FK": "134",
                                    "Időtartam": "6",
                                    "Előző iőtartam": "7"
                                },
                                {
                                    "FOGLALAS_PK": "1535",
                                    "SZOBA_FK": "134",
                                    "Időtartam": "7",
                                    "Előző iőtartam": "6"
                                },
                                {
                                    "FOGLALAS_PK": "724",
                                    "SZOBA_FK": "135",
                                    "Időtartam": "6",
                                    "Előző iőtartam": "0"
                                },
                                {
                                    "FOGLALAS_PK": "849",
                                    "SZOBA_FK": "135",
                                    "Időtartam": "7",
                                    "Előző iőtartam": "6"
                                },
                                {
                                    "FOGLALAS_PK": "1289",
                                    "SZOBA_FK": "135",
                                    "Időtartam": "3",
                                    "Előző iőtartam": "7"
                                },
                                {
                                    "FOGLALAS_PK": "584",
                                    "SZOBA_FK": "136",
                                    "Időtartam": "2",
                                    "Előző iőtartam": "0"
                                },
                                {
                                    "FOGLALAS_PK": "661",
                                    "SZOBA_FK": "136",
                                    "Időtartam": "5",
                                    "Előző iőtartam": "2"
                                },
                                {
                                    "FOGLALAS_PK": "1046",
                                    "SZOBA_FK": "136",
                                    "Időtartam": "4",
                                    "Előző iőtartam": "5"
                                },
                                {
                                    "FOGLALAS_PK": "582",
                                    "SZOBA_FK": "137",
                                    "Időtartam": "3",
                                    "Előző iőtartam": "0"
                                },
                                {
                                    "FOGLALAS_PK": "649",
                                    "SZOBA_FK": "137",
                                    "Időtartam": "5",
                                    "Előző iőtartam": "3"
                                },
                                {
                                    "FOGLALAS_PK": "657",
                                    "SZOBA_FK": "137",
                                    "Időtartam": "6",
                                    "Előző iőtartam": "5"
                                },
                                {
                                    "FOGLALAS_PK": "1014",
                                    "SZOBA_FK": "137",
                                    "Időtartam": "1",
                                    "Előző iőtartam": "6"
                                },
                                {
                                    "FOGLALAS_PK": "1201",
                                    "SZOBA_FK": "137",
                                    "Időtartam": "6",
                                    "Előző iőtartam": "1"
                                },
                                {
                                    "FOGLALAS_PK": "1280",
                                    "SZOBA_FK": "137",
                                    "Időtartam": "3",
                                    "Előző iőtartam": "6"
                                },
                                {
                                    "FOGLALAS_PK": "768",
                                    "SZOBA_FK": "138",
                                    "Időtartam": "6",
                                    "Előző iőtartam": "0"
                                },
                                {
                                    "FOGLALAS_PK": "796",
                                    "SZOBA_FK": "138",
                                    "Időtartam": "4",
                                    "Előző iőtartam": "6"
                                },
                                {
                                    "FOGLALAS_PK": "1256",
                                    "SZOBA_FK": "138",
                                    "Időtartam": "4",
                                    "Előző iőtartam": "4"
                                },
                                {
                                    "FOGLALAS_PK": "1283",
                                    "SZOBA_FK": "138",
                                    "Időtartam": "2",
                                    "Előző iőtartam": "4"
                                },
                                {
                                    "FOGLALAS_PK": "1294",
                                    "SZOBA_FK": "138",
                                    "Időtartam": "5",
                                    "Előző iőtartam": "2"
                                },
                                {
                                    "FOGLALAS_PK": "1358",
                                    "SZOBA_FK": "138",
                                    "Időtartam": "7",
                                    "Előző iőtartam": "5"
                                },
                                {
                                    "FOGLALAS_PK": "1370",
                                    "SZOBA_FK": "138",
                                    "Időtartam": "5",
                                    "Előző iőtartam": "7"
                                },
                                {
                                    "FOGLALAS_PK": "579",
                                    "SZOBA_FK": "139",
                                    "Időtartam": "2",
                                    "Előző iőtartam": "0"
                                },
                                {
                                    "FOGLALAS_PK": "745",
                                    "SZOBA_FK": "139",
                                    "Időtartam": "1",
                                    "Előző iőtartam": "2"
                                },
                                {
                                    "FOGLALAS_PK": "751",
                                    "SZOBA_FK": "139",
                                    "Időtartam": "4",
                                    "Előző iőtartam": "1"
                                },
                                {
                                    "FOGLALAS_PK": "1042",
                                    "SZOBA_FK": "139",
                                    "Időtartam": "2",
                                    "Előző iőtartam": "4"
                                },
                                {
                                    "FOGLALAS_PK": "1064",
                                    "SZOBA_FK": "139",
                                    "Időtartam": "6",
                                    "Előző iőtartam": "2"
                                },
                                {
                                    "FOGLALAS_PK": "1433",
                                    "SZOBA_FK": "139",
                                    "Időtartam": "6",
                                    "Előző iőtartam": "6"
                                },
                                {
                                    "FOGLALAS_PK": "1450",
                                    "SZOBA_FK": "139",
                                    "Időtartam": "7",
                                    "Előző iőtartam": "6"
                                },
                                {
                                    "FOGLALAS_PK": "915",
                                    "SZOBA_FK": "140",
                                    "Időtartam": "2",
                                    "Előző iőtartam": "0"
                                },
                                {
                                    "FOGLALAS_PK": "733",
                                    "SZOBA_FK": "140",
                                    "Időtartam": "1",
                                    "Előző iőtartam": "2"
                                },
                                {
                                    "FOGLALAS_PK": "1098",
                                    "SZOBA_FK": "140",
                                    "Időtartam": "2",
                                    "Előző iőtartam": "1"
                                },
                                {
                                    "FOGLALAS_PK": "1156",
                                    "SZOBA_FK": "140",
                                    "Időtartam": "3",
                                    "Előző iőtartam": "2"
                                },
                                {
                                    "FOGLALAS_PK": "1259",
                                    "SZOBA_FK": "140",
                                    "Időtartam": "7",
                                    "Előző iőtartam": "3"
                                },
                                {
                                    "FOGLALAS_PK": "1357",
                                    "SZOBA_FK": "140",
                                    "Időtartam": "4",
                                    "Előző iőtartam": "7"
                                },
                                {
                                    "FOGLALAS_PK": "1361",
                                    "SZOBA_FK": "140",
                                    "Időtartam": "3",
                                    "Előző iőtartam": "4"
                                },
                                {
                                    "FOGLALAS_PK": "1371",
                                    "SZOBA_FK": "140",
                                    "Időtartam": "1",
                                    "Előző iőtartam": "3"
                                },
                                {
                                    "FOGLALAS_PK": "565",
                                    "SZOBA_FK": "141",
                                    "Időtartam": "6",
                                    "Előző iőtartam": "0"
                                },
                                {
                                    "FOGLALAS_PK": "908",
                                    "SZOBA_FK": "141",
                                    "Időtartam": "2",
                                    "Előző iőtartam": "6"
                                },
                                {
                                    "FOGLALAS_PK": "761",
                                    "SZOBA_FK": "141",
                                    "Időtartam": "3",
                                    "Előző iőtartam": "2"
                                },
                                {
                                    "FOGLALAS_PK": "784",
                                    "SZOBA_FK": "141",
                                    "Időtartam": "7",
                                    "Előző iőtartam": "3"
                                },
                                {
                                    "FOGLALAS_PK": "1254",
                                    "SZOBA_FK": "141",
                                    "Időtartam": "4",
                                    "Előző iőtartam": "7"
                                },
                                {
                                    "FOGLALAS_PK": "1401",
                                    "SZOBA_FK": "141",
                                    "Időtartam": "6",
                                    "Előző iőtartam": "4"
                                },
                                {
                                    "FOGLALAS_PK": "1369",
                                    "SZOBA_FK": "142",
                                    "Időtartam": "6",
                                    "Előző iőtartam": "0"
                                },
                                {
                                    "FOGLALAS_PK": "1545",
                                    "SZOBA_FK": "142",
                                    "Időtartam": "3",
                                    "Előző iőtartam": "6"
                                },
                                {
                                    "FOGLALAS_PK": "980",
                                    "SZOBA_FK": "143",
                                    "Időtartam": "3",
                                    "Előző iőtartam": "0"
                                },
                                {
                                    "FOGLALAS_PK": "1155",
                                    "SZOBA_FK": "143",
                                    "Időtartam": "7",
                                    "Előző iőtartam": "3"
                                },
                                {
                                    "FOGLALAS_PK": "1193",
                                    "SZOBA_FK": "143",
                                    "Időtartam": "6",
                                    "Előző iőtartam": "7"
                                },
                                {
                                    "FOGLALAS_PK": "1222",
                                    "SZOBA_FK": "143",
                                    "Időtartam": "2",
                                    "Előző iőtartam": "6"
                                },
                                {
                                    "FOGLALAS_PK": "1313",
                                    "SZOBA_FK": "143",
                                    "Időtartam": "4",
                                    "Előző iőtartam": "2"
                                },
                                {
                                    "FOGLALAS_PK": "1394",
                                    "SZOBA_FK": "143",
                                    "Időtartam": "3",
                                    "Előző iőtartam": "4"
                                },
                                {
                                    "FOGLALAS_PK": "1448",
                                    "SZOBA_FK": "143",
                                    "Időtartam": "6",
                                    "Előző iőtartam": "3"
                                },
                                {
                                    "FOGLALAS_PK": "581",
                                    "SZOBA_FK": "144",
                                    "Időtartam": "4",
                                    "Előző iőtartam": "0"
                                },
                                {
                                    "FOGLALAS_PK": "1087",
                                    "SZOBA_FK": "144",
                                    "Időtartam": "2",
                                    "Előző iőtartam": "4"
                                },
                                {
                                    "FOGLALAS_PK": "1199",
                                    "SZOBA_FK": "144",
                                    "Időtartam": "7",
                                    "Előző iőtartam": "2"
                                },
                                {
                                    "FOGLALAS_PK": "1297",
                                    "SZOBA_FK": "144",
                                    "Időtartam": "1",
                                    "Előző iőtartam": "7"
                                },
                                {
                                    "FOGLALAS_PK": "1572",
                                    "SZOBA_FK": "144",
                                    "Időtartam": "2",
                                    "Előző iőtartam": "1"
                                },
                                {
                                    "FOGLALAS_PK": "703",
                                    "SZOBA_FK": "145",
                                    "Időtartam": "4",
                                    "Előző iőtartam": "0"
                                },
                                {
                                    "FOGLALAS_PK": "1077",
                                    "SZOBA_FK": "145",
                                    "Időtartam": "1",
                                    "Előző iőtartam": "4"
                                },
                                {
                                    "FOGLALAS_PK": "1120",
                                    "SZOBA_FK": "145",
                                    "Időtartam": "1",
                                    "Előző iőtartam": "1"
                                },
                                {
                                    "FOGLALAS_PK": "1145",
                                    "SZOBA_FK": "145",
                                    "Időtartam": "4",
                                    "Előző iőtartam": "1"
                                },
                                {
                                    "FOGLALAS_PK": "1338",
                                    "SZOBA_FK": "145",
                                    "Időtartam": "2",
                                    "Előző iőtartam": "4"
                                },
                                {
                                    "FOGLALAS_PK": "1471",
                                    "SZOBA_FK": "145",
                                    "Időtartam": "1",
                                    "Előző iőtartam": "2"
                                },
                                {
                                    "FOGLALAS_PK": "890",
                                    "SZOBA_FK": "146",
                                    "Időtartam": "3",
                                    "Előző iőtartam": "0"
                                },
                                {
                                    "FOGLALAS_PK": "664",
                                    "SZOBA_FK": "146",
                                    "Időtartam": "3",
                                    "Előző iőtartam": "3"
                                },
                                {
                                    "FOGLALAS_PK": "789",
                                    "SZOBA_FK": "146",
                                    "Időtartam": "7",
                                    "Előző iőtartam": "3"
                                },
                                {
                                    "FOGLALAS_PK": "804",
                                    "SZOBA_FK": "146",
                                    "Időtartam": "7",
                                    "Előző iőtartam": "7"
                                },
                                {
                                    "FOGLALAS_PK": "1032",
                                    "SZOBA_FK": "146",
                                    "Időtartam": "5",
                                    "Előző iőtartam": "7"
                                },
                                {
                                    "FOGLALAS_PK": "1479",
                                    "SZOBA_FK": "146",
                                    "Időtartam": "6",
                                    "Előző iőtartam": "5"
                                },
                                {
                                    "FOGLALAS_PK": "771",
                                    "SZOBA_FK": "147",
                                    "Időtartam": "4",
                                    "Előző iőtartam": "0"
                                },
                                {
                                    "FOGLALAS_PK": "678",
                                    "SZOBA_FK": "148",
                                    "Időtartam": "4",
                                    "Előző iőtartam": "0"
                                },
                                {
                                    "FOGLALAS_PK": "765",
                                    "SZOBA_FK": "148",
                                    "Időtartam": "3",
                                    "Előző iőtartam": "4"
                                },
                                {
                                    "FOGLALAS_PK": "783",
                                    "SZOBA_FK": "148",
                                    "Időtartam": "7",
                                    "Előző iőtartam": "3"
                                },
                                {
                                    "FOGLALAS_PK": "808",
                                    "SZOBA_FK": "148",
                                    "Időtartam": "2",
                                    "Előző iőtartam": "7"
                                },
                                {
                                    "FOGLALAS_PK": "812",
                                    "SZOBA_FK": "148",
                                    "Időtartam": "6",
                                    "Előző iőtartam": "2"
                                },
                                {
                                    "FOGLALAS_PK": "1578",
                                    "SZOBA_FK": "148",
                                    "Időtartam": "7",
                                    "Előző iőtartam": "6"
                                },
                                {
                                    "FOGLALAS_PK": "591",
                                    "SZOBA_FK": "149",
                                    "Időtartam": "1",
                                    "Előző iőtartam": "0"
                                },
                                {
                                    "FOGLALAS_PK": "652",
                                    "SZOBA_FK": "149",
                                    "Időtartam": "1",
                                    "Előző iőtartam": "1"
                                },
                                {
                                    "FOGLALAS_PK": "833",
                                    "SZOBA_FK": "149",
                                    "Időtartam": "2",
                                    "Előző iőtartam": "1"
                                },
                                {
                                    "FOGLALAS_PK": "834",
                                    "SZOBA_FK": "149",
                                    "Időtartam": "5",
                                    "Előző iőtartam": "2"
                                },
                                {
                                    "FOGLALAS_PK": "843",
                                    "SZOBA_FK": "149",
                                    "Időtartam": "4",
                                    "Előző iőtartam": "5"
                                },
                                {
                                    "FOGLALAS_PK": "1146",
                                    "SZOBA_FK": "149",
                                    "Időtartam": "6",
                                    "Előző iőtartam": "4"
                                },
                                {
                                    "FOGLALAS_PK": "1514",
                                    "SZOBA_FK": "149",
                                    "Időtartam": "5",
                                    "Előző iőtartam": "6"
                                },
                                {
                                    "FOGLALAS_PK": "641",
                                    "SZOBA_FK": "150",
                                    "Időtartam": "3",
                                    "Előző iőtartam": "0"
                                },
                                {
                                    "FOGLALAS_PK": "1100",
                                    "SZOBA_FK": "150",
                                    "Időtartam": "5",
                                    "Előző iőtartam": "3"
                                },
                                {
                                    "FOGLALAS_PK": "1105",
                                    "SZOBA_FK": "150",
                                    "Időtartam": "1",
                                    "Előző iőtartam": "5"
                                },
                                {
                                    "FOGLALAS_PK": "1177",
                                    "SZOBA_FK": "150",
                                    "Időtartam": "1",
                                    "Előző iőtartam": "1"
                                },
                                {
                                    "FOGLALAS_PK": "1203",
                                    "SZOBA_FK": "150",
                                    "Időtartam": "4",
                                    "Előző iőtartam": "1"
                                },
                                {
                                    "FOGLALAS_PK": "1432",
                                    "SZOBA_FK": "150",
                                    "Időtartam": "3",
                                    "Előző iőtartam": "4"
                                },
                                {
                                    "FOGLALAS_PK": "893",
                                    "SZOBA_FK": "151",
                                    "Időtartam": "3",
                                    "Előző iőtartam": "0"
                                },
                                {
                                    "FOGLALAS_PK": "1058",
                                    "SZOBA_FK": "151",
                                    "Időtartam": "3",
                                    "Előző iőtartam": "3"
                                },
                                {
                                    "FOGLALAS_PK": "1115",
                                    "SZOBA_FK": "151",
                                    "Időtartam": "3",
                                    "Előző iőtartam": "3"
                                },
                                {
                                    "FOGLALAS_PK": "730",
                                    "SZOBA_FK": "152",
                                    "Időtartam": "2",
                                    "Előző iőtartam": "0"
                                },
                                {
                                    "FOGLALAS_PK": "1160",
                                    "SZOBA_FK": "152",
                                    "Időtartam": "7",
                                    "Előző iőtartam": "2"
                                },
                                {
                                    "FOGLALAS_PK": "1197",
                                    "SZOBA_FK": "152",
                                    "Időtartam": "6",
                                    "Előző iőtartam": "7"
                                },
                                {
                                    "FOGLALAS_PK": "1558",
                                    "SZOBA_FK": "152",
                                    "Időtartam": "2",
                                    "Előző iőtartam": "6"
                                },
                                {
                                    "FOGLALAS_PK": "594",
                                    "SZOBA_FK": "153",
                                    "Időtartam": "3",
                                    "Előző iőtartam": "0"
                                },
                                {
                                    "FOGLALAS_PK": "969",
                                    "SZOBA_FK": "153",
                                    "Időtartam": "6",
                                    "Előző iőtartam": "3"
                                },
                                {
                                    "FOGLALAS_PK": "1460",
                                    "SZOBA_FK": "153",
                                    "Időtartam": "3",
                                    "Előző iőtartam": "6"
                                },
                                {
                                    "FOGLALAS_PK": "1470",
                                    "SZOBA_FK": "153",
                                    "Időtartam": "5",
                                    "Előző iőtartam": "3"
                                },
                                {
                                    "FOGLALAS_PK": "1507",
                                    "SZOBA_FK": "153",
                                    "Időtartam": "3",
                                    "Előző iőtartam": "5"
                                },
                                {
                                    "FOGLALAS_PK": "968",
                                    "SZOBA_FK": "154",
                                    "Időtartam": "1",
                                    "Előző iőtartam": "0"
                                },
                                {
                                    "FOGLALAS_PK": "1061",
                                    "SZOBA_FK": "154",
                                    "Időtartam": "7",
                                    "Előző iőtartam": "1"
                                },
                                {
                                    "FOGLALAS_PK": "1168",
                                    "SZOBA_FK": "154",
                                    "Időtartam": "6",
                                    "Előző iőtartam": "7"
                                },
                                {
                                    "FOGLALAS_PK": "1262",
                                    "SZOBA_FK": "154",
                                    "Időtartam": "1",
                                    "Előző iőtartam": "6"
                                },
                                {
                                    "FOGLALAS_PK": "1539",
                                    "SZOBA_FK": "154",
                                    "Időtartam": "2",
                                    "Előző iőtartam": "1"
                                },
                                {
                                    "FOGLALAS_PK": "575",
                                    "SZOBA_FK": "155",
                                    "Időtartam": "1",
                                    "Előző iőtartam": "0"
                                },
                                {
                                    "FOGLALAS_PK": "577",
                                    "SZOBA_FK": "155",
                                    "Időtartam": "3",
                                    "Előző iőtartam": "1"
                                },
                                {
                                    "FOGLALAS_PK": "1112",
                                    "SZOBA_FK": "155",
                                    "Időtartam": "4",
                                    "Előző iőtartam": "3"
                                },
                                {
                                    "FOGLALAS_PK": "1310",
                                    "SZOBA_FK": "155",
                                    "Időtartam": "1",
                                    "Előző iőtartam": "4"
                                },
                                {
                                    "FOGLALAS_PK": "1541",
                                    "SZOBA_FK": "155",
                                    "Időtartam": "1",
                                    "Előző iőtartam": "1"
                                },
                                {
                                    "FOGLALAS_PK": "588",
                                    "SZOBA_FK": "156",
                                    "Időtartam": "7",
                                    "Előző iőtartam": "0"
                                },
                                {
                                    "FOGLALAS_PK": "907",
                                    "SZOBA_FK": "156",
                                    "Időtartam": "3",
                                    "Előző iőtartam": "7"
                                },
                                {
                                    "FOGLALAS_PK": "956",
                                    "SZOBA_FK": "156",
                                    "Időtartam": "6",
                                    "Előző iőtartam": "3"
                                },
                                {
                                    "FOGLALAS_PK": "692",
                                    "SZOBA_FK": "156",
                                    "Időtartam": "6",
                                    "Előző iőtartam": "6"
                                },
                                {
                                    "FOGLALAS_PK": "1462",
                                    "SZOBA_FK": "156",
                                    "Időtartam": "7",
                                    "Előző iőtartam": "6"
                                },
                                {
                                    "FOGLALAS_PK": "1490",
                                    "SZOBA_FK": "156",
                                    "Időtartam": "1",
                                    "Előző iőtartam": "7"
                                },
                                {
                                    "FOGLALAS_PK": "1561",
                                    "SZOBA_FK": "156",
                                    "Időtartam": "4",
                                    "Előző iőtartam": "1"
                                },
                                {
                                    "FOGLALAS_PK": "648",
                                    "SZOBA_FK": "157",
                                    "Időtartam": "4",
                                    "Előző iőtartam": "0"
                                },
                                {
                                    "FOGLALAS_PK": "1025",
                                    "SZOBA_FK": "157",
                                    "Időtartam": "3",
                                    "Előző iőtartam": "4"
                                },
                                {
                                    "FOGLALAS_PK": "1047",
                                    "SZOBA_FK": "157",
                                    "Időtartam": "4",
                                    "Előző iőtartam": "3"
                                },
                                {
                                    "FOGLALAS_PK": "1240",
                                    "SZOBA_FK": "157",
                                    "Időtartam": "7",
                                    "Előző iőtartam": "4"
                                },
                                {
                                    "FOGLALAS_PK": "1551",
                                    "SZOBA_FK": "157",
                                    "Időtartam": "3",
                                    "Előző iőtartam": "7"
                                },
                                {
                                    "FOGLALAS_PK": "825",
                                    "SZOBA_FK": "158",
                                    "Időtartam": "4",
                                    "Előző iőtartam": "0"
                                },
                                {
                                    "FOGLALAS_PK": "840",
                                    "SZOBA_FK": "158",
                                    "Időtartam": "4",
                                    "Előző iőtartam": "4"
                                },
                                {
                                    "FOGLALAS_PK": "1117",
                                    "SZOBA_FK": "158",
                                    "Időtartam": "3",
                                    "Előző iőtartam": "4"
                                },
                                {
                                    "FOGLALAS_PK": "922",
                                    "SZOBA_FK": "160",
                                    "Időtartam": "2",
                                    "Előző iőtartam": "0"
                                },
                                {
                                    "FOGLALAS_PK": "927",
                                    "SZOBA_FK": "160",
                                    "Időtartam": "4",
                                    "Előző iőtartam": "2"
                                },
                                {
                                    "FOGLALAS_PK": "933",
                                    "SZOBA_FK": "160",
                                    "Időtartam": "4",
                                    "Előző iőtartam": "4"
                                },
                                {
                                    "FOGLALAS_PK": "720",
                                    "SZOBA_FK": "160",
                                    "Időtartam": "2",
                                    "Előző iőtartam": "4"
                                },
                                {
                                    "FOGLALAS_PK": "1565",
                                    "SZOBA_FK": "160",
                                    "Időtartam": "3",
                                    "Előző iőtartam": "2"
                                },
                                {
                                    "FOGLALAS_PK": "639",
                                    "SZOBA_FK": "161",
                                    "Időtartam": "4",
                                    "Előző iőtartam": "0"
                                },
                                {
                                    "FOGLALAS_PK": "653",
                                    "SZOBA_FK": "161",
                                    "Időtartam": "7",
                                    "Előző iőtartam": "4"
                                },
                                {
                                    "FOGLALAS_PK": "911",
                                    "SZOBA_FK": "161",
                                    "Időtartam": "4",
                                    "Előző iőtartam": "7"
                                },
                                {
                                    "FOGLALAS_PK": "1068",
                                    "SZOBA_FK": "161",
                                    "Időtartam": "6",
                                    "Előző iőtartam": "4"
                                },
                                {
                                    "FOGLALAS_PK": "1190",
                                    "SZOBA_FK": "161",
                                    "Időtartam": "7",
                                    "Előző iőtartam": "6"
                                },
                                {
                                    "FOGLALAS_PK": "1571",
                                    "SZOBA_FK": "161",
                                    "Időtartam": "4",
                                    "Előző iőtartam": "7"
                                },
                                {
                                    "FOGLALAS_PK": "599",
                                    "SZOBA_FK": "162",
                                    "Időtartam": "4",
                                    "Előző iőtartam": "0"
                                },
                                {
                                    "FOGLALAS_PK": "1205",
                                    "SZOBA_FK": "162",
                                    "Időtartam": "6",
                                    "Előző iőtartam": "4"
                                },
                                {
                                    "FOGLALAS_PK": "1400",
                                    "SZOBA_FK": "162",
                                    "Időtartam": "1",
                                    "Előző iőtartam": "6"
                                },
                                {
                                    "FOGLALAS_PK": "630",
                                    "SZOBA_FK": "163",
                                    "Időtartam": "2",
                                    "Előző iőtartam": "0"
                                },
                                {
                                    "FOGLALAS_PK": "941",
                                    "SZOBA_FK": "163",
                                    "Időtartam": "1",
                                    "Előző iőtartam": "2"
                                },
                                {
                                    "FOGLALAS_PK": "782",
                                    "SZOBA_FK": "163",
                                    "Időtartam": "3",
                                    "Előző iőtartam": "1"
                                },
                                {
                                    "FOGLALAS_PK": "1075",
                                    "SZOBA_FK": "163",
                                    "Időtartam": "4",
                                    "Előző iőtartam": "3"
                                },
                                {
                                    "FOGLALAS_PK": "1107",
                                    "SZOBA_FK": "163",
                                    "Időtartam": "3",
                                    "Előző iőtartam": "4"
                                },
                                {
                                    "FOGLALAS_PK": "1265",
                                    "SZOBA_FK": "163",
                                    "Időtartam": "5",
                                    "Előző iőtartam": "3"
                                },
                                {
                                    "FOGLALAS_PK": "1487",
                                    "SZOBA_FK": "163",
                                    "Időtartam": "3",
                                    "Előző iőtartam": "5"
                                },
                                {
                                    "FOGLALAS_PK": "570",
                                    "SZOBA_FK": "164",
                                    "Időtartam": "7",
                                    "Előző iőtartam": "0"
                                },
                                {
                                    "FOGLALAS_PK": "1010",
                                    "SZOBA_FK": "164",
                                    "Időtartam": "2",
                                    "Előző iőtartam": "7"
                                },
                                {
                                    "FOGLALAS_PK": "742",
                                    "SZOBA_FK": "164",
                                    "Időtartam": "6",
                                    "Előző iőtartam": "2"
                                },
                                {
                                    "FOGLALAS_PK": "1284",
                                    "SZOBA_FK": "164",
                                    "Időtartam": "4",
                                    "Előző iőtartam": "6"
                                },
                                {
                                    "FOGLALAS_PK": "1292",
                                    "SZOBA_FK": "164",
                                    "Időtartam": "2",
                                    "Előző iőtartam": "4"
                                },
                                {
                                    "FOGLALAS_PK": "640",
                                    "SZOBA_FK": "165",
                                    "Időtartam": "3",
                                    "Előző iőtartam": "0"
                                },
                                {
                                    "FOGLALAS_PK": "857",
                                    "SZOBA_FK": "165",
                                    "Időtartam": "5",
                                    "Előző iőtartam": "3"
                                },
                                {
                                    "FOGLALAS_PK": "900",
                                    "SZOBA_FK": "165",
                                    "Időtartam": "6",
                                    "Előző iőtartam": "5"
                                },
                                {
                                    "FOGLALAS_PK": "897",
                                    "SZOBA_FK": "165",
                                    "Időtartam": "6",
                                    "Előző iőtartam": "6"
                                },
                                {
                                    "FOGLALAS_PK": "892",
                                    "SZOBA_FK": "165",
                                    "Időtartam": "3",
                                    "Előző iőtartam": "6"
                                },
                                {
                                    "FOGLALAS_PK": "1141",
                                    "SZOBA_FK": "165",
                                    "Időtartam": "1",
                                    "Előző iőtartam": "3"
                                },
                                {
                                    "FOGLALAS_PK": "1375",
                                    "SZOBA_FK": "165",
                                    "Időtartam": "4",
                                    "Előző iőtartam": "1"
                                },
                                {
                                    "FOGLALAS_PK": "644",
                                    "SZOBA_FK": "166",
                                    "Időtartam": "7",
                                    "Előző iőtartam": "0"
                                },
                                {
                                    "FOGLALAS_PK": "781",
                                    "SZOBA_FK": "166",
                                    "Időtartam": "7",
                                    "Előző iőtartam": "7"
                                },
                                {
                                    "FOGLALAS_PK": "1526",
                                    "SZOBA_FK": "166",
                                    "Időtartam": "2",
                                    "Előző iőtartam": "7"
                                },
                                {
                                    "FOGLALAS_PK": "854",
                                    "SZOBA_FK": "167",
                                    "Időtartam": "7",
                                    "Előző iőtartam": "0"
                                },
                                {
                                    "FOGLALAS_PK": "1414",
                                    "SZOBA_FK": "167",
                                    "Időtartam": "3",
                                    "Előző iőtartam": "7"
                                },
                                {
                                    "FOGLALAS_PK": "930",
                                    "SZOBA_FK": "168",
                                    "Időtartam": "3",
                                    "Előző iőtartam": "0"
                                },
                                {
                                    "FOGLALAS_PK": "792",
                                    "SZOBA_FK": "168",
                                    "Időtartam": "3",
                                    "Előző iőtartam": "3"
                                },
                                {
                                    "FOGLALAS_PK": "794",
                                    "SZOBA_FK": "168",
                                    "Időtartam": "4",
                                    "Előző iőtartam": "3"
                                },
                                {
                                    "FOGLALAS_PK": "1249",
                                    "SZOBA_FK": "168",
                                    "Időtartam": "4",
                                    "Előző iőtartam": "4"
                                },
                                {
                                    "FOGLALAS_PK": "1266",
                                    "SZOBA_FK": "168",
                                    "Időtartam": "4",
                                    "Előző iőtartam": "4"
                                },
                                {
                                    "FOGLALAS_PK": "573",
                                    "SZOBA_FK": "169",
                                    "Időtartam": "5",
                                    "Előző iőtartam": "0"
                                },
                                {
                                    "FOGLALAS_PK": "659",
                                    "SZOBA_FK": "169",
                                    "Időtartam": "6",
                                    "Előző iőtartam": "5"
                                },
                                {
                                    "FOGLALAS_PK": "974",
                                    "SZOBA_FK": "169",
                                    "Időtartam": "1",
                                    "Előző iőtartam": "6"
                                },
                                {
                                    "FOGLALAS_PK": "746",
                                    "SZOBA_FK": "169",
                                    "Időtartam": "7",
                                    "Előző iőtartam": "1"
                                },
                                {
                                    "FOGLALAS_PK": "1356",
                                    "SZOBA_FK": "169",
                                    "Időtartam": "4",
                                    "Előző iőtartam": "7"
                                },
                                {
                                    "FOGLALAS_PK": "1427",
                                    "SZOBA_FK": "169",
                                    "Időtartam": "1",
                                    "Előző iőtartam": "4"
                                },
                                {
                                    "FOGLALAS_PK": "567",
                                    "SZOBA_FK": "170",
                                    "Időtartam": "7",
                                    "Előző iőtartam": "0"
                                },
                                {
                                    "FOGLALAS_PK": "944",
                                    "SZOBA_FK": "170",
                                    "Időtartam": "4",
                                    "Előző iőtartam": "7"
                                },
                                {
                                    "FOGLALAS_PK": "1194",
                                    "SZOBA_FK": "170",
                                    "Időtartam": "4",
                                    "Előző iőtartam": "4"
                                },
                                {
                                    "FOGLALAS_PK": "1267",
                                    "SZOBA_FK": "170",
                                    "Időtartam": "7",
                                    "Előző iőtartam": "4"
                                },
                                {
                                    "FOGLALAS_PK": "1342",
                                    "SZOBA_FK": "170",
                                    "Időtartam": "6",
                                    "Előző iőtartam": "7"
                                },
                                {
                                    "FOGLALAS_PK": "574",
                                    "SZOBA_FK": "171",
                                    "Időtartam": "2",
                                    "Előző iőtartam": "0"
                                },
                                {
                                    "FOGLALAS_PK": "981",
                                    "SZOBA_FK": "171",
                                    "Időtartam": "4",
                                    "Előző iőtartam": "2"
                                },
                                {
                                    "FOGLALAS_PK": "1181",
                                    "SZOBA_FK": "171",
                                    "Időtartam": "6",
                                    "Előző iőtartam": "4"
                                },
                                {
                                    "FOGLALAS_PK": "1329",
                                    "SZOBA_FK": "171",
                                    "Időtartam": "5",
                                    "Előző iőtartam": "6"
                                },
                                {
                                    "FOGLALAS_PK": "1567",
                                    "SZOBA_FK": "171",
                                    "Időtartam": "6",
                                    "Előző iőtartam": "5"
                                },
                                {
                                    "FOGLALAS_PK": "984",
                                    "SZOBA_FK": "172",
                                    "Időtartam": "4",
                                    "Előző iőtartam": "0"
                                },
                                {
                                    "FOGLALAS_PK": "709",
                                    "SZOBA_FK": "172",
                                    "Időtartam": "5",
                                    "Előző iőtartam": "4"
                                },
                                {
                                    "FOGLALAS_PK": "749",
                                    "SZOBA_FK": "172",
                                    "Időtartam": "6",
                                    "Előző iőtartam": "5"
                                },
                                {
                                    "FOGLALAS_PK": "839",
                                    "SZOBA_FK": "172",
                                    "Időtartam": "5",
                                    "Előző iőtartam": "6"
                                },
                                {
                                    "FOGLALAS_PK": "1142",
                                    "SZOBA_FK": "172",
                                    "Időtartam": "4",
                                    "Előző iőtartam": "5"
                                },
                                {
                                    "FOGLALAS_PK": "1171",
                                    "SZOBA_FK": "172",
                                    "Időtartam": "5",
                                    "Előző iőtartam": "4"
                                },
                                {
                                    "FOGLALAS_PK": "1336",
                                    "SZOBA_FK": "172",
                                    "Időtartam": "5",
                                    "Előző iőtartam": "5"
                                },
                                {
                                    "FOGLALAS_PK": "1421",
                                    "SZOBA_FK": "172",
                                    "Időtartam": "5",
                                    "Előző iőtartam": "5"
                                },
                                {
                                    "FOGLALAS_PK": "1491",
                                    "SZOBA_FK": "172",
                                    "Időtartam": "2",
                                    "Előző iőtartam": "5"
                                },
                                {
                                    "FOGLALAS_PK": "913",
                                    "SZOBA_FK": "173",
                                    "Időtartam": "1",
                                    "Előző iőtartam": "0"
                                },
                                {
                                    "FOGLALAS_PK": "669",
                                    "SZOBA_FK": "173",
                                    "Időtartam": "7",
                                    "Előző iőtartam": "1"
                                },
                                {
                                    "FOGLALAS_PK": "1350",
                                    "SZOBA_FK": "173",
                                    "Időtartam": "3",
                                    "Előző iőtartam": "7"
                                },
                                {
                                    "FOGLALAS_PK": "1429",
                                    "SZOBA_FK": "173",
                                    "Időtartam": "4",
                                    "Előző iőtartam": "3"
                                },
                                {
                                    "FOGLALAS_PK": "917",
                                    "SZOBA_FK": "174",
                                    "Időtartam": "2",
                                    "Előző iőtartam": "0"
                                },
                                {
                                    "FOGLALAS_PK": "1015",
                                    "SZOBA_FK": "174",
                                    "Időtartam": "5",
                                    "Előző iőtartam": "2"
                                },
                                {
                                    "FOGLALAS_PK": "682",
                                    "SZOBA_FK": "174",
                                    "Időtartam": "3",
                                    "Előző iőtartam": "5"
                                },
                                {
                                    "FOGLALAS_PK": "1276",
                                    "SZOBA_FK": "174",
                                    "Időtartam": "1",
                                    "Előző iőtartam": "3"
                                },
                                {
                                    "FOGLALAS_PK": "867",
                                    "SZOBA_FK": "175",
                                    "Időtartam": "6",
                                    "Előző iőtartam": "0"
                                },
                                {
                                    "FOGLALAS_PK": "799",
                                    "SZOBA_FK": "175",
                                    "Időtartam": "4",
                                    "Előző iőtartam": "6"
                                },
                                {
                                    "FOGLALAS_PK": "1094",
                                    "SZOBA_FK": "175",
                                    "Időtartam": "5",
                                    "Előző iőtartam": "4"
                                },
                                {
                                    "FOGLALAS_PK": "1133",
                                    "SZOBA_FK": "175",
                                    "Időtartam": "2",
                                    "Előző iőtartam": "5"
                                },
                                {
                                    "FOGLALAS_PK": "1407",
                                    "SZOBA_FK": "175",
                                    "Időtartam": "7",
                                    "Előző iőtartam": "2"
                                },
                                {
                                    "FOGLALAS_PK": "592",
                                    "SZOBA_FK": "176",
                                    "Időtartam": "5",
                                    "Előző iőtartam": "0"
                                },
                                {
                                    "FOGLALAS_PK": "1143",
                                    "SZOBA_FK": "176",
                                    "Időtartam": "6",
                                    "Előző iőtartam": "5"
                                },
                                {
                                    "FOGLALAS_PK": "1278",
                                    "SZOBA_FK": "176",
                                    "Időtartam": "6",
                                    "Előző iőtartam": "6"
                                },
                                {
                                    "FOGLALAS_PK": "1383",
                                    "SZOBA_FK": "176",
                                    "Időtartam": "4",
                                    "Előző iőtartam": "6"
                                },
                                {
                                    "FOGLALAS_PK": "1511",
                                    "SZOBA_FK": "176",
                                    "Időtartam": "2",
                                    "Előző iőtartam": "4"
                                },
                                {
                                    "FOGLALAS_PK": "1570",
                                    "SZOBA_FK": "176",
                                    "Időtartam": "3",
                                    "Előző iőtartam": "2"
                                },
                                {
                                    "FOGLALAS_PK": "785",
                                    "SZOBA_FK": "177",
                                    "Időtartam": "3",
                                    "Előző iőtartam": "0"
                                },
                                {
                                    "FOGLALAS_PK": "831",
                                    "SZOBA_FK": "177",
                                    "Időtartam": "7",
                                    "Előző iőtartam": "3"
                                },
                                {
                                    "FOGLALAS_PK": "1176",
                                    "SZOBA_FK": "177",
                                    "Időtartam": "3",
                                    "Előző iőtartam": "7"
                                },
                                {
                                    "FOGLALAS_PK": "1503",
                                    "SZOBA_FK": "177",
                                    "Időtartam": "3",
                                    "Előző iőtartam": "3"
                                },
                                {
                                    "FOGLALAS_PK": "991",
                                    "SZOBA_FK": "178",
                                    "Időtartam": "7",
                                    "Előző iőtartam": "0"
                                },
                                {
                                    "FOGLALAS_PK": "816",
                                    "SZOBA_FK": "178",
                                    "Időtartam": "4",
                                    "Előző iőtartam": "7"
                                },
                                {
                                    "FOGLALAS_PK": "1211",
                                    "SZOBA_FK": "178",
                                    "Időtartam": "3",
                                    "Előző iőtartam": "4"
                                },
                                {
                                    "FOGLALAS_PK": "1242",
                                    "SZOBA_FK": "178",
                                    "Időtartam": "1",
                                    "Előző iőtartam": "3"
                                },
                                {
                                    "FOGLALAS_PK": "662",
                                    "SZOBA_FK": "179",
                                    "Időtartam": "2",
                                    "Előző iőtartam": "0"
                                },
                                {
                                    "FOGLALAS_PK": "1021",
                                    "SZOBA_FK": "179",
                                    "Időtartam": "1",
                                    "Előző iőtartam": "2"
                                },
                                {
                                    "FOGLALAS_PK": "1497",
                                    "SZOBA_FK": "179",
                                    "Időtartam": "1",
                                    "Előző iőtartam": "1"
                                },
                                {
                                    "FOGLALAS_PK": "905",
                                    "SZOBA_FK": "180",
                                    "Időtartam": "5",
                                    "Előző iőtartam": "0"
                                },
                                {
                                    "FOGLALAS_PK": "1559",
                                    "SZOBA_FK": "180",
                                    "Időtartam": "3",
                                    "Előző iőtartam": "5"
                                },
                                {
                                    "FOGLALAS_PK": "1563",
                                    "SZOBA_FK": "180",
                                    "Időtartam": "6",
                                    "Előző iőtartam": "3"
                                },
                                {
                                    "FOGLALAS_PK": "937",
                                    "SZOBA_FK": "181",
                                    "Időtartam": "3",
                                    "Előző iőtartam": "0"
                                },
                                {
                                    "FOGLALAS_PK": "958",
                                    "SZOBA_FK": "181",
                                    "Időtartam": "5",
                                    "Előző iőtartam": "3"
                                },
                                {
                                    "FOGLALAS_PK": "1022",
                                    "SZOBA_FK": "181",
                                    "Időtartam": "1",
                                    "Előző iőtartam": "5"
                                },
                                {
                                    "FOGLALAS_PK": "677",
                                    "SZOBA_FK": "181",
                                    "Időtartam": "4",
                                    "Előző iőtartam": "1"
                                },
                                {
                                    "FOGLALAS_PK": "731",
                                    "SZOBA_FK": "181",
                                    "Időtartam": "6",
                                    "Előző iőtartam": "4"
                                },
                                {
                                    "FOGLALAS_PK": "1346",
                                    "SZOBA_FK": "181",
                                    "Időtartam": "6",
                                    "Előző iőtartam": "6"
                                },
                                {
                                    "FOGLALAS_PK": "571",
                                    "SZOBA_FK": "182",
                                    "Időtartam": "2",
                                    "Előző iőtartam": "0"
                                },
                                {
                                    "FOGLALAS_PK": "928",
                                    "SZOBA_FK": "182",
                                    "Időtartam": "2",
                                    "Előző iőtartam": "2"
                                },
                                {
                                    "FOGLALAS_PK": "1008",
                                    "SZOBA_FK": "182",
                                    "Időtartam": "6",
                                    "Előző iőtartam": "2"
                                },
                                {
                                    "FOGLALAS_PK": "740",
                                    "SZOBA_FK": "182",
                                    "Időtartam": "3",
                                    "Előző iőtartam": "6"
                                },
                                {
                                    "FOGLALAS_PK": "1188",
                                    "SZOBA_FK": "182",
                                    "Időtartam": "1",
                                    "Előző iőtartam": "3"
                                },
                                {
                                    "FOGLALAS_PK": "1230",
                                    "SZOBA_FK": "182",
                                    "Időtartam": "7",
                                    "Előző iőtartam": "1"
                                },
                                {
                                    "FOGLALAS_PK": "1231",
                                    "SZOBA_FK": "182",
                                    "Időtartam": "4",
                                    "Előző iőtartam": "7"
                                },
                                {
                                    "FOGLALAS_PK": "1308",
                                    "SZOBA_FK": "182",
                                    "Időtartam": "1",
                                    "Előző iőtartam": "4"
                                },
                                {
                                    "FOGLALAS_PK": "1317",
                                    "SZOBA_FK": "182",
                                    "Időtartam": "3",
                                    "Előző iőtartam": "1"
                                },
                                {
                                    "FOGLALAS_PK": "1326",
                                    "SZOBA_FK": "182",
                                    "Időtartam": "4",
                                    "Előző iőtartam": "3"
                                },
                                {
                                    "FOGLALAS_PK": "1410",
                                    "SZOBA_FK": "182",
                                    "Időtartam": "4",
                                    "Előző iőtartam": "4"
                                },
                                {
                                    "FOGLALAS_PK": "1422",
                                    "SZOBA_FK": "182",
                                    "Időtartam": "3",
                                    "Előző iőtartam": "4"
                                },
                                {
                                    "FOGLALAS_PK": "939",
                                    "SZOBA_FK": "183",
                                    "Időtartam": "4",
                                    "Előző iőtartam": "0"
                                },
                                {
                                    "FOGLALAS_PK": "1067",
                                    "SZOBA_FK": "183",
                                    "Időtartam": "7",
                                    "Előző iőtartam": "4"
                                },
                                {
                                    "FOGLALAS_PK": "1147",
                                    "SZOBA_FK": "183",
                                    "Időtartam": "4",
                                    "Előző iőtartam": "7"
                                },
                                {
                                    "FOGLALAS_PK": "1437",
                                    "SZOBA_FK": "183",
                                    "Időtartam": "4",
                                    "Előző iőtartam": "4"
                                },
                                {
                                    "FOGLALAS_PK": "608",
                                    "SZOBA_FK": "184",
                                    "Időtartam": "2",
                                    "Előző iőtartam": "0"
                                },
                                {
                                    "FOGLALAS_PK": "880",
                                    "SZOBA_FK": "184",
                                    "Időtartam": "4",
                                    "Előző iőtartam": "2"
                                },
                                {
                                    "FOGLALAS_PK": "684",
                                    "SZOBA_FK": "184",
                                    "Időtartam": "3",
                                    "Előző iőtartam": "4"
                                },
                                {
                                    "FOGLALAS_PK": "1251",
                                    "SZOBA_FK": "184",
                                    "Időtartam": "4",
                                    "Előző iőtartam": "3"
                                },
                                {
                                    "FOGLALAS_PK": "578",
                                    "SZOBA_FK": "185",
                                    "Időtartam": "6",
                                    "Előző iőtartam": "0"
                                },
                                {
                                    "FOGLALAS_PK": "863",
                                    "SZOBA_FK": "185",
                                    "Időtartam": "4",
                                    "Előző iőtartam": "6"
                                },
                                {
                                    "FOGLALAS_PK": "898",
                                    "SZOBA_FK": "185",
                                    "Időtartam": "4",
                                    "Előző iőtartam": "4"
                                },
                                {
                                    "FOGLALAS_PK": "925",
                                    "SZOBA_FK": "185",
                                    "Időtartam": "6",
                                    "Előző iőtartam": "4"
                                },
                                {
                                    "FOGLALAS_PK": "672",
                                    "SZOBA_FK": "185",
                                    "Időtartam": "3",
                                    "Előző iőtartam": "6"
                                },
                                {
                                    "FOGLALAS_PK": "679",
                                    "SZOBA_FK": "185",
                                    "Időtartam": "5",
                                    "Előző iőtartam": "3"
                                },
                                {
                                    "FOGLALAS_PK": "693",
                                    "SZOBA_FK": "185",
                                    "Időtartam": "2",
                                    "Előző iőtartam": "5"
                                },
                                {
                                    "FOGLALAS_PK": "711",
                                    "SZOBA_FK": "185",
                                    "Időtartam": "3",
                                    "Előző iőtartam": "2"
                                },
                                {
                                    "FOGLALAS_PK": "1125",
                                    "SZOBA_FK": "185",
                                    "Időtartam": "3",
                                    "Előző iőtartam": "3"
                                },
                                {
                                    "FOGLALAS_PK": "1183",
                                    "SZOBA_FK": "185",
                                    "Időtartam": "5",
                                    "Előző iőtartam": "3"
                                },
                                {
                                    "FOGLALAS_PK": "1441",
                                    "SZOBA_FK": "185",
                                    "Időtartam": "7",
                                    "Előző iőtartam": "5"
                                },
                                {
                                    "FOGLALAS_PK": "1463",
                                    "SZOBA_FK": "185",
                                    "Időtartam": "7",
                                    "Előző iőtartam": "7"
                                },
                                {
                                    "FOGLALAS_PK": "615",
                                    "SZOBA_FK": "186",
                                    "Időtartam": "3",
                                    "Előző iőtartam": "0"
                                },
                                {
                                    "FOGLALAS_PK": "1153",
                                    "SZOBA_FK": "186",
                                    "Időtartam": "3",
                                    "Előző iőtartam": "3"
                                },
                                {
                                    "FOGLALAS_PK": "1248",
                                    "SZOBA_FK": "186",
                                    "Időtartam": "2",
                                    "Előző iőtartam": "3"
                                },
                                {
                                    "FOGLALAS_PK": "1467",
                                    "SZOBA_FK": "186",
                                    "Időtartam": "3",
                                    "Előző iőtartam": "2"
                                },
                                {
                                    "FOGLALAS_PK": "633",
                                    "SZOBA_FK": "187",
                                    "Időtartam": "6",
                                    "Előző iőtartam": "0"
                                },
                                {
                                    "FOGLALAS_PK": "868",
                                    "SZOBA_FK": "187",
                                    "Időtartam": "4",
                                    "Előző iőtartam": "6"
                                },
                                {
                                    "FOGLALAS_PK": "957",
                                    "SZOBA_FK": "187",
                                    "Időtartam": "4",
                                    "Előző iőtartam": "4"
                                },
                                {
                                    "FOGLALAS_PK": "695",
                                    "SZOBA_FK": "187",
                                    "Időtartam": "6",
                                    "Előző iőtartam": "4"
                                },
                                {
                                    "FOGLALAS_PK": "743",
                                    "SZOBA_FK": "187",
                                    "Időtartam": "2",
                                    "Előző iőtartam": "6"
                                },
                                {
                                    "FOGLALAS_PK": "766",
                                    "SZOBA_FK": "187",
                                    "Időtartam": "1",
                                    "Előző iőtartam": "2"
                                },
                                {
                                    "FOGLALAS_PK": "1404",
                                    "SZOBA_FK": "187",
                                    "Időtartam": "2",
                                    "Előző iőtartam": "1"
                                },
                                {
                                    "FOGLALAS_PK": "912",
                                    "SZOBA_FK": "188",
                                    "Időtartam": "1",
                                    "Előző iőtartam": "0"
                                },
                                {
                                    "FOGLALAS_PK": "690",
                                    "SZOBA_FK": "188",
                                    "Időtartam": "4",
                                    "Előző iőtartam": "1"
                                },
                                {
                                    "FOGLALAS_PK": "710",
                                    "SZOBA_FK": "188",
                                    "Időtartam": "7",
                                    "Előző iőtartam": "4"
                                },
                                {
                                    "FOGLALAS_PK": "747",
                                    "SZOBA_FK": "188",
                                    "Időtartam": "3",
                                    "Előző iőtartam": "7"
                                },
                                {
                                    "FOGLALAS_PK": "1030",
                                    "SZOBA_FK": "188",
                                    "Időtartam": "4",
                                    "Előző iőtartam": "3"
                                },
                                {
                                    "FOGLALAS_PK": "1390",
                                    "SZOBA_FK": "188",
                                    "Időtartam": "5",
                                    "Előző iőtartam": "4"
                                },
                                {
                                    "FOGLALAS_PK": "699",
                                    "SZOBA_FK": "189",
                                    "Időtartam": "2",
                                    "Előző iőtartam": "0"
                                },
                                {
                                    "FOGLALAS_PK": "753",
                                    "SZOBA_FK": "189",
                                    "Időtartam": "1",
                                    "Előző iőtartam": "2"
                                },
                                {
                                    "FOGLALAS_PK": "1204",
                                    "SZOBA_FK": "189",
                                    "Időtartam": "2",
                                    "Előző iőtartam": "1"
                                },
                                {
                                    "FOGLALAS_PK": "1449",
                                    "SZOBA_FK": "189",
                                    "Időtartam": "2",
                                    "Előző iőtartam": "2"
                                },
                                {
                                    "FOGLALAS_PK": "1576",
                                    "SZOBA_FK": "189",
                                    "Időtartam": "3",
                                    "Előző iőtartam": "2"
                                },
                                {
                                    "FOGLALAS_PK": "600",
                                    "SZOBA_FK": "190",
                                    "Időtartam": "7",
                                    "Előző iőtartam": "0"
                                },
                                {
                                    "FOGLALAS_PK": "989",
                                    "SZOBA_FK": "190",
                                    "Időtartam": "1",
                                    "Előző iőtartam": "7"
                                },
                                {
                                    "FOGLALAS_PK": "1017",
                                    "SZOBA_FK": "190",
                                    "Időtartam": "1",
                                    "Előző iőtartam": "1"
                                },
                                {
                                    "FOGLALAS_PK": "774",
                                    "SZOBA_FK": "190",
                                    "Időtartam": "5",
                                    "Előző iőtartam": "1"
                                },
                                {
                                    "FOGLALAS_PK": "1517",
                                    "SZOBA_FK": "190",
                                    "Időtartam": "5",
                                    "Előző iőtartam": "5"
                                },
                                {
                                    "FOGLALAS_PK": "1039",
                                    "SZOBA_FK": "191",
                                    "Időtartam": "6",
                                    "Előző iőtartam": "0"
                                },
                                {
                                    "FOGLALAS_PK": "1302",
                                    "SZOBA_FK": "191",
                                    "Időtartam": "1",
                                    "Előző iőtartam": "6"
                                },
                                {
                                    "FOGLALAS_PK": "1323",
                                    "SZOBA_FK": "191",
                                    "Időtartam": "7",
                                    "Előző iőtartam": "1"
                                },
                                {
                                    "FOGLALAS_PK": "1502",
                                    "SZOBA_FK": "191",
                                    "Időtartam": "2",
                                    "Előző iőtartam": "7"
                                },
                                {
                                    "FOGLALAS_PK": "1508",
                                    "SZOBA_FK": "191",
                                    "Időtartam": "7",
                                    "Előző iőtartam": "2"
                                },
                                {
                                    "FOGLALAS_PK": "903",
                                    "SZOBA_FK": "192",
                                    "Időtartam": "7",
                                    "Előző iőtartam": "0"
                                },
                                {
                                    "FOGLALAS_PK": "680",
                                    "SZOBA_FK": "192",
                                    "Időtartam": "4",
                                    "Előző iőtartam": "7"
                                },
                                {
                                    "FOGLALAS_PK": "634",
                                    "SZOBA_FK": "193",
                                    "Időtartam": "6",
                                    "Előző iőtartam": "0"
                                },
                                {
                                    "FOGLALAS_PK": "926",
                                    "SZOBA_FK": "193",
                                    "Időtartam": "1",
                                    "Előző iőtartam": "6"
                                },
                                {
                                    "FOGLALAS_PK": "977",
                                    "SZOBA_FK": "193",
                                    "Időtartam": "2",
                                    "Előző iőtartam": "1"
                                },
                                {
                                    "FOGLALAS_PK": "675",
                                    "SZOBA_FK": "193",
                                    "Időtartam": "2",
                                    "Előző iőtartam": "2"
                                },
                                {
                                    "FOGLALAS_PK": "835",
                                    "SZOBA_FK": "193",
                                    "Időtartam": "2",
                                    "Előző iőtartam": "2"
                                },
                                {
                                    "FOGLALAS_PK": "1043",
                                    "SZOBA_FK": "193",
                                    "Időtartam": "6",
                                    "Előző iőtartam": "2"
                                },
                                {
                                    "FOGLALAS_PK": "1238",
                                    "SZOBA_FK": "193",
                                    "Időtartam": "6",
                                    "Előző iőtartam": "6"
                                },
                                {
                                    "FOGLALAS_PK": "1095",
                                    "SZOBA_FK": "194",
                                    "Időtartam": "5",
                                    "Előző iőtartam": "0"
                                },
                                {
                                    "FOGLALAS_PK": "721",
                                    "SZOBA_FK": "195",
                                    "Időtartam": "4",
                                    "Előző iőtartam": "0"
                                },
                                {
                                    "FOGLALAS_PK": "842",
                                    "SZOBA_FK": "195",
                                    "Időtartam": "4",
                                    "Előző iőtartam": "4"
                                },
                                {
                                    "FOGLALAS_PK": "1074",
                                    "SZOBA_FK": "195",
                                    "Időtartam": "7",
                                    "Előző iőtartam": "4"
                                },
                                {
                                    "FOGLALAS_PK": "1184",
                                    "SZOBA_FK": "195",
                                    "Időtartam": "5",
                                    "Előző iőtartam": "7"
                                },
                                {
                                    "FOGLALAS_PK": "1473",
                                    "SZOBA_FK": "195",
                                    "Időtartam": "7",
                                    "Előző iőtartam": "5"
                                },
                                {
                                    "FOGLALAS_PK": "1484",
                                    "SZOBA_FK": "195",
                                    "Időtartam": "1",
                                    "Előző iőtartam": "7"
                                },
                                {
                                    "FOGLALAS_PK": "952",
                                    "SZOBA_FK": "196",
                                    "Időtartam": "3",
                                    "Előző iőtartam": "0"
                                },
                                {
                                    "FOGLALAS_PK": "673",
                                    "SZOBA_FK": "196",
                                    "Időtartam": "5",
                                    "Előző iőtartam": "3"
                                },
                                {
                                    "FOGLALAS_PK": "1314",
                                    "SZOBA_FK": "196",
                                    "Időtartam": "5",
                                    "Előző iőtartam": "5"
                                },
                                {
                                    "FOGLALAS_PK": "1340",
                                    "SZOBA_FK": "196",
                                    "Időtartam": "5",
                                    "Előző iőtartam": "5"
                                },
                                {
                                    "FOGLALAS_PK": "993",
                                    "SZOBA_FK": "197",
                                    "Időtartam": "7",
                                    "Előző iőtartam": "0"
                                },
                                {
                                    "FOGLALAS_PK": "764",
                                    "SZOBA_FK": "197",
                                    "Időtartam": "7",
                                    "Előző iőtartam": "7"
                                },
                                {
                                    "FOGLALAS_PK": "1091",
                                    "SZOBA_FK": "197",
                                    "Időtartam": "7",
                                    "Előző iőtartam": "7"
                                },
                                {
                                    "FOGLALAS_PK": "1172",
                                    "SZOBA_FK": "197",
                                    "Időtartam": "7",
                                    "Előző iőtartam": "7"
                                },
                                {
                                    "FOGLALAS_PK": "1304",
                                    "SZOBA_FK": "197",
                                    "Időtartam": "7",
                                    "Előző iőtartam": "7"
                                },
                                {
                                    "FOGLALAS_PK": "1387",
                                    "SZOBA_FK": "197",
                                    "Időtartam": "3",
                                    "Előző iőtartam": "7"
                                },
                                {
                                    "FOGLALAS_PK": "978",
                                    "SZOBA_FK": "198",
                                    "Időtartam": "1",
                                    "Előző iőtartam": "0"
                                },
                                {
                                    "FOGLALAS_PK": "1011",
                                    "SZOBA_FK": "198",
                                    "Időtartam": "7",
                                    "Előző iőtartam": "1"
                                },
                                {
                                    "FOGLALAS_PK": "1065",
                                    "SZOBA_FK": "198",
                                    "Időtartam": "3",
                                    "Előző iőtartam": "7"
                                },
                                {
                                    "FOGLALAS_PK": "1116",
                                    "SZOBA_FK": "198",
                                    "Időtartam": "1",
                                    "Előző iőtartam": "3"
                                },
                                {
                                    "FOGLALAS_PK": "1138",
                                    "SZOBA_FK": "198",
                                    "Időtartam": "5",
                                    "Előző iőtartam": "1"
                                },
                                {
                                    "FOGLALAS_PK": "1161",
                                    "SZOBA_FK": "198",
                                    "Időtartam": "5",
                                    "Előző iőtartam": "5"
                                },
                                {
                                    "FOGLALAS_PK": "1216",
                                    "SZOBA_FK": "198",
                                    "Időtartam": "7",
                                    "Előző iőtartam": "5"
                                },
                                {
                                    "FOGLALAS_PK": "1420",
                                    "SZOBA_FK": "198",
                                    "Időtartam": "5",
                                    "Előző iőtartam": "7"
                                }
                            ]
                        },
                        "text/html": "<table><tr><th>FOGLALAS_PK</th><th>SZOBA_FK</th><th>Időtartam</th><th>Előző iőtartam</th></tr><tr><td>620</td><td>1</td><td>5</td><td>0</td></tr><tr><td>949</td><td>1</td><td>1</td><td>5</td></tr><tr><td>738</td><td>1</td><td>7</td><td>1</td></tr><tr><td>803</td><td>1</td><td>4</td><td>7</td></tr><tr><td>1137</td><td>1</td><td>2</td><td>4</td></tr><tr><td>1152</td><td>1</td><td>1</td><td>2</td></tr><tr><td>1274</td><td>1</td><td>1</td><td>1</td></tr><tr><td>1334</td><td>1</td><td>4</td><td>1</td></tr><tr><td>828</td><td>2</td><td>3</td><td>0</td></tr><tr><td>1051</td><td>2</td><td>1</td><td>3</td></tr><tr><td>1069</td><td>2</td><td>7</td><td>1</td></tr><tr><td>1311</td><td>2</td><td>7</td><td>7</td></tr><tr><td>629</td><td>3</td><td>4</td><td>0</td></tr><tr><td>666</td><td>3</td><td>6</td><td>4</td></tr><tr><td>788</td><td>3</td><td>6</td><td>6</td></tr><tr><td>1038</td><td>3</td><td>3</td><td>6</td></tr><tr><td>1110</td><td>3</td><td>7</td><td>3</td></tr><tr><td>1151</td><td>3</td><td>1</td><td>7</td></tr><tr><td>1434</td><td>3</td><td>5</td><td>1</td></tr><tr><td>1544</td><td>3</td><td>5</td><td>5</td></tr><tr><td>651</td><td>4</td><td>7</td><td>0</td></tr><tr><td>946</td><td>4</td><td>5</td><td>7</td></tr><tr><td>1001</td><td>4</td><td>7</td><td>5</td></tr><tr><td>1127</td><td>4</td><td>3</td><td>7</td></tr><tr><td>1132</td><td>4</td><td>6</td><td>3</td></tr><tr><td>1492</td><td>4</td><td>6</td><td>6</td></tr><tr><td>564</td><td>5</td><td>2</td><td>0</td></tr><tr><td>965</td><td>5</td><td>7</td><td>2</td></tr><tr><td>1073</td><td>5</td><td>5</td><td>7</td></tr><tr><td>1257</td><td>5</td><td>3</td><td>5</td></tr><tr><td>560</td><td>6</td><td>6</td><td>0</td></tr><tr><td>873</td><td>6</td><td>3</td><td>6</td></tr><tr><td>990</td><td>6</td><td>4</td><td>3</td></tr><tr><td>772</td><td>6</td><td>6</td><td>4</td></tr><tr><td>850</td><td>6</td><td>2</td><td>6</td></tr><tr><td>1099</td><td>6</td><td>4</td><td>2</td></tr><tr><td>562</td><td>7</td><td>4</td><td>0</td></tr><tr><td>759</td><td>7</td><td>7</td><td>4</td></tr><tr><td>1131</td><td>7</td><td>1</td><td>7</td></tr><tr><td>1175</td><td>7</td><td>4</td><td>1</td></tr><tr><td>1182</td><td>7</td><td>4</td><td>4</td></tr><tr><td>1252</td><td>7</td><td>2</td><td>4</td></tr><tr><td>882</td><td>8</td><td>1</td><td>0</td></tr><tr><td>947</td><td>8</td><td>3</td><td>1</td></tr><tr><td>694</td><td>8</td><td>4</td><td>3</td></tr><tr><td>818</td><td>8</td><td>4</td><td>4</td></tr><tr><td>832</td><td>8</td><td>4</td><td>4</td></tr><tr><td>609</td><td>9</td><td>2</td><td>0</td></tr><tr><td>1157</td><td>9</td><td>6</td><td>2</td></tr><tr><td>1220</td><td>9</td><td>3</td><td>6</td></tr><tr><td>1260</td><td>9</td><td>6</td><td>3</td></tr><tr><td>1423</td><td>9</td><td>3</td><td>6</td></tr><tr><td>1537</td><td>9</td><td>3</td><td>3</td></tr><tr><td>569</td><td>10</td><td>3</td><td>0</td></tr><tr><td>790</td><td>10</td><td>5</td><td>3</td></tr><tr><td>795</td><td>10</td><td>4</td><td>5</td></tr><tr><td>1319</td><td>10</td><td>6</td><td>4</td></tr><tr><td>918</td><td>11</td><td>6</td><td>0</td></tr><tr><td>1123</td><td>11</td><td>5</td><td>6</td></tr><tr><td>1236</td><td>11</td><td>1</td><td>5</td></tr><tr><td>1523</td><td>11</td><td>1</td><td>1</td></tr><tr><td>876</td><td>12</td><td>7</td><td>0</td></tr><tr><td>951</td><td>12</td><td>3</td><td>7</td></tr><tr><td>970</td><td>12</td><td>2</td><td>3</td></tr><tr><td>1020</td><td>12</td><td>5</td><td>2</td></tr><tr><td>697</td><td>12</td><td>2</td><td>5</td></tr><tr><td>775</td><td>12</td><td>4</td><td>2</td></tr><tr><td>1140</td><td>12</td><td>3</td><td>4</td></tr><tr><td>1164</td><td>12</td><td>5</td><td>3</td></tr><tr><td>1430</td><td>12</td><td>2</td><td>5</td></tr><tr><td>763</td><td>13</td><td>4</td><td>0</td></tr><tr><td>1044</td><td>13</td><td>6</td><td>4</td></tr><tr><td>1347</td><td>13</td><td>3</td><td>6</td></tr><tr><td>1469</td><td>13</td><td>2</td><td>3</td></tr><tr><td>663</td><td>14</td><td>1</td><td>0</td></tr><tr><td>813</td><td>14</td><td>3</td><td>1</td></tr><tr><td>1542</td><td>14</td><td>4</td><td>3</td></tr><tr><td>1028</td><td>15</td><td>2</td><td>0</td></tr><tr><td>791</td><td>15</td><td>5</td><td>2</td></tr><tr><td>1129</td><td>15</td><td>4</td><td>5</td></tr><tr><td>1244</td><td>15</td><td>1</td><td>4</td></tr><tr><td>1418</td><td>15</td><td>4</td><td>1</td></tr><tr><td>1442</td><td>15</td><td>3</td><td>4</td></tr><tr><td>856</td><td>16</td><td>6</td><td>0</td></tr><tr><td>896</td><td>16</td><td>1</td><td>6</td></tr><tr><td>973</td><td>16</td><td>1</td><td>1</td></tr><tr><td>687</td><td>16</td><td>3</td><td>1</td></tr><tr><td>1498</td><td>16</td><td>7</td><td>3</td></tr><tr><td>602</td><td>17</td><td>6</td><td>0</td></tr><tr><td>916</td><td>17</td><td>2</td><td>6</td></tr><tr><td>713</td><td>17</td><td>6</td><td>2</td></tr><tr><td>744</td><td>17</td><td>1</td><td>6</td></tr><tr><td>1316</td><td>17</td><td>5</td><td>1</td></tr><tr><td>1549</td><td>17</td><td>3</td><td>5</td></tr><tr><td>626</td><td>18</td><td>3</td><td>0</td></tr><tr><td>767</td><td>18</td><td>3</td><td>3</td></tr><tr><td>1035</td><td>18</td><td>6</td><td>3</td></tr><tr><td>1173</td><td>18</td><td>6</td><td>6</td></tr><tr><td>1198</td><td>18</td><td>4</td><td>6</td></tr><tr><td>1505</td><td>18</td><td>6</td><td>4</td></tr><tr><td>948</td><td>19</td><td>2</td><td>0</td></tr><tr><td>696</td><td>19</td><td>1</td><td>2</td></tr><tr><td>778</td><td>19</td><td>1</td><td>1</td></tr><tr><td>1139</td><td>19</td><td>7</td><td>1</td></tr><tr><td>1237</td><td>19</td><td>1</td><td>7</td></tr><tr><td>1533</td><td>19</td><td>1</td><td>1</td></tr><tr><td>755</td><td>20</td><td>6</td><td>0</td></tr><tr><td>820</td><td>20</td><td>1</td><td>6</td></tr><tr><td>1070</td><td>20</td><td>1</td><td>1</td></tr><tr><td>1114</td><td>20</td><td>5</td><td>1</td></tr><tr><td>1106</td><td>20</td><td>2</td><td>5</td></tr><tr><td>566</td><td>21</td><td>6</td><td>0</td></tr><tr><td>660</td><td>21</td><td>5</td><td>6</td></tr><tr><td>805</td><td>21</td><td>1</td><td>5</td></tr><tr><td>1212</td><td>21</td><td>6</td><td>1</td></tr><tr><td>906</td><td>22</td><td>1</td><td>0</td></tr><tr><td>1005</td><td>22</td><td>3</td><td>1</td></tr><tr><td>1130</td><td>22</td><td>1</td><td>3</td></tr><tr><td>1195</td><td>22</td><td>6</td><td>1</td></tr><tr><td>1206</td><td>22</td><td>7</td><td>6</td></tr><tr><td>1287</td><td>22</td><td>3</td><td>7</td></tr><tr><td>934</td><td>23</td><td>1</td><td>0</td></tr><tr><td>945</td><td>23</td><td>7</td><td>1</td></tr><tr><td>848</td><td>23</td><td>1</td><td>7</td></tr><tr><td>852</td><td>24</td><td>2</td><td>0</td></tr><tr><td>1167</td><td>24</td><td>1</td><td>2</td></tr><tr><td>1415</td><td>24</td><td>3</td><td>1</td></tr><tr><td>1052</td><td>25</td><td>3</td><td>0</td></tr><tr><td>1362</td><td>25</td><td>2</td><td>3</td></tr><tr><td>1158</td><td>26</td><td>2</td><td>0</td></tr><tr><td>1388</td><td>26</td><td>3</td><td>2</td></tr><tr><td>758</td><td>27</td><td>3</td><td>0</td></tr><tr><td>807</td><td>27</td><td>2</td><td>3</td></tr><tr><td>1031</td><td>27</td><td>2</td><td>2</td></tr><tr><td>1082</td><td>27</td><td>5</td><td>2</td></tr><tr><td>1275</td><td>27</td><td>6</td><td>5</td></tr><tr><td>1377</td><td>27</td><td>1</td><td>6</td></tr><tr><td>1476</td><td>27</td><td>1</td><td>1</td></tr><tr><td>872</td><td>28</td><td>5</td><td>0</td></tr><tr><td>886</td><td>28</td><td>4</td><td>5</td></tr><tr><td>901</td><td>28</td><td>4</td><td>4</td></tr><tr><td>725</td><td>28</td><td>5</td><td>4</td></tr><tr><td>1150</td><td>28</td><td>6</td><td>5</td></tr><tr><td>1459</td><td>28</td><td>2</td><td>6</td></tr><tr><td>611</td><td>29</td><td>5</td><td>0</td></tr><tr><td>894</td><td>29</td><td>1</td><td>5</td></tr><tr><td>1076</td><td>29</td><td>7</td><td>1</td></tr><tr><td>1185</td><td>29</td><td>5</td><td>7</td></tr><tr><td>1235</td><td>29</td><td>7</td><td>5</td></tr><tr><td>1568</td><td>29</td><td>7</td><td>7</td></tr><tr><td>604</td><td>30</td><td>2</td><td>0</td></tr><tr><td>1023</td><td>30</td><td>7</td><td>2</td></tr><tr><td>1136</td><td>30</td><td>5</td><td>7</td></tr><tr><td>598</td><td>31</td><td>2</td><td>0</td></tr><tr><td>606</td><td>31</td><td>1</td><td>2</td></tr><tr><td>728</td><td>31</td><td>4</td><td>1</td></tr><tr><td>920</td><td>32</td><td>4</td><td>0</td></tr><tr><td>624</td><td>33</td><td>6</td><td>0</td></tr><tr><td>1012</td><td>33</td><td>7</td><td>6</td></tr><tr><td>1053</td><td>33</td><td>1</td><td>7</td></tr><tr><td>1321</td><td>33</td><td>4</td><td>1</td></tr><tr><td>1344</td><td>33</td><td>5</td><td>4</td></tr><tr><td>1381</td><td>33</td><td>6</td><td>5</td></tr><tr><td>870</td><td>34</td><td>6</td><td>0</td></tr><tr><td>904</td><td>34</td><td>2</td><td>6</td></tr><tr><td>777</td><td>34</td><td>3</td><td>2</td></tr><tr><td>821</td><td>34</td><td>1</td><td>3</td></tr><tr><td>971</td><td>35</td><td>3</td><td>0</td></tr><tr><td>979</td><td>35</td><td>7</td><td>3</td></tr><tr><td>686</td><td>35</td><td>6</td><td>7</td></tr><tr><td>707</td><td>35</td><td>2</td><td>6</td></tr><tr><td>829</td><td>35</td><td>2</td><td>2</td></tr><tr><td>1480</td><td>35</td><td>37</td><td>2</td></tr><tr><td>1411</td><td>35</td><td>1</td><td>37</td></tr><tr><td>1436</td><td>35</td><td>1</td><td>1</td></tr><tr><td>1529</td><td>35</td><td>4</td><td>1</td></tr><tr><td>895</td><td>36</td><td>5</td><td>0</td></tr><tr><td>919</td><td>36</td><td>1</td><td>5</td></tr><tr><td>985</td><td>36</td><td>6</td><td>1</td></tr><tr><td>1003</td><td>36</td><td>4</td><td>6</td></tr><tr><td>748</td><td>36</td><td>2</td><td>4</td></tr><tr><td>750</td><td>36</td><td>6</td><td>2</td></tr><tr><td>688</td><td>37</td><td>2</td><td>0</td></tr><tr><td>705</td><td>37</td><td>4</td><td>2</td></tr><tr><td>1335</td><td>37</td><td>7</td><td>4</td></tr><tr><td>627</td><td>38</td><td>6</td><td>0</td></tr><tr><td>1033</td><td>38</td><td>2</td><td>6</td></tr><tr><td>1060</td><td>38</td><td>2</td><td>2</td></tr><tr><td>1078</td><td>38</td><td>7</td><td>2</td></tr><tr><td>1351</td><td>38</td><td>4</td><td>7</td></tr><tr><td>1416</td><td>38</td><td>5</td><td>4</td></tr><tr><td>1478</td><td>38</td><td>4</td><td>5</td></tr><tr><td>1556</td><td>38</td><td>6</td><td>4</td></tr><tr><td>601</td><td>39</td><td>6</td><td>0</td></tr><tr><td>899</td><td>39</td><td>6</td><td>6</td></tr><tr><td>1214</td><td>39</td><td>5</td><td>6</td></tr><tr><td>1380</td><td>39</td><td>5</td><td>5</td></tr><tr><td>1435</td><td>39</td><td>7</td><td>5</td></tr><tr><td>1454</td><td>39</td><td>1</td><td>7</td></tr><tr><td>1538</td><td>39</td><td>2</td><td>1</td></tr><tr><td>924</td><td>40</td><td>5</td><td>0</td></tr><tr><td>932</td><td>40</td><td>6</td><td>5</td></tr><tr><td>1018</td><td>40</td><td>5</td><td>6</td></tr><tr><td>1118</td><td>40</td><td>5</td><td>5</td></tr><tr><td>960</td><td>41</td><td>6</td><td>0</td></tr><tr><td>1144</td><td>41</td><td>1</td><td>6</td></tr><tr><td>561</td><td>42</td><td>4</td><td>0</td></tr><tr><td>590</td><td>42</td><td>5</td><td>4</td></tr><tr><td>851</td><td>42</td><td>7</td><td>5</td></tr><tr><td>770</td><td>42</td><td>3</td><td>7</td></tr><tr><td>1309</td><td>42</td><td>2</td><td>3</td></tr><tr><td>1444</td><td>42</td><td>6</td><td>2</td></tr><tr><td>1019</td><td>43</td><td>4</td><td>0</td></tr><tr><td>670</td><td>43</td><td>4</td><td>4</td></tr><tr><td>1088</td><td>43</td><td>2</td><td>4</td></tr><tr><td>1207</td><td>43</td><td>1</td><td>2</td></tr><tr><td>1227</td><td>43</td><td>5</td><td>1</td></tr><tr><td>1270</td><td>43</td><td>4</td><td>5</td></tr><tr><td>1524</td><td>43</td><td>1</td><td>4</td></tr><tr><td>1553</td><td>43</td><td>5</td><td>1</td></tr><tr><td>589</td><td>44</td><td>2</td><td>0</td></tr><tr><td>658</td><td>44</td><td>6</td><td>2</td></tr><tr><td>823</td><td>44</td><td>2</td><td>6</td></tr><tr><td>1295</td><td>44</td><td>2</td><td>2</td></tr><tr><td>1425</td><td>44</td><td>2</td><td>2</td></tr><tr><td>1552</td><td>44</td><td>2</td><td>2</td></tr><tr><td>802</td><td>45</td><td>7</td><td>0</td></tr><tr><td>800</td><td>45</td><td>5</td><td>7</td></tr><tr><td>846</td><td>45</td><td>3</td><td>5</td></tr><tr><td>1135</td><td>45</td><td>3</td><td>3</td></tr><tr><td>1303</td><td>45</td><td>2</td><td>3</td></tr><tr><td>752</td><td>46</td><td>5</td><td>0</td></tr><tr><td>1187</td><td>46</td><td>7</td><td>5</td></tr><tr><td>1291</td><td>46</td><td>3</td><td>7</td></tr><tr><td>1515</td><td>46</td><td>4</td><td>3</td></tr><tr><td>955</td><td>47</td><td>1</td><td>0</td></tr><tr><td>1056</td><td>47</td><td>7</td><td>1</td></tr><tr><td>603</td><td>48</td><td>3</td><td>0</td></tr><tr><td>628</td><td>48</td><td>2</td><td>3</td></tr><tr><td>914</td><td>48</td><td>5</td><td>2</td></tr><tr><td>986</td><td>48</td><td>5</td><td>5</td></tr><tr><td>824</td><td>48</td><td>2</td><td>5</td></tr><tr><td>1243</td><td>48</td><td>6</td><td>2</td></tr><tr><td>1546</td><td>48</td><td>3</td><td>6</td></tr><tr><td>1547</td><td>48</td><td>1</td><td>3</td></tr><tr><td>1581</td><td>48</td><td>5</td><td>1</td></tr><tr><td>888</td><td>49</td><td>7</td><td>0</td></tr><tr><td>793</td><td>49</td><td>6</td><td>7</td></tr><tr><td>826</td><td>49</td><td>4</td><td>6</td></tr><tr><td>1066</td><td>49</td><td>7</td><td>4</td></tr><tr><td>1200</td><td>49</td><td>7</td><td>7</td></tr><tr><td>1221</td><td>49</td><td>2</td><td>7</td></tr><tr><td>1536</td><td>49</td><td>6</td><td>2</td></tr><tr><td>787</td><td>50</td><td>3</td><td>0</td></tr><tr><td>1063</td><td>50</td><td>2</td><td>3</td></tr><tr><td>1224</td><td>50</td><td>1</td><td>2</td></tr><tr><td>1272</td><td>50</td><td>1</td><td>1</td></tr><tr><td>865</td><td>51</td><td>7</td><td>0</td></tr><tr><td>811</td><td>51</td><td>2</td><td>7</td></tr><tr><td>1165</td><td>51</td><td>5</td><td>2</td></tr><tr><td>1477</td><td>51</td><td>6</td><td>5</td></tr><tr><td>1550</td><td>51</td><td>1</td><td>6</td></tr><tr><td>822</td><td>52</td><td>7</td><td>0</td></tr><tr><td>1202</td><td>52</td><td>2</td><td>7</td></tr><tr><td>1258</td><td>52</td><td>5</td><td>2</td></tr><tr><td>1431</td><td>52</td><td>5</td><td>5</td></tr><tr><td>1534</td><td>52</td><td>5</td><td>5</td></tr><tr><td>855</td><td>53</td><td>1</td><td>0</td></tr><tr><td>987</td><td>53</td><td>4</td><td>1</td></tr><tr><td>622</td><td>54</td><td>7</td><td>0</td></tr><tr><td>642</td><td>54</td><td>5</td><td>7</td></tr><tr><td>889</td><td>54</td><td>2</td><td>5</td></tr><tr><td>668</td><td>54</td><td>1</td><td>2</td></tr><tr><td>1096</td><td>54</td><td>4</td><td>1</td></tr><tr><td>1328</td><td>54</td><td>4</td><td>4</td></tr><tr><td>734</td><td>55</td><td>6</td><td>0</td></tr><tr><td>1086</td><td>55</td><td>5</td><td>6</td></tr><tr><td>1163</td><td>55</td><td>2</td><td>5</td></tr><tr><td>1232</td><td>55</td><td>7</td><td>2</td></tr><tr><td>1327</td><td>55</td><td>6</td><td>7</td></tr><tr><td>1386</td><td>55</td><td>2</td><td>6</td></tr><tr><td>1512</td><td>55</td><td>1</td><td>2</td></tr><tr><td>1520</td><td>55</td><td>1</td><td>1</td></tr><tr><td>935</td><td>56</td><td>4</td><td>0</td></tr><tr><td>838</td><td>56</td><td>2</td><td>4</td></tr><tr><td>1348</td><td>57</td><td>1</td><td>0</td></tr><tr><td>1389</td><td>57</td><td>1</td><td>1</td></tr><tr><td>1466</td><td>57</td><td>7</td><td>1</td></tr><tr><td>1504</td><td>57</td><td>4</td><td>7</td></tr><tr><td>883</td><td>58</td><td>5</td><td>0</td></tr><tr><td>719</td><td>58</td><td>3</td><td>5</td></tr><tr><td>773</td><td>58</td><td>2</td><td>3</td></tr><tr><td>1113</td><td>58</td><td>3</td><td>2</td></tr><tr><td>1186</td><td>58</td><td>6</td><td>3</td></tr><tr><td>1208</td><td>58</td><td>6</td><td>6</td></tr><tr><td>1255</td><td>58</td><td>7</td><td>6</td></tr><tr><td>1261</td><td>58</td><td>6</td><td>7</td></tr><tr><td>1285</td><td>58</td><td>7</td><td>6</td></tr><tr><td>1293</td><td>58</td><td>3</td><td>7</td></tr><tr><td>1307</td><td>58</td><td>6</td><td>3</td></tr><tr><td>1322</td><td>58</td><td>3</td><td>6</td></tr><tr><td>1451</td><td>58</td><td>6</td><td>3</td></tr><tr><td>1080</td><td>59</td><td>1</td><td>0</td></tr><tr><td>1084</td><td>59</td><td>2</td><td>1</td></tr><tr><td>1170</td><td>59</td><td>5</td><td>2</td></tr><tr><td>1191</td><td>59</td><td>6</td><td>5</td></tr><tr><td>1239</td><td>59</td><td>2</td><td>6</td></tr><tr><td>1288</td><td>59</td><td>3</td><td>2</td></tr><tr><td>1573</td><td>59</td><td>1</td><td>3</td></tr><tr><td>676</td><td>60</td><td>2</td><td>0</td></tr><tr><td>701</td><td>61</td><td>2</td><td>0</td></tr><tr><td>756</td><td>61</td><td>6</td><td>2</td></tr><tr><td>1148</td><td>61</td><td>3</td><td>6</td></tr><tr><td>1218</td><td>61</td><td>2</td><td>3</td></tr><tr><td>1496</td><td>61</td><td>7</td><td>2</td></tr><tr><td>936</td><td>62</td><td>3</td><td>0</td></tr><tr><td>938</td><td>62</td><td>1</td><td>3</td></tr><tr><td>702</td><td>62</td><td>5</td><td>1</td></tr><tr><td>1081</td><td>62</td><td>7</td><td>5</td></tr><tr><td>1426</td><td>62</td><td>4</td><td>7</td></tr><tr><td>625</td><td>63</td><td>3</td><td>0</td></tr><tr><td>891</td><td>63</td><td>6</td><td>3</td></tr><tr><td>769</td><td>63</td><td>5</td><td>6</td></tr><tr><td>845</td><td>63</td><td>1</td><td>5</td></tr><tr><td>875</td><td>64</td><td>2</td><td>0</td></tr><tr><td>1122</td><td>64</td><td>4</td><td>2</td></tr><tr><td>1233</td><td>64</td><td>7</td><td>4</td></tr><tr><td>1446</td><td>64</td><td>6</td><td>7</td></tr><tr><td>1465</td><td>64</td><td>4</td><td>6</td></tr><tr><td>1582</td><td>64</td><td>1</td><td>4</td></tr><tr><td>650</td><td>65</td><td>6</td><td>0</td></tr><tr><td>950</td><td>66</td><td>3</td><td>0</td></tr><tr><td>736</td><td>66</td><td>3</td><td>3</td></tr><tr><td>1234</td><td>66</td><td>3</td><td>3</td></tr><tr><td>1264</td><td>66</td><td>4</td><td>3</td></tr><tr><td>638</td><td>67</td><td>5</td><td>0</td></tr><tr><td>645</td><td>67</td><td>6</td><td>5</td></tr><tr><td>874</td><td>67</td><td>6</td><td>6</td></tr><tr><td>1382</td><td>67</td><td>1</td><td>6</td></tr><tr><td>1580</td><td>67</td><td>5</td><td>1</td></tr><tr><td>1584</td><td>67</td><td>1</td><td>5</td></tr><tr><td>563</td><td>68</td><td>5</td><td>0</td></tr><tr><td>1027</td><td>68</td><td>7</td><td>5</td></tr><tr><td>1324</td><td>68</td><td>4</td><td>7</td></tr><tr><td>885</td><td>69</td><td>1</td><td>0</td></tr><tr><td>1055</td><td>69</td><td>5</td><td>1</td></tr><tr><td>1225</td><td>69</td><td>5</td><td>5</td></tr><tr><td>1246</td><td>69</td><td>7</td><td>5</td></tr><tr><td>585</td><td>70</td><td>5</td><td>0</td></tr><tr><td>860</td><td>70</td><td>2</td><td>5</td></tr><tr><td>1006</td><td>70</td><td>3</td><td>2</td></tr><tr><td>704</td><td>70</td><td>3</td><td>3</td></tr><tr><td>814</td><td>70</td><td>3</td><td>3</td></tr><tr><td>1092</td><td>70</td><td>3</td><td>3</td></tr><tr><td>1126</td><td>70</td><td>3</td><td>3</td></tr><tr><td>1325</td><td>70</td><td>7</td><td>3</td></tr><tr><td>1333</td><td>70</td><td>6</td><td>7</td></tr><tr><td>1365</td><td>70</td><td>3</td><td>6</td></tr><tr><td>1457</td><td>70</td><td>7</td><td>3</td></tr><tr><td>1009</td><td>71</td><td>1</td><td>0</td></tr><tr><td>681</td><td>71</td><td>3</td><td>1</td></tr><tr><td>712</td><td>71</td><td>1</td><td>3</td></tr><tr><td>902</td><td>72</td><td>5</td><td>0</td></tr><tr><td>961</td><td>72</td><td>6</td><td>5</td></tr><tr><td>1318</td><td>72</td><td>2</td><td>6</td></tr><tr><td>1396</td><td>72</td><td>3</td><td>2</td></tr><tr><td>1000</td><td>73</td><td>4</td><td>0</td></tr><tr><td>714</td><td>73</td><td>7</td><td>4</td></tr><tr><td>1159</td><td>73</td><td>5</td><td>7</td></tr><tr><td>1331</td><td>73</td><td>4</td><td>5</td></tr><tr><td>595</td><td>74</td><td>7</td><td>0</td></tr><tr><td>877</td><td>74</td><td>4</td><td>7</td></tr><tr><td>940</td><td>74</td><td>5</td><td>4</td></tr><tr><td>963</td><td>74</td><td>1</td><td>5</td></tr><tr><td>797</td><td>74</td><td>5</td><td>1</td></tr><tr><td>830</td><td>74</td><td>1</td><td>5</td></tr><tr><td>847</td><td>74</td><td>3</td><td>1</td></tr><tr><td>1093</td><td>74</td><td>6</td><td>3</td></tr><tr><td>1179</td><td>74</td><td>7</td><td>6</td></tr><tr><td>1013</td><td>75</td><td>5</td><td>0</td></tr><tr><td>1412</td><td>75</td><td>2</td><td>5</td></tr><tr><td>1458</td><td>75</td><td>1</td><td>2</td></tr><tr><td>976</td><td>76</td><td>2</td><td>0</td></tr><tr><td>683</td><td>76</td><td>7</td><td>2</td></tr><tr><td>1557</td><td>76</td><td>3</td><td>7</td></tr><tr><td>593</td><td>77</td><td>3</td><td>0</td></tr><tr><td>982</td><td>77</td><td>3</td><td>3</td></tr><tr><td>698</td><td>77</td><td>4</td><td>3</td></tr><tr><td>1104</td><td>77</td><td>1</td><td>4</td></tr><tr><td>1439</td><td>77</td><td>6</td><td>1</td></tr><tr><td>1461</td><td>77</td><td>4</td><td>6</td></tr><tr><td>568</td><td>78</td><td>1</td><td>0</td></tr><tr><td>646</td><td>78</td><td>3</td><td>1</td></tr><tr><td>700</td><td>78</td><td>5</td><td>3</td></tr><tr><td>1268</td><td>78</td><td>2</td><td>5</td></tr><tr><td>1281</td><td>78</td><td>3</td><td>2</td></tr><tr><td>1577</td><td>78</td><td>7</td><td>3</td></tr><tr><td>583</td><td>79</td><td>6</td><td>0</td></tr><tr><td>1054</td><td>79</td><td>1</td><td>6</td></tr><tr><td>1229</td><td>79</td><td>7</td><td>1</td></tr><tr><td>1345</td><td>79</td><td>3</td><td>7</td></tr><tr><td>1447</td><td>79</td><td>4</td><td>3</td></tr><tr><td>887</td><td>80</td><td>6</td><td>0</td></tr><tr><td>929</td><td>80</td><td>2</td><td>6</td></tr><tr><td>983</td><td>80</td><td>6</td><td>2</td></tr><tr><td>667</td><td>80</td><td>6</td><td>6</td></tr><tr><td>1071</td><td>80</td><td>4</td><td>6</td></tr><tr><td>1279</td><td>80</td><td>5</td><td>4</td></tr><tr><td>1367</td><td>80</td><td>3</td><td>5</td></tr><tr><td>1366</td><td>81</td><td>5</td><td>0</td></tr><tr><td>1443</td><td>81</td><td>7</td><td>5</td></tr><tr><td>1464</td><td>81</td><td>7</td><td>7</td></tr><tr><td>1506</td><td>81</td><td>3</td><td>7</td></tr><tr><td>1562</td><td>81</td><td>3</td><td>3</td></tr><tr><td>862</td><td>82</td><td>4</td><td>0</td></tr><tr><td>871</td><td>82</td><td>5</td><td>4</td></tr><tr><td>997</td><td>82</td><td>6</td><td>5</td></tr><tr><td>1277</td><td>82</td><td>5</td><td>6</td></tr><tr><td>1341</td><td>82</td><td>2</td><td>5</td></tr><tr><td>1406</td><td>82</td><td>1</td><td>2</td></tr><tr><td>572</td><td>83</td><td>7</td><td>0</td></tr><tr><td>869</td><td>83</td><td>6</td><td>7</td></tr><tr><td>878</td><td>83</td><td>6</td><td>6</td></tr><tr><td>995</td><td>83</td><td>5</td><td>6</td></tr><tr><td>674</td><td>83</td><td>4</td><td>5</td></tr><tr><td>798</td><td>83</td><td>4</td><td>4</td></tr><tr><td>1119</td><td>83</td><td>6</td><td>4</td></tr><tr><td>1379</td><td>83</td><td>7</td><td>6</td></tr><tr><td>954</td><td>84</td><td>5</td><td>0</td></tr><tr><td>819</td><td>84</td><td>2</td><td>5</td></tr><tr><td>1376</td><td>84</td><td>5</td><td>2</td></tr><tr><td>1384</td><td>84</td><td>7</td><td>5</td></tr><tr><td>647</td><td>85</td><td>3</td><td>0</td></tr><tr><td>1059</td><td>85</td><td>3</td><td>3</td></tr><tr><td>1320</td><td>85</td><td>1</td><td>3</td></tr><tr><td>1513</td><td>85</td><td>7</td><td>1</td></tr><tr><td>859</td><td>86</td><td>1</td><td>0</td></tr><tr><td>1057</td><td>86</td><td>5</td><td>1</td></tr><tr><td>1079</td><td>86</td><td>4</td><td>5</td></tr><tr><td>1108</td><td>86</td><td>1</td><td>4</td></tr><tr><td>1453</td><td>86</td><td>1</td><td>1</td></tr><tr><td>558</td><td>87</td><td>4</td><td>0</td></tr><tr><td>844</td><td>87</td><td>1</td><td>4</td></tr><tr><td>1103</td><td>87</td><td>3</td><td>1</td></tr><tr><td>1349</td><td>87</td><td>5</td><td>3</td></tr><tr><td>1456</td><td>87</td><td>5</td><td>5</td></tr><tr><td>866</td><td>88</td><td>2</td><td>0</td></tr><tr><td>757</td><td>88</td><td>7</td><td>2</td></tr><tr><td>1196</td><td>88</td><td>3</td><td>7</td></tr><tr><td>1273</td><td>88</td><td>7</td><td>3</td></tr><tr><td>1300</td><td>88</td><td>3</td><td>7</td></tr><tr><td>1359</td><td>88</td><td>2</td><td>3</td></tr><tr><td>1548</td><td>88</td><td>7</td><td>2</td></tr><tr><td>1575</td><td>88</td><td>6</td><td>7</td></tr><tr><td>817</td><td>89</td><td>3</td><td>0</td></tr><tr><td>1037</td><td>89</td><td>7</td><td>3</td></tr><tr><td>1101</td><td>89</td><td>5</td><td>7</td></tr><tr><td>1189</td><td>89</td><td>6</td><td>5</td></tr><tr><td>1253</td><td>89</td><td>2</td><td>6</td></tr><tr><td>1269</td><td>89</td><td>2</td><td>2</td></tr><tr><td>1399</td><td>89</td><td>2</td><td>2</td></tr><tr><td>1521</td><td>89</td><td>7</td><td>2</td></tr><tr><td>729</td><td>90</td><td>2</td><td>0</td></tr><tr><td>1174</td><td>90</td><td>7</td><td>2</td></tr><tr><td>1299</td><td>90</td><td>6</td><td>7</td></tr><tr><td>1405</td><td>90</td><td>5</td><td>6</td></tr><tr><td>636</td><td>91</td><td>6</td><td>0</td></tr><tr><td>732</td><td>91</td><td>4</td><td>6</td></tr><tr><td>1213</td><td>91</td><td>3</td><td>4</td></tr><tr><td>1397</td><td>91</td><td>4</td><td>3</td></tr><tr><td>942</td><td>92</td><td>6</td><td>0</td></tr><tr><td>1016</td><td>92</td><td>2</td><td>6</td></tr><tr><td>809</td><td>92</td><td>3</td><td>2</td></tr><tr><td>841</td><td>92</td><td>6</td><td>3</td></tr><tr><td>1527</td><td>92</td><td>2</td><td>6</td></tr><tr><td>1555</td><td>92</td><td>4</td><td>2</td></tr><tr><td>741</td><td>93</td><td>7</td><td>0</td></tr><tr><td>1169</td><td>93</td><td>4</td><td>7</td></tr><tr><td>1217</td><td>93</td><td>1</td><td>4</td></tr><tr><td>1355</td><td>93</td><td>2</td><td>1</td></tr><tr><td>1391</td><td>93</td><td>4</td><td>2</td></tr><tr><td>616</td><td>94</td><td>4</td><td>0</td></tr><tr><td>975</td><td>94</td><td>5</td><td>4</td></tr><tr><td>665</td><td>94</td><td>7</td><td>5</td></tr><tr><td>727</td><td>94</td><td>3</td><td>7</td></tr><tr><td>1241</td><td>94</td><td>7</td><td>3</td></tr><tr><td>1305</td><td>94</td><td>2</td><td>7</td></tr><tr><td>1312</td><td>94</td><td>3</td><td>2</td></tr><tr><td>1368</td><td>94</td><td>1</td><td>3</td></tr><tr><td>1518</td><td>94</td><td>2</td><td>1</td></tr><tr><td>1564</td><td>94</td><td>7</td><td>2</td></tr><tr><td>656</td><td>95</td><td>7</td><td>0</td></tr><tr><td>1048</td><td>95</td><td>3</td><td>7</td></tr><tr><td>1097</td><td>95</td><td>4</td><td>3</td></tr><tr><td>1543</td><td>95</td><td>7</td><td>4</td></tr><tr><td>607</td><td>96</td><td>4</td><td>0</td></tr><tr><td>623</td><td>96</td><td>7</td><td>4</td></tr><tr><td>671</td><td>96</td><td>4</td><td>7</td></tr><tr><td>780</td><td>96</td><td>1</td><td>4</td></tr><tr><td>1378</td><td>96</td><td>3</td><td>1</td></tr><tr><td>1438</td><td>96</td><td>2</td><td>3</td></tr><tr><td>1569</td><td>96</td><td>7</td><td>2</td></tr><tr><td>635</td><td>97</td><td>3</td><td>0</td></tr><tr><td>726</td><td>97</td><td>4</td><td>3</td></tr><tr><td>718</td><td>97</td><td>7</td><td>4</td></tr><tr><td>836</td><td>97</td><td>2</td><td>7</td></tr><tr><td>1395</td><td>97</td><td>1</td><td>2</td></tr><tr><td>1417</td><td>97</td><td>7</td><td>1</td></tr><tr><td>1528</td><td>97</td><td>2</td><td>7</td></tr><tr><td>631</td><td>98</td><td>6</td><td>0</td></tr><tr><td>884</td><td>98</td><td>5</td><td>6</td></tr><tr><td>1050</td><td>98</td><td>6</td><td>5</td></tr><tr><td>1402</td><td>98</td><td>2</td><td>6</td></tr><tr><td>632</td><td>99</td><td>1</td><td>0</td></tr><tr><td>691</td><td>99</td><td>5</td><td>1</td></tr><tr><td>1072</td><td>99</td><td>1</td><td>5</td></tr><tr><td>1408</td><td>99</td><td>1</td><td>1</td></tr><tr><td>1486</td><td>99</td><td>5</td><td>1</td></tr><tr><td>597</td><td>100</td><td>1</td><td>0</td></tr><tr><td>637</td><td>100</td><td>5</td><td>1</td></tr><tr><td>1315</td><td>100</td><td>5</td><td>5</td></tr><tr><td>1482</td><td>100</td><td>7</td><td>5</td></tr><tr><td>715</td><td>101</td><td>3</td><td>0</td></tr><tr><td>1332</td><td>101</td><td>6</td><td>3</td></tr><tr><td>1516</td><td>101</td><td>4</td><td>6</td></tr><tr><td>689</td><td>102</td><td>5</td><td>0</td></tr><tr><td>1343</td><td>102</td><td>2</td><td>5</td></tr><tr><td>972</td><td>103</td><td>2</td><td>0</td></tr><tr><td>992</td><td>103</td><td>7</td><td>2</td></tr><tr><td>1398</td><td>103</td><td>1</td><td>7</td></tr><tr><td>1485</td><td>103</td><td>4</td><td>1</td></tr><tr><td>837</td><td>104</td><td>4</td><td>0</td></tr><tr><td>1180</td><td>104</td><td>1</td><td>4</td></tr><tr><td>1522</td><td>104</td><td>2</td><td>1</td></tr><tr><td>1532</td><td>104</td><td>3</td><td>2</td></tr><tr><td>618</td><td>105</td><td>1</td><td>0</td></tr><tr><td>1525</td><td>105</td><td>5</td><td>1</td></tr><tr><td>610</td><td>106</td><td>3</td><td>0</td></tr><tr><td>708</td><td>106</td><td>7</td><td>3</td></tr><tr><td>1228</td><td>106</td><td>7</td><td>7</td></tr><tr><td>1271</td><td>106</td><td>5</td><td>7</td></tr><tr><td>1372</td><td>106</td><td>7</td><td>5</td></tr><tr><td>1510</td><td>106</td><td>6</td><td>7</td></tr><tr><td>586</td><td>107</td><td>6</td><td>0</td></tr><tr><td>1250</td><td>107</td><td>4</td><td>6</td></tr><tr><td>1354</td><td>107</td><td>1</td><td>4</td></tr><tr><td>1452</td><td>107</td><td>6</td><td>1</td></tr><tr><td>1494</td><td>107</td><td>2</td><td>6</td></tr><tr><td>1102</td><td>108</td><td>1</td><td>0</td></tr><tr><td>1392</td><td>108</td><td>6</td><td>1</td></tr><tr><td>614</td><td>109</td><td>4</td><td>0</td></tr><tr><td>621</td><td>109</td><td>7</td><td>4</td></tr><tr><td>654</td><td>109</td><td>5</td><td>7</td></tr><tr><td>810</td><td>109</td><td>2</td><td>5</td></tr><tr><td>1083</td><td>109</td><td>1</td><td>2</td></tr><tr><td>1298</td><td>109</td><td>4</td><td>1</td></tr><tr><td>1560</td><td>109</td><td>1</td><td>4</td></tr><tr><td>931</td><td>110</td><td>5</td><td>0</td></tr><tr><td>964</td><td>110</td><td>6</td><td>5</td></tr><tr><td>685</td><td>110</td><td>1</td><td>6</td></tr><tr><td>1041</td><td>110</td><td>3</td><td>1</td></tr><tr><td>1109</td><td>110</td><td>5</td><td>3</td></tr><tr><td>1162</td><td>110</td><td>2</td><td>5</td></tr><tr><td>1424</td><td>110</td><td>1</td><td>2</td></tr><tr><td>1489</td><td>110</td><td>6</td><td>1</td></tr><tr><td>605</td><td>111</td><td>7</td><td>0</td></tr><tr><td>959</td><td>111</td><td>7</td><td>7</td></tr><tr><td>786</td><td>111</td><td>4</td><td>7</td></tr><tr><td>1296</td><td>111</td><td>3</td><td>4</td></tr><tr><td>1353</td><td>111</td><td>5</td><td>3</td></tr><tr><td>921</td><td>112</td><td>1</td><td>0</td></tr><tr><td>776</td><td>112</td><td>4</td><td>1</td></tr><tr><td>801</td><td>112</td><td>5</td><td>4</td></tr><tr><td>1124</td><td>112</td><td>6</td><td>5</td></tr><tr><td>1530</td><td>112</td><td>6</td><td>6</td></tr><tr><td>1029</td><td>113</td><td>5</td><td>0</td></tr><tr><td>1085</td><td>113</td><td>4</td><td>5</td></tr><tr><td>1263</td><td>113</td><td>1</td><td>4</td></tr><tr><td>1495</td><td>113</td><td>7</td><td>1</td></tr><tr><td>1499</td><td>113</td><td>2</td><td>7</td></tr><tr><td>966</td><td>114</td><td>6</td><td>0</td></tr><tr><td>737</td><td>114</td><td>2</td><td>6</td></tr><tr><td>827</td><td>114</td><td>7</td><td>2</td></tr><tr><td>1540</td><td>114</td><td>3</td><td>7</td></tr><tr><td>596</td><td>115</td><td>7</td><td>0</td></tr><tr><td>943</td><td>115</td><td>7</td><td>7</td></tr><tr><td>1121</td><td>115</td><td>7</td><td>7</td></tr><tr><td>1154</td><td>115</td><td>4</td><td>7</td></tr><tr><td>1352</td><td>115</td><td>3</td><td>4</td></tr><tr><td>1554</td><td>115</td><td>3</td><td>3</td></tr><tr><td>1566</td><td>115</td><td>1</td><td>3</td></tr><tr><td>1455</td><td>116</td><td>2</td><td>0</td></tr><tr><td>1501</td><td>116</td><td>4</td><td>2</td></tr><tr><td>612</td><td>117</td><td>2</td><td>0</td></tr><tr><td>617</td><td>117</td><td>3</td><td>2</td></tr><tr><td>953</td><td>117</td><td>5</td><td>3</td></tr><tr><td>962</td><td>117</td><td>4</td><td>5</td></tr><tr><td>1002</td><td>117</td><td>1</td><td>4</td></tr><tr><td>1192</td><td>117</td><td>2</td><td>1</td></tr><tr><td>1247</td><td>117</td><td>3</td><td>2</td></tr><tr><td>1468</td><td>117</td><td>7</td><td>3</td></tr><tr><td>864</td><td>118</td><td>6</td><td>0</td></tr><tr><td>994</td><td>118</td><td>7</td><td>6</td></tr><tr><td>996</td><td>118</td><td>3</td><td>7</td></tr><tr><td>716</td><td>118</td><td>1</td><td>3</td></tr><tr><td>1374</td><td>118</td><td>5</td><td>1</td></tr><tr><td>1472</td><td>118</td><td>6</td><td>5</td></tr><tr><td>1481</td><td>118</td><td>3</td><td>6</td></tr><tr><td>1026</td><td>119</td><td>3</td><td>0</td></tr><tr><td>706</td><td>119</td><td>2</td><td>3</td></tr><tr><td>722</td><td>119</td><td>1</td><td>2</td></tr><tr><td>1413</td><td>119</td><td>3</td><td>1</td></tr><tr><td>1488</td><td>119</td><td>3</td><td>3</td></tr><tr><td>998</td><td>120</td><td>3</td><td>0</td></tr><tr><td>762</td><td>120</td><td>3</td><td>3</td></tr><tr><td>1089</td><td>120</td><td>6</td><td>3</td></tr><tr><td>1339</td><td>120</td><td>6</td><td>6</td></tr><tr><td>1483</td><td>120</td><td>1</td><td>6</td></tr><tr><td>1493</td><td>120</td><td>7</td><td>1</td></tr><tr><td>858</td><td>121</td><td>5</td><td>0</td></tr><tr><td>735</td><td>121</td><td>6</td><td>5</td></tr><tr><td>739</td><td>121</td><td>6</td><td>6</td></tr><tr><td>1049</td><td>121</td><td>3</td><td>6</td></tr><tr><td>1128</td><td>121</td><td>4</td><td>3</td></tr><tr><td>1215</td><td>121</td><td>4</td><td>4</td></tr><tr><td>1373</td><td>121</td><td>5</td><td>4</td></tr><tr><td>1393</td><td>121</td><td>6</td><td>5</td></tr><tr><td>1007</td><td>122</td><td>2</td><td>0</td></tr><tr><td>1036</td><td>122</td><td>2</td><td>2</td></tr><tr><td>1062</td><td>122</td><td>3</td><td>2</td></tr><tr><td>1166</td><td>122</td><td>4</td><td>3</td></tr><tr><td>1209</td><td>122</td><td>1</td><td>4</td></tr><tr><td>1245</td><td>122</td><td>2</td><td>1</td></tr><tr><td>1337</td><td>122</td><td>2</td><td>2</td></tr><tr><td>1385</td><td>122</td><td>5</td><td>2</td></tr><tr><td>1440</td><td>122</td><td>3</td><td>5</td></tr><tr><td>587</td><td>123</td><td>7</td><td>0</td></tr><tr><td>923</td><td>123</td><td>4</td><td>7</td></tr><tr><td>967</td><td>123</td><td>5</td><td>4</td></tr><tr><td>1223</td><td>123</td><td>1</td><td>5</td></tr><tr><td>1282</td><td>123</td><td>6</td><td>1</td></tr><tr><td>861</td><td>124</td><td>1</td><td>0</td></tr><tr><td>1210</td><td>124</td><td>4</td><td>1</td></tr><tr><td>1330</td><td>124</td><td>7</td><td>4</td></tr><tr><td>1403</td><td>124</td><td>6</td><td>7</td></tr><tr><td>1419</td><td>124</td><td>3</td><td>6</td></tr><tr><td>1531</td><td>124</td><td>6</td><td>3</td></tr><tr><td>576</td><td>125</td><td>1</td><td>0</td></tr><tr><td>754</td><td>126</td><td>4</td><td>0</td></tr><tr><td>806</td><td>126</td><td>6</td><td>4</td></tr><tr><td>1134</td><td>126</td><td>1</td><td>6</td></tr><tr><td>1364</td><td>126</td><td>6</td><td>1</td></tr><tr><td>1428</td><td>126</td><td>7</td><td>6</td></tr><tr><td>1500</td><td>126</td><td>4</td><td>7</td></tr><tr><td>643</td><td>127</td><td>2</td><td>0</td></tr><tr><td>853</td><td>127</td><td>5</td><td>2</td></tr><tr><td>879</td><td>127</td><td>2</td><td>5</td></tr><tr><td>1034</td><td>127</td><td>6</td><td>2</td></tr><tr><td>1226</td><td>127</td><td>5</td><td>6</td></tr><tr><td>1286</td><td>127</td><td>1</td><td>5</td></tr><tr><td>1579</td><td>127</td><td>5</td><td>1</td></tr><tr><td>717</td><td>128</td><td>2</td><td>0</td></tr><tr><td>815</td><td>128</td><td>1</td><td>2</td></tr><tr><td>1290</td><td>128</td><td>1</td><td>1</td></tr><tr><td>1574</td><td>128</td><td>1</td><td>1</td></tr><tr><td>1583</td><td>128</td><td>4</td><td>1</td></tr><tr><td>723</td><td>129</td><td>7</td><td>0</td></tr><tr><td>1360</td><td>129</td><td>6</td><td>7</td></tr><tr><td>1445</td><td>129</td><td>7</td><td>6</td></tr><tr><td>1509</td><td>129</td><td>6</td><td>7</td></tr><tr><td>580</td><td>130</td><td>3</td><td>0</td></tr><tr><td>613</td><td>130</td><td>3</td><td>3</td></tr><tr><td>910</td><td>130</td><td>2</td><td>3</td></tr><tr><td>779</td><td>130</td><td>6</td><td>2</td></tr><tr><td>1040</td><td>130</td><td>1</td><td>6</td></tr><tr><td>1475</td><td>130</td><td>7</td><td>1</td></tr><tr><td>559</td><td>131</td><td>2</td><td>0</td></tr><tr><td>655</td><td>131</td><td>1</td><td>2</td></tr><tr><td>881</td><td>131</td><td>6</td><td>1</td></tr><tr><td>760</td><td>131</td><td>4</td><td>6</td></tr><tr><td>1474</td><td>131</td><td>5</td><td>4</td></tr><tr><td>619</td><td>132</td><td>7</td><td>0</td></tr><tr><td>999</td><td>132</td><td>6</td><td>7</td></tr><tr><td>1090</td><td>132</td><td>7</td><td>6</td></tr><tr><td>1111</td><td>132</td><td>3</td><td>7</td></tr><tr><td>1301</td><td>132</td><td>2</td><td>3</td></tr><tr><td>1519</td><td>132</td><td>2</td><td>2</td></tr><tr><td>909</td><td>133</td><td>4</td><td>0</td></tr><tr><td>988</td><td>133</td><td>3</td><td>4</td></tr><tr><td>1149</td><td>133</td><td>7</td><td>3</td></tr><tr><td>1306</td><td>133</td><td>3</td><td>7</td></tr><tr><td>1363</td><td>133</td><td>5</td><td>3</td></tr><tr><td>1409</td><td>133</td><td>1</td><td>5</td></tr><tr><td>1004</td><td>134</td><td>5</td><td>0</td></tr><tr><td>1024</td><td>134</td><td>1</td><td>5</td></tr><tr><td>1045</td><td>134</td><td>2</td><td>1</td></tr><tr><td>1178</td><td>134</td><td>7</td><td>2</td></tr><tr><td>1219</td><td>134</td><td>6</td><td>7</td></tr><tr><td>1535</td><td>134</td><td>7</td><td>6</td></tr><tr><td>724</td><td>135</td><td>6</td><td>0</td></tr><tr><td>849</td><td>135</td><td>7</td><td>6</td></tr><tr><td>1289</td><td>135</td><td>3</td><td>7</td></tr><tr><td>584</td><td>136</td><td>2</td><td>0</td></tr><tr><td>661</td><td>136</td><td>5</td><td>2</td></tr><tr><td>1046</td><td>136</td><td>4</td><td>5</td></tr><tr><td>582</td><td>137</td><td>3</td><td>0</td></tr><tr><td>649</td><td>137</td><td>5</td><td>3</td></tr><tr><td>657</td><td>137</td><td>6</td><td>5</td></tr><tr><td>1014</td><td>137</td><td>1</td><td>6</td></tr><tr><td>1201</td><td>137</td><td>6</td><td>1</td></tr><tr><td>1280</td><td>137</td><td>3</td><td>6</td></tr><tr><td>768</td><td>138</td><td>6</td><td>0</td></tr><tr><td>796</td><td>138</td><td>4</td><td>6</td></tr><tr><td>1256</td><td>138</td><td>4</td><td>4</td></tr><tr><td>1283</td><td>138</td><td>2</td><td>4</td></tr><tr><td>1294</td><td>138</td><td>5</td><td>2</td></tr><tr><td>1358</td><td>138</td><td>7</td><td>5</td></tr><tr><td>1370</td><td>138</td><td>5</td><td>7</td></tr><tr><td>579</td><td>139</td><td>2</td><td>0</td></tr><tr><td>745</td><td>139</td><td>1</td><td>2</td></tr><tr><td>751</td><td>139</td><td>4</td><td>1</td></tr><tr><td>1042</td><td>139</td><td>2</td><td>4</td></tr><tr><td>1064</td><td>139</td><td>6</td><td>2</td></tr><tr><td>1433</td><td>139</td><td>6</td><td>6</td></tr><tr><td>1450</td><td>139</td><td>7</td><td>6</td></tr><tr><td>915</td><td>140</td><td>2</td><td>0</td></tr><tr><td>733</td><td>140</td><td>1</td><td>2</td></tr><tr><td>1098</td><td>140</td><td>2</td><td>1</td></tr><tr><td>1156</td><td>140</td><td>3</td><td>2</td></tr><tr><td>1259</td><td>140</td><td>7</td><td>3</td></tr><tr><td>1357</td><td>140</td><td>4</td><td>7</td></tr><tr><td>1361</td><td>140</td><td>3</td><td>4</td></tr><tr><td>1371</td><td>140</td><td>1</td><td>3</td></tr><tr><td>565</td><td>141</td><td>6</td><td>0</td></tr><tr><td>908</td><td>141</td><td>2</td><td>6</td></tr><tr><td>761</td><td>141</td><td>3</td><td>2</td></tr><tr><td>784</td><td>141</td><td>7</td><td>3</td></tr><tr><td>1254</td><td>141</td><td>4</td><td>7</td></tr><tr><td>1401</td><td>141</td><td>6</td><td>4</td></tr><tr><td>1369</td><td>142</td><td>6</td><td>0</td></tr><tr><td>1545</td><td>142</td><td>3</td><td>6</td></tr><tr><td>980</td><td>143</td><td>3</td><td>0</td></tr><tr><td>1155</td><td>143</td><td>7</td><td>3</td></tr><tr><td>1193</td><td>143</td><td>6</td><td>7</td></tr><tr><td>1222</td><td>143</td><td>2</td><td>6</td></tr><tr><td>1313</td><td>143</td><td>4</td><td>2</td></tr><tr><td>1394</td><td>143</td><td>3</td><td>4</td></tr><tr><td>1448</td><td>143</td><td>6</td><td>3</td></tr><tr><td>581</td><td>144</td><td>4</td><td>0</td></tr><tr><td>1087</td><td>144</td><td>2</td><td>4</td></tr><tr><td>1199</td><td>144</td><td>7</td><td>2</td></tr><tr><td>1297</td><td>144</td><td>1</td><td>7</td></tr><tr><td>1572</td><td>144</td><td>2</td><td>1</td></tr><tr><td>703</td><td>145</td><td>4</td><td>0</td></tr><tr><td>1077</td><td>145</td><td>1</td><td>4</td></tr><tr><td>1120</td><td>145</td><td>1</td><td>1</td></tr><tr><td>1145</td><td>145</td><td>4</td><td>1</td></tr><tr><td>1338</td><td>145</td><td>2</td><td>4</td></tr><tr><td>1471</td><td>145</td><td>1</td><td>2</td></tr><tr><td>890</td><td>146</td><td>3</td><td>0</td></tr><tr><td>664</td><td>146</td><td>3</td><td>3</td></tr><tr><td>789</td><td>146</td><td>7</td><td>3</td></tr><tr><td>804</td><td>146</td><td>7</td><td>7</td></tr><tr><td>1032</td><td>146</td><td>5</td><td>7</td></tr><tr><td>1479</td><td>146</td><td>6</td><td>5</td></tr><tr><td>771</td><td>147</td><td>4</td><td>0</td></tr><tr><td>678</td><td>148</td><td>4</td><td>0</td></tr><tr><td>765</td><td>148</td><td>3</td><td>4</td></tr><tr><td>783</td><td>148</td><td>7</td><td>3</td></tr><tr><td>808</td><td>148</td><td>2</td><td>7</td></tr><tr><td>812</td><td>148</td><td>6</td><td>2</td></tr><tr><td>1578</td><td>148</td><td>7</td><td>6</td></tr><tr><td>591</td><td>149</td><td>1</td><td>0</td></tr><tr><td>652</td><td>149</td><td>1</td><td>1</td></tr><tr><td>833</td><td>149</td><td>2</td><td>1</td></tr><tr><td>834</td><td>149</td><td>5</td><td>2</td></tr><tr><td>843</td><td>149</td><td>4</td><td>5</td></tr><tr><td>1146</td><td>149</td><td>6</td><td>4</td></tr><tr><td>1514</td><td>149</td><td>5</td><td>6</td></tr><tr><td>641</td><td>150</td><td>3</td><td>0</td></tr><tr><td>1100</td><td>150</td><td>5</td><td>3</td></tr><tr><td>1105</td><td>150</td><td>1</td><td>5</td></tr><tr><td>1177</td><td>150</td><td>1</td><td>1</td></tr><tr><td>1203</td><td>150</td><td>4</td><td>1</td></tr><tr><td>1432</td><td>150</td><td>3</td><td>4</td></tr><tr><td>893</td><td>151</td><td>3</td><td>0</td></tr><tr><td>1058</td><td>151</td><td>3</td><td>3</td></tr><tr><td>1115</td><td>151</td><td>3</td><td>3</td></tr><tr><td>730</td><td>152</td><td>2</td><td>0</td></tr><tr><td>1160</td><td>152</td><td>7</td><td>2</td></tr><tr><td>1197</td><td>152</td><td>6</td><td>7</td></tr><tr><td>1558</td><td>152</td><td>2</td><td>6</td></tr><tr><td>594</td><td>153</td><td>3</td><td>0</td></tr><tr><td>969</td><td>153</td><td>6</td><td>3</td></tr><tr><td>1460</td><td>153</td><td>3</td><td>6</td></tr><tr><td>1470</td><td>153</td><td>5</td><td>3</td></tr><tr><td>1507</td><td>153</td><td>3</td><td>5</td></tr><tr><td>968</td><td>154</td><td>1</td><td>0</td></tr><tr><td>1061</td><td>154</td><td>7</td><td>1</td></tr><tr><td>1168</td><td>154</td><td>6</td><td>7</td></tr><tr><td>1262</td><td>154</td><td>1</td><td>6</td></tr><tr><td>1539</td><td>154</td><td>2</td><td>1</td></tr><tr><td>575</td><td>155</td><td>1</td><td>0</td></tr><tr><td>577</td><td>155</td><td>3</td><td>1</td></tr><tr><td>1112</td><td>155</td><td>4</td><td>3</td></tr><tr><td>1310</td><td>155</td><td>1</td><td>4</td></tr><tr><td>1541</td><td>155</td><td>1</td><td>1</td></tr><tr><td>588</td><td>156</td><td>7</td><td>0</td></tr><tr><td>907</td><td>156</td><td>3</td><td>7</td></tr><tr><td>956</td><td>156</td><td>6</td><td>3</td></tr><tr><td>692</td><td>156</td><td>6</td><td>6</td></tr><tr><td>1462</td><td>156</td><td>7</td><td>6</td></tr><tr><td>1490</td><td>156</td><td>1</td><td>7</td></tr><tr><td>1561</td><td>156</td><td>4</td><td>1</td></tr><tr><td>648</td><td>157</td><td>4</td><td>0</td></tr><tr><td>1025</td><td>157</td><td>3</td><td>4</td></tr><tr><td>1047</td><td>157</td><td>4</td><td>3</td></tr><tr><td>1240</td><td>157</td><td>7</td><td>4</td></tr><tr><td>1551</td><td>157</td><td>3</td><td>7</td></tr><tr><td>825</td><td>158</td><td>4</td><td>0</td></tr><tr><td>840</td><td>158</td><td>4</td><td>4</td></tr><tr><td>1117</td><td>158</td><td>3</td><td>4</td></tr><tr><td>922</td><td>160</td><td>2</td><td>0</td></tr><tr><td>927</td><td>160</td><td>4</td><td>2</td></tr><tr><td>933</td><td>160</td><td>4</td><td>4</td></tr><tr><td>720</td><td>160</td><td>2</td><td>4</td></tr><tr><td>1565</td><td>160</td><td>3</td><td>2</td></tr><tr><td>639</td><td>161</td><td>4</td><td>0</td></tr><tr><td>653</td><td>161</td><td>7</td><td>4</td></tr><tr><td>911</td><td>161</td><td>4</td><td>7</td></tr><tr><td>1068</td><td>161</td><td>6</td><td>4</td></tr><tr><td>1190</td><td>161</td><td>7</td><td>6</td></tr><tr><td>1571</td><td>161</td><td>4</td><td>7</td></tr><tr><td>599</td><td>162</td><td>4</td><td>0</td></tr><tr><td>1205</td><td>162</td><td>6</td><td>4</td></tr><tr><td>1400</td><td>162</td><td>1</td><td>6</td></tr><tr><td>630</td><td>163</td><td>2</td><td>0</td></tr><tr><td>941</td><td>163</td><td>1</td><td>2</td></tr><tr><td>782</td><td>163</td><td>3</td><td>1</td></tr><tr><td>1075</td><td>163</td><td>4</td><td>3</td></tr><tr><td>1107</td><td>163</td><td>3</td><td>4</td></tr><tr><td>1265</td><td>163</td><td>5</td><td>3</td></tr><tr><td>1487</td><td>163</td><td>3</td><td>5</td></tr><tr><td>570</td><td>164</td><td>7</td><td>0</td></tr><tr><td>1010</td><td>164</td><td>2</td><td>7</td></tr><tr><td>742</td><td>164</td><td>6</td><td>2</td></tr><tr><td>1284</td><td>164</td><td>4</td><td>6</td></tr><tr><td>1292</td><td>164</td><td>2</td><td>4</td></tr><tr><td>640</td><td>165</td><td>3</td><td>0</td></tr><tr><td>857</td><td>165</td><td>5</td><td>3</td></tr><tr><td>900</td><td>165</td><td>6</td><td>5</td></tr><tr><td>897</td><td>165</td><td>6</td><td>6</td></tr><tr><td>892</td><td>165</td><td>3</td><td>6</td></tr><tr><td>1141</td><td>165</td><td>1</td><td>3</td></tr><tr><td>1375</td><td>165</td><td>4</td><td>1</td></tr><tr><td>644</td><td>166</td><td>7</td><td>0</td></tr><tr><td>781</td><td>166</td><td>7</td><td>7</td></tr><tr><td>1526</td><td>166</td><td>2</td><td>7</td></tr><tr><td>854</td><td>167</td><td>7</td><td>0</td></tr><tr><td>1414</td><td>167</td><td>3</td><td>7</td></tr><tr><td>930</td><td>168</td><td>3</td><td>0</td></tr><tr><td>792</td><td>168</td><td>3</td><td>3</td></tr><tr><td>794</td><td>168</td><td>4</td><td>3</td></tr><tr><td>1249</td><td>168</td><td>4</td><td>4</td></tr><tr><td>1266</td><td>168</td><td>4</td><td>4</td></tr><tr><td>573</td><td>169</td><td>5</td><td>0</td></tr><tr><td>659</td><td>169</td><td>6</td><td>5</td></tr><tr><td>974</td><td>169</td><td>1</td><td>6</td></tr><tr><td>746</td><td>169</td><td>7</td><td>1</td></tr><tr><td>1356</td><td>169</td><td>4</td><td>7</td></tr><tr><td>1427</td><td>169</td><td>1</td><td>4</td></tr><tr><td>567</td><td>170</td><td>7</td><td>0</td></tr><tr><td>944</td><td>170</td><td>4</td><td>7</td></tr><tr><td>1194</td><td>170</td><td>4</td><td>4</td></tr><tr><td>1267</td><td>170</td><td>7</td><td>4</td></tr><tr><td>1342</td><td>170</td><td>6</td><td>7</td></tr><tr><td>574</td><td>171</td><td>2</td><td>0</td></tr><tr><td>981</td><td>171</td><td>4</td><td>2</td></tr><tr><td>1181</td><td>171</td><td>6</td><td>4</td></tr><tr><td>1329</td><td>171</td><td>5</td><td>6</td></tr><tr><td>1567</td><td>171</td><td>6</td><td>5</td></tr><tr><td>984</td><td>172</td><td>4</td><td>0</td></tr><tr><td>709</td><td>172</td><td>5</td><td>4</td></tr><tr><td>749</td><td>172</td><td>6</td><td>5</td></tr><tr><td>839</td><td>172</td><td>5</td><td>6</td></tr><tr><td>1142</td><td>172</td><td>4</td><td>5</td></tr><tr><td>1171</td><td>172</td><td>5</td><td>4</td></tr><tr><td>1336</td><td>172</td><td>5</td><td>5</td></tr><tr><td>1421</td><td>172</td><td>5</td><td>5</td></tr><tr><td>1491</td><td>172</td><td>2</td><td>5</td></tr><tr><td>913</td><td>173</td><td>1</td><td>0</td></tr><tr><td>669</td><td>173</td><td>7</td><td>1</td></tr><tr><td>1350</td><td>173</td><td>3</td><td>7</td></tr><tr><td>1429</td><td>173</td><td>4</td><td>3</td></tr><tr><td>917</td><td>174</td><td>2</td><td>0</td></tr><tr><td>1015</td><td>174</td><td>5</td><td>2</td></tr><tr><td>682</td><td>174</td><td>3</td><td>5</td></tr><tr><td>1276</td><td>174</td><td>1</td><td>3</td></tr><tr><td>867</td><td>175</td><td>6</td><td>0</td></tr><tr><td>799</td><td>175</td><td>4</td><td>6</td></tr><tr><td>1094</td><td>175</td><td>5</td><td>4</td></tr><tr><td>1133</td><td>175</td><td>2</td><td>5</td></tr><tr><td>1407</td><td>175</td><td>7</td><td>2</td></tr><tr><td>592</td><td>176</td><td>5</td><td>0</td></tr><tr><td>1143</td><td>176</td><td>6</td><td>5</td></tr><tr><td>1278</td><td>176</td><td>6</td><td>6</td></tr><tr><td>1383</td><td>176</td><td>4</td><td>6</td></tr><tr><td>1511</td><td>176</td><td>2</td><td>4</td></tr><tr><td>1570</td><td>176</td><td>3</td><td>2</td></tr><tr><td>785</td><td>177</td><td>3</td><td>0</td></tr><tr><td>831</td><td>177</td><td>7</td><td>3</td></tr><tr><td>1176</td><td>177</td><td>3</td><td>7</td></tr><tr><td>1503</td><td>177</td><td>3</td><td>3</td></tr><tr><td>991</td><td>178</td><td>7</td><td>0</td></tr><tr><td>816</td><td>178</td><td>4</td><td>7</td></tr><tr><td>1211</td><td>178</td><td>3</td><td>4</td></tr><tr><td>1242</td><td>178</td><td>1</td><td>3</td></tr><tr><td>662</td><td>179</td><td>2</td><td>0</td></tr><tr><td>1021</td><td>179</td><td>1</td><td>2</td></tr><tr><td>1497</td><td>179</td><td>1</td><td>1</td></tr><tr><td>905</td><td>180</td><td>5</td><td>0</td></tr><tr><td>1559</td><td>180</td><td>3</td><td>5</td></tr><tr><td>1563</td><td>180</td><td>6</td><td>3</td></tr><tr><td>937</td><td>181</td><td>3</td><td>0</td></tr><tr><td>958</td><td>181</td><td>5</td><td>3</td></tr><tr><td>1022</td><td>181</td><td>1</td><td>5</td></tr><tr><td>677</td><td>181</td><td>4</td><td>1</td></tr><tr><td>731</td><td>181</td><td>6</td><td>4</td></tr><tr><td>1346</td><td>181</td><td>6</td><td>6</td></tr><tr><td>571</td><td>182</td><td>2</td><td>0</td></tr><tr><td>928</td><td>182</td><td>2</td><td>2</td></tr><tr><td>1008</td><td>182</td><td>6</td><td>2</td></tr><tr><td>740</td><td>182</td><td>3</td><td>6</td></tr><tr><td>1188</td><td>182</td><td>1</td><td>3</td></tr><tr><td>1230</td><td>182</td><td>7</td><td>1</td></tr><tr><td>1231</td><td>182</td><td>4</td><td>7</td></tr><tr><td>1308</td><td>182</td><td>1</td><td>4</td></tr><tr><td>1317</td><td>182</td><td>3</td><td>1</td></tr><tr><td>1326</td><td>182</td><td>4</td><td>3</td></tr><tr><td>1410</td><td>182</td><td>4</td><td>4</td></tr><tr><td>1422</td><td>182</td><td>3</td><td>4</td></tr><tr><td>939</td><td>183</td><td>4</td><td>0</td></tr><tr><td>1067</td><td>183</td><td>7</td><td>4</td></tr><tr><td>1147</td><td>183</td><td>4</td><td>7</td></tr><tr><td>1437</td><td>183</td><td>4</td><td>4</td></tr><tr><td>608</td><td>184</td><td>2</td><td>0</td></tr><tr><td>880</td><td>184</td><td>4</td><td>2</td></tr><tr><td>684</td><td>184</td><td>3</td><td>4</td></tr><tr><td>1251</td><td>184</td><td>4</td><td>3</td></tr><tr><td>578</td><td>185</td><td>6</td><td>0</td></tr><tr><td>863</td><td>185</td><td>4</td><td>6</td></tr><tr><td>898</td><td>185</td><td>4</td><td>4</td></tr><tr><td>925</td><td>185</td><td>6</td><td>4</td></tr><tr><td>672</td><td>185</td><td>3</td><td>6</td></tr><tr><td>679</td><td>185</td><td>5</td><td>3</td></tr><tr><td>693</td><td>185</td><td>2</td><td>5</td></tr><tr><td>711</td><td>185</td><td>3</td><td>2</td></tr><tr><td>1125</td><td>185</td><td>3</td><td>3</td></tr><tr><td>1183</td><td>185</td><td>5</td><td>3</td></tr><tr><td>1441</td><td>185</td><td>7</td><td>5</td></tr><tr><td>1463</td><td>185</td><td>7</td><td>7</td></tr><tr><td>615</td><td>186</td><td>3</td><td>0</td></tr><tr><td>1153</td><td>186</td><td>3</td><td>3</td></tr><tr><td>1248</td><td>186</td><td>2</td><td>3</td></tr><tr><td>1467</td><td>186</td><td>3</td><td>2</td></tr><tr><td>633</td><td>187</td><td>6</td><td>0</td></tr><tr><td>868</td><td>187</td><td>4</td><td>6</td></tr><tr><td>957</td><td>187</td><td>4</td><td>4</td></tr><tr><td>695</td><td>187</td><td>6</td><td>4</td></tr><tr><td>743</td><td>187</td><td>2</td><td>6</td></tr><tr><td>766</td><td>187</td><td>1</td><td>2</td></tr><tr><td>1404</td><td>187</td><td>2</td><td>1</td></tr><tr><td>912</td><td>188</td><td>1</td><td>0</td></tr><tr><td>690</td><td>188</td><td>4</td><td>1</td></tr><tr><td>710</td><td>188</td><td>7</td><td>4</td></tr><tr><td>747</td><td>188</td><td>3</td><td>7</td></tr><tr><td>1030</td><td>188</td><td>4</td><td>3</td></tr><tr><td>1390</td><td>188</td><td>5</td><td>4</td></tr><tr><td>699</td><td>189</td><td>2</td><td>0</td></tr><tr><td>753</td><td>189</td><td>1</td><td>2</td></tr><tr><td>1204</td><td>189</td><td>2</td><td>1</td></tr><tr><td>1449</td><td>189</td><td>2</td><td>2</td></tr><tr><td>1576</td><td>189</td><td>3</td><td>2</td></tr><tr><td>600</td><td>190</td><td>7</td><td>0</td></tr><tr><td>989</td><td>190</td><td>1</td><td>7</td></tr><tr><td>1017</td><td>190</td><td>1</td><td>1</td></tr><tr><td>774</td><td>190</td><td>5</td><td>1</td></tr><tr><td>1517</td><td>190</td><td>5</td><td>5</td></tr><tr><td>1039</td><td>191</td><td>6</td><td>0</td></tr><tr><td>1302</td><td>191</td><td>1</td><td>6</td></tr><tr><td>1323</td><td>191</td><td>7</td><td>1</td></tr><tr><td>1502</td><td>191</td><td>2</td><td>7</td></tr><tr><td>1508</td><td>191</td><td>7</td><td>2</td></tr><tr><td>903</td><td>192</td><td>7</td><td>0</td></tr><tr><td>680</td><td>192</td><td>4</td><td>7</td></tr><tr><td>634</td><td>193</td><td>6</td><td>0</td></tr><tr><td>926</td><td>193</td><td>1</td><td>6</td></tr><tr><td>977</td><td>193</td><td>2</td><td>1</td></tr><tr><td>675</td><td>193</td><td>2</td><td>2</td></tr><tr><td>835</td><td>193</td><td>2</td><td>2</td></tr><tr><td>1043</td><td>193</td><td>6</td><td>2</td></tr><tr><td>1238</td><td>193</td><td>6</td><td>6</td></tr><tr><td>1095</td><td>194</td><td>5</td><td>0</td></tr><tr><td>721</td><td>195</td><td>4</td><td>0</td></tr><tr><td>842</td><td>195</td><td>4</td><td>4</td></tr><tr><td>1074</td><td>195</td><td>7</td><td>4</td></tr><tr><td>1184</td><td>195</td><td>5</td><td>7</td></tr><tr><td>1473</td><td>195</td><td>7</td><td>5</td></tr><tr><td>1484</td><td>195</td><td>1</td><td>7</td></tr><tr><td>952</td><td>196</td><td>3</td><td>0</td></tr><tr><td>673</td><td>196</td><td>5</td><td>3</td></tr><tr><td>1314</td><td>196</td><td>5</td><td>5</td></tr><tr><td>1340</td><td>196</td><td>5</td><td>5</td></tr><tr><td>993</td><td>197</td><td>7</td><td>0</td></tr><tr><td>764</td><td>197</td><td>7</td><td>7</td></tr><tr><td>1091</td><td>197</td><td>7</td><td>7</td></tr><tr><td>1172</td><td>197</td><td>7</td><td>7</td></tr><tr><td>1304</td><td>197</td><td>7</td><td>7</td></tr><tr><td>1387</td><td>197</td><td>3</td><td>7</td></tr><tr><td>978</td><td>198</td><td>1</td><td>0</td></tr><tr><td>1011</td><td>198</td><td>7</td><td>1</td></tr><tr><td>1065</td><td>198</td><td>3</td><td>7</td></tr><tr><td>1116</td><td>198</td><td>1</td><td>3</td></tr><tr><td>1138</td><td>198</td><td>5</td><td>1</td></tr><tr><td>1161</td><td>198</td><td>5</td><td>5</td></tr><tr><td>1216</td><td>198</td><td>7</td><td>5</td></tr><tr><td>1420</td><td>198</td><td>5</td><td>7</td></tr></table>"
                    },
                    "metadata": {}
                }
            ],
            "execution_count": 2
        },
        {
            "cell_type": "code",
            "source": [
                "SELECT sh.SZALLAS_NEV,\r\n",
                "        COUNT(*) as 'Foglalás szám'\r\n",
                "from Foglalas f join Szoba s on f.SZOBA_FK = s.SZOBA_ID\r\n",
                "                join szallashely sh on s.SZALLAS_FK = sh.SZALLAS_ID\r\n",
                "GROUP BY sh.SZALLAS_NEV\r\n",
                "HAVING COUNT(*) >\r\n",
                "(\r\n",
                "    select COUNT(*)\r\n",
                "    from Foglalas f2 join Szoba s2 on f2.SZOBA_FK = s2.SZOBA_ID\r\n",
                "                join szallashely sh2 on s2.SZALLAS_FK = sh2.SZALLAS_ID\r\n",
                "    WHERE sh2.SZALLAS_NEV = 'Fortuna panzió'\r\n",
                ")\r\n",
                "ORDER by count(*) desc\r\n",
                ""
            ],
            "metadata": {
                "azdata_cell_guid": "1ff283f0-d685-4703-8f85-87515bed5634",
                "language": "sql"
            },
            "outputs": [
                {
                    "output_type": "display_data",
                    "data": {
                        "text/html": "(3 rows affected)"
                    },
                    "metadata": {}
                },
                {
                    "output_type": "display_data",
                    "data": {
                        "text/html": "Total execution time: 00:00:00.014"
                    },
                    "metadata": {}
                },
                {
                    "output_type": "execute_result",
                    "metadata": {},
                    "execution_count": 1,
                    "data": {
                        "application/vnd.dataresource+json": {
                            "schema": {
                                "fields": [
                                    {
                                        "name": "SZALLAS_NEV"
                                    },
                                    {
                                        "name": "Foglalás szám"
                                    }
                                ]
                            },
                            "data": [
                                {
                                    "SZALLAS_NEV": "Hotel Három Hattyú",
                                    "Foglalás szám": "204"
                                },
                                {
                                    "SZALLAS_NEV": "Kentaur Hotel",
                                    "Foglalás szám": "179"
                                },
                                {
                                    "SZALLAS_NEV": "Gold Hotel",
                                    "Foglalás szám": "179"
                                }
                            ]
                        },
                        "text/html": [
                            "<table>",
                            "<tr><th>SZALLAS_NEV</th><th>Foglalás szám</th></tr>",
                            "<tr><td>Hotel Három Hattyú</td><td>204</td></tr>",
                            "<tr><td>Kentaur Hotel</td><td>179</td></tr>",
                            "<tr><td>Gold Hotel</td><td>179</td></tr>",
                            "</table>"
                        ]
                    }
                }
            ],
            "execution_count": 1
        },
        {
            "cell_type": "code",
            "source": [
                "select *\r\n",
                "from szallashely"
            ],
            "metadata": {
                "azdata_cell_guid": "54359100-85f4-4b78-9082-0d9c8134efc8",
                "language": "sql"
            },
            "outputs": [
                {
                    "output_type": "display_data",
                    "data": {
                        "text/html": "(21 rows affected)"
                    },
                    "metadata": {}
                },
                {
                    "output_type": "display_data",
                    "data": {
                        "text/html": "Total execution time: 00:00:00.005"
                    },
                    "metadata": {}
                },
                {
                    "output_type": "execute_result",
                    "execution_count": 5,
                    "data": {
                        "application/vnd.dataresource+json": {
                            "schema": {
                                "fields": [
                                    {
                                        "name": "SZALLAS_ID"
                                    },
                                    {
                                        "name": "SZALLAS_NEV"
                                    },
                                    {
                                        "name": "HELY"
                                    },
                                    {
                                        "name": "CSILLAGOK_SZAMA"
                                    },
                                    {
                                        "name": "TIPUS"
                                    },
                                    {
                                        "name": "ROGZITETTE"
                                    },
                                    {
                                        "name": "ROGZ_IDO"
                                    },
                                    {
                                        "name": "CIM"
                                    }
                                ]
                            },
                            "data": [
                                {
                                    "SZALLAS_ID": "1",
                                    "SZALLAS_NEV": "Sába-Ház",
                                    "HELY": "Balaton-dél",
                                    "CSILLAGOK_SZAMA": "0",
                                    "TIPUS": "vendégház",
                                    "ROGZITETTE": "Béla",
                                    "ROGZ_IDO": "2016-02-28",
                                    "CIM": "8630 Balatonboglár, Radnóti Miklós utca 8"
                                },
                                {
                                    "SZALLAS_ID": "2",
                                    "SZALLAS_NEV": "Családi Ház",
                                    "HELY": "Balaton-dél",
                                    "CSILLAGOK_SZAMA": "0",
                                    "TIPUS": "vendégház",
                                    "ROGZITETTE": "Béla",
                                    "ROGZ_IDO": "2016-03-02",
                                    "CIM": "8630 Balatonboglár, József Attila utca 25"
                                },
                                {
                                    "SZALLAS_ID": "3",
                                    "SZALLAS_NEV": "Fortuna Apartman",
                                    "HELY": "Hajdúbihar megye",
                                    "CSILLAGOK_SZAMA": "0",
                                    "TIPUS": "Apartman",
                                    "ROGZITETTE": "Sára",
                                    "ROGZ_IDO": "2016-03-06",
                                    "CIM": "4200 Hajdúszoboszló, Wesselényi utca 56."
                                },
                                {
                                    "SZALLAS_ID": "4",
                                    "SZALLAS_NEV": "Fortuna panzió",
                                    "HELY": "Budapest",
                                    "CSILLAGOK_SZAMA": "3",
                                    "TIPUS": "panzió",
                                    "ROGZITETTE": "Béla",
                                    "ROGZ_IDO": "2016-03-07",
                                    "CIM": "1019 Budapest XIV. Cinkotai út 86."
                                },
                                {
                                    "SZALLAS_ID": "5",
                                    "SZALLAS_NEV": "Fortuna Panzió",
                                    "HELY": "Békés megye",
                                    "CSILLAGOK_SZAMA": "3",
                                    "TIPUS": "panzió",
                                    "ROGZITETTE": "Sára",
                                    "ROGZ_IDO": "2016-03-08",
                                    "CIM": "5900 Orosháza, Gyopárosfürdő Tópart utca 3."
                                },
                                {
                                    "SZALLAS_ID": "6",
                                    "SZALLAS_NEV": "Kentaur Hotel",
                                    "HELY": "Balaton-dél",
                                    "CSILLAGOK_SZAMA": "3",
                                    "TIPUS": "Hotel",
                                    "ROGZITETTE": "Béla",
                                    "ROGZ_IDO": "2016-03-08",
                                    "CIM": "8600 Siófok (Széplak), Akácfa utca 1"
                                },
                                {
                                    "SZALLAS_ID": "7",
                                    "SZALLAS_NEV": "Szieszta Apartmanház",
                                    "HELY": "Balaton-dél",
                                    "CSILLAGOK_SZAMA": "0",
                                    "TIPUS": "Apartman",
                                    "ROGZITETTE": "Mari",
                                    "ROGZ_IDO": "2016-03-11",
                                    "CIM": "8630 Balatonboglár, Dózsa György utca 108"
                                },
                                {
                                    "SZALLAS_ID": "8",
                                    "SZALLAS_NEV": "Hotel Három Hattyú",
                                    "HELY": "Balaton-dél",
                                    "CSILLAGOK_SZAMA": "4",
                                    "TIPUS": "Hotel",
                                    "ROGZITETTE": "Béla",
                                    "ROGZ_IDO": "2016-03-13",
                                    "CIM": "8623 Balatonföldvár, Rákóczi Ferenc út 45."
                                },
                                {
                                    "SZALLAS_ID": "9",
                                    "SZALLAS_NEV": "Jáde panzió",
                                    "HELY": "Balaton-dél",
                                    "CSILLAGOK_SZAMA": "3",
                                    "TIPUS": "panzió",
                                    "ROGZITETTE": "Mari",
                                    "ROGZ_IDO": "2016-03-16",
                                    "CIM": "8624 Balatonföldvár, Kiss u.2."
                                },
                                {
                                    "SZALLAS_ID": "10",
                                    "SZALLAS_NEV": "Lagúna Hotel",
                                    "HELY": "Budapest",
                                    "CSILLAGOK_SZAMA": "4",
                                    "TIPUS": "Hotel",
                                    "ROGZITETTE": "Sára",
                                    "ROGZ_IDO": "2016-03-20",
                                    "CIM": "1097 Budapest, Albert Flórián út 3"
                                },
                                {
                                    "SZALLAS_ID": "11",
                                    "SZALLAS_NEV": "Partiszél Vendégház",
                                    "HELY": "Balaton-észak",
                                    "CSILLAGOK_SZAMA": "0",
                                    "TIPUS": "vendégház",
                                    "ROGZITETTE": "Béla",
                                    "ROGZ_IDO": "2016-03-22",
                                    "CIM": "8220 Balatonalmádi Neptun u. 23."
                                },
                                {
                                    "SZALLAS_ID": "12",
                                    "SZALLAS_NEV": "Gold Hotel",
                                    "HELY": "Budapest",
                                    "CSILLAGOK_SZAMA": "3",
                                    "TIPUS": "Hotel",
                                    "ROGZITETTE": "Béla",
                                    "ROGZ_IDO": "2016-03-24",
                                    "CIM": "1016 Budapest, Hegyalja út 12"
                                },
                                {
                                    "SZALLAS_ID": "13",
                                    "SZALLAS_NEV": "Riviéra Panzió",
                                    "HELY": "Csongrád megye",
                                    "CSILLAGOK_SZAMA": "3",
                                    "TIPUS": "panzió",
                                    "ROGZITETTE": "Sára",
                                    "ROGZ_IDO": "2016-03-27",
                                    "CIM": "6722 Szeged, Petőfi Sándor út 3."
                                },
                                {
                                    "SZALLAS_ID": "14",
                                    "SZALLAS_NEV": "Nyárfás Vendégház",
                                    "HELY": "Csongrád megye",
                                    "CSILLAGOK_SZAMA": "0",
                                    "TIPUS": "vendégház",
                                    "ROGZITETTE": "Béla",
                                    "ROGZ_IDO": "2016-03-27",
                                    "CIM": "6723 Szeged, Nagy u. 12."
                                },
                                {
                                    "SZALLAS_ID": "15",
                                    "SZALLAS_NEV": "Tímárház Panzió",
                                    "HELY": "Balaton-dél",
                                    "CSILLAGOK_SZAMA": "3",
                                    "TIPUS": "panzió",
                                    "ROGZITETTE": "Béla",
                                    "ROGZ_IDO": "2016-03-29",
                                    "CIM": "8600 Siófok, Virág utca 1"
                                },
                                {
                                    "SZALLAS_ID": "16",
                                    "SZALLAS_NEV": "Bagoly Hotel",
                                    "HELY": "Pest megye",
                                    "CSILLAGOK_SZAMA": "3",
                                    "TIPUS": "Hotel",
                                    "ROGZITETTE": "Mari",
                                    "ROGZ_IDO": "2016-04-01",
                                    "CIM": "2230 Gyömrő, Bergszász u. 5."
                                },
                                {
                                    "SZALLAS_ID": "17",
                                    "SZALLAS_NEV": "Szarvas Hotel",
                                    "HELY": "Tolna megye",
                                    "CSILLAGOK_SZAMA": "4",
                                    "TIPUS": "Hotel",
                                    "ROGZITETTE": "Béla",
                                    "ROGZ_IDO": "2016-04-04",
                                    "CIM": "7121 Szálka, Petőfi Sándor u."
                                },
                                {
                                    "SZALLAS_ID": "18",
                                    "SZALLAS_NEV": "Fortuna Apartman",
                                    "HELY": "Dél-Somogy",
                                    "CSILLAGOK_SZAMA": "0",
                                    "TIPUS": "Apartman",
                                    "ROGZITETTE": "Béla",
                                    "ROGZ_IDO": "2016-04-07",
                                    "CIM": "7570 Barcs, Kossuth u. 13."
                                },
                                {
                                    "SZALLAS_ID": "19",
                                    "SZALLAS_NEV": "Nyárfás Vendégház",
                                    "HELY": "Dél-Somogy",
                                    "CSILLAGOK_SZAMA": "0",
                                    "TIPUS": "vendégház",
                                    "ROGZITETTE": "Sára",
                                    "ROGZ_IDO": "2016-04-07",
                                    "CIM": "7570 Barcs, Bajcsy-Zs. u. 53"
                                },
                                {
                                    "SZALLAS_ID": "20",
                                    "SZALLAS_NEV": "Kollégium",
                                    "HELY": "Budapest",
                                    "CSILLAGOK_SZAMA": "0",
                                    "TIPUS": "Diákszálló",
                                    "ROGZITETTE": "Sára",
                                    "ROGZ_IDO": "2016-04-07",
                                    "CIM": "1146 Budapest, Ajtósi Dürer sor 23."
                                },
                                {
                                    "SZALLAS_ID": "21",
                                    "SZALLAS_NEV": "Müller Vendégház",
                                    "HELY": "Dél-Somogy",
                                    "CSILLAGOK_SZAMA": "0",
                                    "TIPUS": "vendégház",
                                    "ROGZITETTE": "Béla",
                                    "ROGZ_IDO": "2016-04-07",
                                    "CIM": "7570 Barcs, Magyar u. 10."
                                }
                            ]
                        },
                        "text/html": "<table><tr><th>SZALLAS_ID</th><th>SZALLAS_NEV</th><th>HELY</th><th>CSILLAGOK_SZAMA</th><th>TIPUS</th><th>ROGZITETTE</th><th>ROGZ_IDO</th><th>CIM</th></tr><tr><td>1</td><td>Sába-Ház</td><td>Balaton-dél</td><td>0</td><td>vendégház</td><td>Béla</td><td>2016-02-28</td><td>8630 Balatonboglár, Radnóti Miklós utca 8</td></tr><tr><td>2</td><td>Családi Ház</td><td>Balaton-dél</td><td>0</td><td>vendégház</td><td>Béla</td><td>2016-03-02</td><td>8630 Balatonboglár, József Attila utca 25</td></tr><tr><td>3</td><td>Fortuna Apartman</td><td>Hajdúbihar megye</td><td>0</td><td>Apartman</td><td>Sára</td><td>2016-03-06</td><td>4200 Hajdúszoboszló, Wesselényi utca 56.</td></tr><tr><td>4</td><td>Fortuna panzió</td><td>Budapest</td><td>3</td><td>panzió</td><td>Béla</td><td>2016-03-07</td><td>1019 Budapest XIV. Cinkotai út 86.</td></tr><tr><td>5</td><td>Fortuna Panzió</td><td>Békés megye</td><td>3</td><td>panzió</td><td>Sára</td><td>2016-03-08</td><td>5900 Orosháza, Gyopárosfürdő Tópart utca 3.</td></tr><tr><td>6</td><td>Kentaur Hotel</td><td>Balaton-dél</td><td>3</td><td>Hotel</td><td>Béla</td><td>2016-03-08</td><td>8600 Siófok (Széplak), Akácfa utca 1</td></tr><tr><td>7</td><td>Szieszta Apartmanház</td><td>Balaton-dél</td><td>0</td><td>Apartman</td><td>Mari</td><td>2016-03-11</td><td>8630 Balatonboglár, Dózsa György utca 108</td></tr><tr><td>8</td><td>Hotel Három Hattyú</td><td>Balaton-dél</td><td>4</td><td>Hotel</td><td>Béla</td><td>2016-03-13</td><td>8623 Balatonföldvár, Rákóczi Ferenc út 45.</td></tr><tr><td>9</td><td>Jáde panzió</td><td>Balaton-dél</td><td>3</td><td>panzió</td><td>Mari</td><td>2016-03-16</td><td>8624 Balatonföldvár, Kiss u.2.</td></tr><tr><td>10</td><td>Lagúna Hotel</td><td>Budapest</td><td>4</td><td>Hotel</td><td>Sára</td><td>2016-03-20</td><td>1097 Budapest, Albert Flórián út 3</td></tr><tr><td>11</td><td>Partiszél Vendégház</td><td>Balaton-észak</td><td>0</td><td>vendégház</td><td>Béla</td><td>2016-03-22</td><td>8220 Balatonalmádi Neptun u. 23.</td></tr><tr><td>12</td><td>Gold Hotel</td><td>Budapest</td><td>3</td><td>Hotel</td><td>Béla</td><td>2016-03-24</td><td>1016 Budapest, Hegyalja út 12</td></tr><tr><td>13</td><td>Riviéra Panzió</td><td>Csongrád megye</td><td>3</td><td>panzió</td><td>Sára</td><td>2016-03-27</td><td>6722 Szeged, Petőfi Sándor út 3.</td></tr><tr><td>14</td><td>Nyárfás Vendégház</td><td>Csongrád megye</td><td>0</td><td>vendégház</td><td>Béla</td><td>2016-03-27</td><td>6723 Szeged, Nagy u. 12.</td></tr><tr><td>15</td><td>Tímárház Panzió</td><td>Balaton-dél</td><td>3</td><td>panzió</td><td>Béla</td><td>2016-03-29</td><td>8600 Siófok, Virág utca 1</td></tr><tr><td>16</td><td>Bagoly Hotel</td><td>Pest megye</td><td>3</td><td>Hotel</td><td>Mari</td><td>2016-04-01</td><td>2230 Gyömrő, Bergszász u. 5.</td></tr><tr><td>17</td><td>Szarvas Hotel</td><td>Tolna megye</td><td>4</td><td>Hotel</td><td>Béla</td><td>2016-04-04</td><td>7121 Szálka, Petőfi Sándor u.</td></tr><tr><td>18</td><td>Fortuna Apartman</td><td>Dél-Somogy</td><td>0</td><td>Apartman</td><td>Béla</td><td>2016-04-07</td><td>7570 Barcs, Kossuth u. 13.</td></tr><tr><td>19</td><td>Nyárfás Vendégház</td><td>Dél-Somogy</td><td>0</td><td>vendégház</td><td>Sára</td><td>2016-04-07</td><td>7570 Barcs, Bajcsy-Zs. u. 53</td></tr><tr><td>20</td><td>Kollégium</td><td>Budapest</td><td>0</td><td>Diákszálló</td><td>Sára</td><td>2016-04-07</td><td>1146 Budapest, Ajtósi Dürer sor 23.</td></tr><tr><td>21</td><td>Müller Vendégház</td><td>Dél-Somogy</td><td>0</td><td>vendégház</td><td>Béla</td><td>2016-04-07</td><td>7570 Barcs, Magyar u. 10.</td></tr></table>"
                    },
                    "metadata": {}
                }
            ],
            "execution_count": 5
        }
    ]
}