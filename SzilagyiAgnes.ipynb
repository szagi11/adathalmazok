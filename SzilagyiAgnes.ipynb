{
    "metadata": {
        "kernelspec": {
            "name": "SQL",
            "display_name": "SQL",
            "language": "sql"
        },
        "language_info": {
            "name": "sql",
            "version": ""
        }
    },
    "nbformat_minor": 2,
    "nbformat": 4,
    "cells": [
        {
            "cell_type": "code",
            "source": [
                "SELECT szh.TIPUS, \r\n",
                "        COUNT(f.FOGLALAS_PK)\r\n",
                "FROM Foglalas f JOIN Szoba sz ON f.SZOBA_FK = sz.SZOBA_ID\r\n",
                "                JOIN Szallashely szh ON sz.SZALLAS_FK = szh.SZALLAS_ID\r\n",
                "GROUP BY szh.TIPUS\r\n",
                "--HAVING ROUND(COUNT(f.FOGLALAS_PK)) < 500 "
            ],
            "metadata": {
                "azdata_cell_guid": "2da7f2e4-5f4c-405a-837c-c05aa8bbc73d",
                "language": "sql"
            },
            "outputs": [
                {
                    "output_type": "display_data",
                    "data": {
                        "text/html": "(4 rows affected)"
                    },
                    "metadata": {}
                },
                {
                    "output_type": "display_data",
                    "data": {
                        "text/html": "Total execution time: 00:00:00.010"
                    },
                    "metadata": {}
                },
                {
                    "output_type": "execute_result",
                    "metadata": {},
                    "execution_count": 22,
                    "data": {
                        "application/vnd.dataresource+json": {
                            "schema": {
                                "fields": [
                                    {
                                        "name": "TIPUS"
                                    },
                                    {
                                        "name": "(No column name)"
                                    }
                                ]
                            },
                            "data": [
                                {
                                    "TIPUS": "Apartman",
                                    "(No column name)": "73"
                                },
                                {
                                    "TIPUS": "Hotel",
                                    "(No column name)": "685"
                                },
                                {
                                    "TIPUS": "vendégház",
                                    "(No column name)": "114"
                                },
                                {
                                    "TIPUS": "panzió",
                                    "(No column name)": "155"
                                }
                            ]
                        },
                        "text/html": [
                            "<table>",
                            "<tr><th>TIPUS</th><th>(No column name)</th></tr>",
                            "<tr><td>Apartman</td><td>73</td></tr>",
                            "<tr><td>Hotel</td><td>685</td></tr>",
                            "<tr><td>vendégház</td><td>114</td></tr>",
                            "<tr><td>panzió</td><td>155</td></tr>",
                            "</table>"
                        ]
                    }
                }
            ],
            "execution_count": 22
        },
        {
            "cell_type": "code",
            "source": [
                "SELECT szh.szallas_nev\r\n",
                "    CASE \r\n",
                "        WHEN szh.TIPUS = 'panzió' THEN 'IGEN'\r\n",
                "        ELSE 'NEM'\r\n",
                "        END\r\n",
                "FROM Szallashely szh JOIN Szoba sz ON sz.SZALLAS_FK = szh.SZALLAS_ID\r\n",
                "                    JOIN Foglalas f ON f.SZOBA_FK = sz.SZOBA_ID   \r\n",
                "WHERE f.FOGLALAS_PK IS NULL"
            ],
            "metadata": {
                "azdata_cell_guid": "6eab5ca5-b4fa-40c7-8616-a548be1b1a0e",
                "language": "sql"
            },
            "outputs": [
                {
                    "output_type": "error",
                    "evalue": "Msg 156, Level 15, State 1, Line 2\r\nIncorrect syntax near the keyword 'CASE'.",
                    "ename": "",
                    "traceback": []
                },
                {
                    "output_type": "display_data",
                    "data": {
                        "text/html": "Total execution time: 00:00:00.002"
                    },
                    "metadata": {}
                }
            ],
            "execution_count": 39
        }
    ]
}